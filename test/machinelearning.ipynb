{
 "cells": [
  {
   "cell_type": "markdown",
   "metadata": {},
   "source": [
    "# Cinemática Direta"
   ]
  },
  {
   "cell_type": "code",
   "execution_count": 102,
   "metadata": {},
   "outputs": [],
   "source": [
    "from numpy import array\n",
    "from numpy import radians as npradians\n",
    "from sympy import sin, cos, Matrix,symbols, simplify, nsimplify, eye,Symbol\n",
    "from math import radians\n",
    "\n",
    "class Elo:\n",
    "  # Construtor da classe Elo\n",
    "  def __init__(self,theta,d,a,alpha,phase):\n",
    "    self.theta = theta\n",
    "    self.d = d\n",
    "    self.a = a\n",
    "    self.alpha = alpha\n",
    "    self.phase = phase\n",
    "\n",
    "class Robo:\n",
    "  # Construtor da classe\n",
    "  def __init__(self,nameBot,elos):\n",
    "    self.nameBot = nameBot\n",
    "    self.series = self.__series_link(elos)\n",
    "    self.matrixForwardKinematics = self.__homogeneous_transformations()\n",
    "    self.joinName = self.__join_names()\n",
    "    self.__simplifForwardKinematics = None\n",
    "\n",
    "  # Método privado para criar a cadeia cinemática de elos. Obs: tenho que deixar mais generalista. Apenas juntas rotativas estão valendo\n",
    "  def __series_link(self,elos):\n",
    "    series = []\n",
    "    for elemento in elos:\n",
    "      series.append(Elo(symbols(elemento[0], real = True),elemento[1],elemento[2],elemento[3],elemento[4]))\n",
    "    return series\n",
    "\n",
    "  # Método privado para criar uma matriz de transformação homogênea de DH genérica\n",
    "  def __matrix_homogeneous_transformations(self,theta, d, a, alpha):\n",
    "    alpha = radians(alpha)\n",
    "    r = 5\n",
    "    # Matriz TH para a notação denavit-hartenberg\n",
    "    matrix = Matrix([\n",
    "            [cos(theta), -sin(theta) * cos(alpha).round(r), sin(theta) * sin(alpha).round(r), a * cos(theta)],\n",
    "            [sin(theta), cos(theta) * cos(alpha).round(r), -cos(theta) * sin(alpha).round(r), a * sin(theta)],\n",
    "            [0, sin(alpha).round(r), cos(alpha).round(r), d],\n",
    "            [0, 0, 0, 1]\n",
    "        ])\n",
    "    return matrix\n",
    "\n",
    "  # Método privado que define a matriz de tranformação total do manipulador\n",
    "  def __homogeneous_transformations(self):\n",
    "    # Inicializa a matriz transformação homogênea\n",
    "    matrix_TH = eye(4)\n",
    "    # Percorre os elos\n",
    "    for elo in self.series:\n",
    "      matrix = self.__matrix_homogeneous_transformations(elo.theta+radians(elo.phase),elo.d,elo.a,elo.alpha)\n",
    "      matrix_TH = matrix_TH @ matrix\n",
    "    return matrix_TH\n",
    "\n",
    "  # Método público que exibe e seta a matriz de transformação no formato reduzida\n",
    "  def show_matrix_ForwardKinematics(self):\n",
    "    # Simplifica uma unica vez e exibe nas proximas vezes a matriz homogenia\n",
    "    if self.__simplifForwardKinematics is None:\n",
    "      self.__simplifForwardKinematics = simplify(nsimplify(self.matrixForwardKinematics))\n",
    "      self.matrixForwardKinematics = self.__simplifForwardKinematics\n",
    "      return self.__simplifForwardKinematics\n",
    "    else:\n",
    "      return self.__simplifForwardKinematics\n",
    "\n",
    "  # Método privado que coleta as variáveis das juntas\n",
    "  def __join_names(self):\n",
    "    # Declara a variável como um conjunto para que só exista apenas uma varivel\n",
    "    joinName = []\n",
    "    # Percorre a cadeia cinemática de elos\n",
    "    for elo in self.series:\n",
    "      # Analisa cada atributo da classe elo\n",
    "      for att,val in elo.__dict__.items():\n",
    "        # Amazena o nome da variavel do atributo que é uma variável simbólica\n",
    "        if isinstance(val, Symbol):\n",
    "          joinName.append(val)\n",
    "    return joinName\n",
    "\n",
    "  # Método que retorna a matriz de transform\n",
    "  def frame_effector(self,pose):\n",
    "    joinName = self.joinName\n",
    "    pose = npradians(pose)\n",
    "    #if len(joinName) == len(pose):\n",
    "    data = dict(zip(joinName,pose))\n",
    "    return self.matrixForwardKinematics.evalf(subs=data).tolist()\n",
    "    #else:\n",
    "      #print(\"Número de valores é diferente das variáveis\")"
   ]
  },
  {
   "cell_type": "markdown",
   "metadata": {},
   "source": [
    "# Cinemática Inversa"
   ]
  },
  {
   "cell_type": "markdown",
   "metadata": {},
   "source": [
    "## Base de dados"
   ]
  },
  {
   "cell_type": "code",
   "execution_count": 69,
   "metadata": {},
   "outputs": [],
   "source": [
    "import os\n",
    "from pandas import read_csv\n",
    "from numpy import array\n",
    "class save:\n",
    "    def __init__(self,path_project):\n",
    "        self.path_project = path_project\n",
    "        \n",
    "    def dataframe(self,data,path):\n",
    "        path_data = os.path.join(self.path_project,path)\n",
    "        data.to_csv(path_data,index=False)\n",
    "\n",
    "class extract:\n",
    "    def __init__(self,path_project):\n",
    "        self.path_project = path_project\n",
    "\n",
    "    def dataframe(self,path):\n",
    "        path_data = os.path.join(self.path_project,path)\n",
    "        return read_csv(path_data)\n",
    "    \n",
    "def partition(dataset,axis):\n",
    "    return array(dataset.iloc[:,axis[0]:axis[1]])"
   ]
  },
  {
   "cell_type": "code",
   "execution_count": 81,
   "metadata": {},
   "outputs": [],
   "source": [
    "import sys\n",
    "\n",
    "path_module = [r'C:\\Users\\je7560\\Downloads\\matheus\\kinematics-robotics\\src\\kinematicsrobotics',\n",
    "               r'C:\\Users\\mathe\\OneDrive\\Graduação - UFC\\Engenharia da Computação\\TCC\\Códigos e implementações\\V.2\\kinematics-robotics\\src\\kinematicsrobotics']\n",
    "sys.path.append(path_module[1])\n",
    "\n",
    "path_data = r'src\\data\\ready\\dataset-radius-1.25cm.csv'\n",
    "path_project = [r'C:\\Users\\mathe\\OneDrive\\Graduação - UFC\\Engenharia da Computação\\TCC\\Códigos e implementações\\V.2\\kinematics-robotics',\n",
    "                r'C:\\Users\\je7560\\Downloads\\matheus\\kinematics-robotics']\n",
    "\n",
    "ext = extract(path_project[0])\n",
    "\n",
    "dataset = ext.dataframe(path_data)\n",
    "\n",
    "y = partition(dataset,[0,4])\n",
    "x = partition(dataset,[5,11])"
   ]
  },
  {
   "cell_type": "markdown",
   "metadata": {},
   "source": [
    "### Análise da base de dados"
   ]
  },
  {
   "cell_type": "code",
   "execution_count": 71,
   "metadata": {},
   "outputs": [
    {
     "name": "stdout",
     "output_type": "stream",
     "text": [
      "Atributos e saídas:\n",
      " Index(['theta_1', 'theta_2', 'theta_3', 'theta_4', 'theta_5', 'p_x', 'p_y',\n",
      "       'p_z', 'roll', 'pich', 'yaw'],\n",
      "      dtype='object')\n",
      "\n",
      "Tamanho saída: (6889, 4)\n",
      "Tamanho entrada: (6889, 6)\n",
      "\n",
      "Primeiras sáidas:\n",
      "[[ 0  0 12  0]\n",
      " [ 0 12 12  0]\n",
      " [ 0 12 24  0]]\n",
      "\n",
      "Primeiras entrada:\n",
      "[[ 5.32133136e+01 -2.47712141e-15  2.51517913e+00  3.14159265e+00\n",
      "  -1.36135682e+00  2.75203954e-16]\n",
      " [ 5.36066568e+01 -1.78965176e-15  1.37424104e+01  2.37853137e+00\n",
      "  -1.57079633e+00  7.63061284e-01]\n",
      " [ 5.28199704e+01 -3.12453009e-15  6.25758957e+00  3.14159265e+00\n",
      "  -1.36135682e+00  2.37151833e-16]]\n",
      "\n"
     ]
    }
   ],
   "source": [
    "print(f'Atributos e saídas:\\n {dataset.columns}')\n",
    "print(f\"\\nTamanho saída: {y.shape}\\nTamanho entrada: {x.shape}\\n\")\n",
    "print(f\"Primeiras sáidas:\\n{y[0:3]}\\n\")\n",
    "print(f\"Primeiras entrada:\\n{x[0:3]}\\n\")\n"
   ]
  },
  {
   "cell_type": "markdown",
   "metadata": {},
   "source": [
    "## Pré-processamento dos dados"
   ]
  },
  {
   "cell_type": "code",
   "execution_count": 91,
   "metadata": {},
   "outputs": [],
   "source": [
    "from sklearn.model_selection import train_test_split\n",
    "from sklearn.preprocessing import StandardScaler\n",
    "from pandas import DataFrame\n",
    "\n",
    "def split(x, y, test_size):\n",
    "    return train_test_split(x, y, test_size=test_size)\n",
    "\n",
    "def zscore(dt_train,dt_test):\n",
    "    scaler = StandardScaler()\n",
    "    dt_train = scaler.fit_transform(dt_train)\n",
    "    dt_test = scaler.transform(dt_test)\n",
    "    \n",
    "    return dt_train, dt_test, scaler\n",
    "\n",
    "def statics_data_split(scaler):\n",
    "    return DataFrame({'Média': scaler.mean_, 'Desvio Padrão': scaler.scale_})\n",
    "\n"
   ]
  },
  {
   "cell_type": "code",
   "execution_count": 92,
   "metadata": {},
   "outputs": [],
   "source": [
    "size_train = 0.7\n",
    "size_val = 0.2\n",
    "size_test = 0.1\n",
    "\n",
    "x_train, x_test, y_train, y_test = split(x,y,test_size=size_test)\n",
    "\n",
    "\n",
    "x_train, x_test, scaler_x = zscore(x_train,x_test)\n",
    "\n",
    "y_train, _, scaler_y = zscore(y_train,y_test)"
   ]
  },
  {
   "cell_type": "markdown",
   "metadata": {},
   "source": [
    "#### info"
   ]
  },
  {
   "cell_type": "code",
   "execution_count": 93,
   "metadata": {},
   "outputs": [
    {
     "data": {
      "text/html": [
       "<div>\n",
       "<style scoped>\n",
       "    .dataframe tbody tr th:only-of-type {\n",
       "        vertical-align: middle;\n",
       "    }\n",
       "\n",
       "    .dataframe tbody tr th {\n",
       "        vertical-align: top;\n",
       "    }\n",
       "\n",
       "    .dataframe thead th {\n",
       "        text-align: right;\n",
       "    }\n",
       "</style>\n",
       "<table border=\"1\" class=\"dataframe\">\n",
       "  <thead>\n",
       "    <tr style=\"text-align: right;\">\n",
       "      <th></th>\n",
       "      <th>Média</th>\n",
       "      <th>Desvio Padrão</th>\n",
       "    </tr>\n",
       "  </thead>\n",
       "  <tbody>\n",
       "    <tr>\n",
       "      <th>0</th>\n",
       "      <td>8.227073</td>\n",
       "      <td>20.169702</td>\n",
       "    </tr>\n",
       "    <tr>\n",
       "      <th>1</th>\n",
       "      <td>14.207571</td>\n",
       "      <td>22.235937</td>\n",
       "    </tr>\n",
       "    <tr>\n",
       "      <th>2</th>\n",
       "      <td>33.911014</td>\n",
       "      <td>16.585681</td>\n",
       "    </tr>\n",
       "    <tr>\n",
       "      <th>3</th>\n",
       "      <td>0.548008</td>\n",
       "      <td>1.624623</td>\n",
       "    </tr>\n",
       "    <tr>\n",
       "      <th>4</th>\n",
       "      <td>-0.509291</td>\n",
       "      <td>1.020346</td>\n",
       "    </tr>\n",
       "    <tr>\n",
       "      <th>5</th>\n",
       "      <td>-0.907337</td>\n",
       "      <td>1.709544</td>\n",
       "    </tr>\n",
       "  </tbody>\n",
       "</table>\n",
       "</div>"
      ],
      "text/plain": [
       "       Média  Desvio Padrão\n",
       "0   8.227073      20.169702\n",
       "1  14.207571      22.235937\n",
       "2  33.911014      16.585681\n",
       "3   0.548008       1.624623\n",
       "4  -0.509291       1.020346\n",
       "5  -0.907337       1.709544"
      ]
     },
     "execution_count": 93,
     "metadata": {},
     "output_type": "execute_result"
    }
   ],
   "source": [
    "statics_x = statics_data_split(scaler_x)\n",
    "statics_x"
   ]
  },
  {
   "cell_type": "code",
   "execution_count": 94,
   "metadata": {},
   "outputs": [
    {
     "data": {
      "text/html": [
       "<div>\n",
       "<style scoped>\n",
       "    .dataframe tbody tr th:only-of-type {\n",
       "        vertical-align: middle;\n",
       "    }\n",
       "\n",
       "    .dataframe tbody tr th {\n",
       "        vertical-align: top;\n",
       "    }\n",
       "\n",
       "    .dataframe thead th {\n",
       "        text-align: right;\n",
       "    }\n",
       "</style>\n",
       "<table border=\"1\" class=\"dataframe\">\n",
       "  <thead>\n",
       "    <tr style=\"text-align: right;\">\n",
       "      <th></th>\n",
       "      <th>Média</th>\n",
       "      <th>Desvio Padrão</th>\n",
       "    </tr>\n",
       "  </thead>\n",
       "  <tbody>\n",
       "    <tr>\n",
       "      <th>0</th>\n",
       "      <td>60.790463</td>\n",
       "      <td>36.434209</td>\n",
       "    </tr>\n",
       "    <tr>\n",
       "      <th>1</th>\n",
       "      <td>82.802256</td>\n",
       "      <td>32.009458</td>\n",
       "    </tr>\n",
       "    <tr>\n",
       "      <th>2</th>\n",
       "      <td>60.393779</td>\n",
       "      <td>34.673457</td>\n",
       "    </tr>\n",
       "    <tr>\n",
       "      <th>3</th>\n",
       "      <td>36.855238</td>\n",
       "      <td>36.876788</td>\n",
       "    </tr>\n",
       "  </tbody>\n",
       "</table>\n",
       "</div>"
      ],
      "text/plain": [
       "       Média  Desvio Padrão\n",
       "0  60.790463      36.434209\n",
       "1  82.802256      32.009458\n",
       "2  60.393779      34.673457\n",
       "3  36.855238      36.876788"
      ]
     },
     "execution_count": 94,
     "metadata": {},
     "output_type": "execute_result"
    }
   ],
   "source": [
    "statics_y = statics_data_split(scaler_y)\n",
    "statics_y"
   ]
  },
  {
   "cell_type": "markdown",
   "metadata": {},
   "source": [
    "#### Análises"
   ]
  },
  {
   "cell_type": "code",
   "execution_count": 95,
   "metadata": {},
   "outputs": [
    {
     "name": "stdout",
     "output_type": "stream",
     "text": [
      "treino: 0.7\n",
      "Teste: 0.1\n",
      "Validação: 0.2\n",
      "Tamanho dos dados de treino: 5851\n",
      "Tamanho dos dados de teste: 651\n"
     ]
    }
   ],
   "source": [
    "print(f\"treino: {size_train}\\nTeste: {size_test}\\nValidação: {size_val}\")\n",
    "print(f\"Tamanho dos dados de treino: {len(x_train)}\")\n",
    "print(f\"Tamanho dos dados de teste: {len(x_test)}\")"
   ]
  },
  {
   "cell_type": "markdown",
   "metadata": {},
   "source": [
    "## Modelos"
   ]
  },
  {
   "cell_type": "code",
   "execution_count": 7,
   "metadata": {},
   "outputs": [],
   "source": [
    "from sklearn.neural_network import MLPRegressor\n",
    "def MLP():\n",
    "    # Número máximo de épocas durante o treinamento.\n",
    "    EPOCHS = 1000\n",
    "    # Número máximo de épocas sem mudança\n",
    "    EPOCHS_NOCHANGE = 5\n",
    "    # tolerância para a otimização\n",
    "    ERROR = 1e-4\n",
    "    model = MLPRegressor(max_iter = EPOCHS,\n",
    "                         tol = ERROR,\n",
    "                         n_iter_no_change = EPOCHS_NOCHANGE,\n",
    "                         early_stopping = True,\n",
    "                         verbose=False,\n",
    "                         random_state=42)\n",
    "    return model"
   ]
  },
  {
   "cell_type": "markdown",
   "metadata": {},
   "source": [
    "#### Informações"
   ]
  },
  {
   "cell_type": "code",
   "execution_count": 8,
   "metadata": {},
   "outputs": [
    {
     "data": {
      "text/plain": [
       "{'activation': 'relu',\n",
       " 'alpha': 0.0001,\n",
       " 'batch_size': 'auto',\n",
       " 'beta_1': 0.9,\n",
       " 'beta_2': 0.999,\n",
       " 'early_stopping': True,\n",
       " 'epsilon': 1e-08,\n",
       " 'hidden_layer_sizes': (100,),\n",
       " 'learning_rate': 'constant',\n",
       " 'learning_rate_init': 0.001,\n",
       " 'max_fun': 15000,\n",
       " 'max_iter': 1000,\n",
       " 'momentum': 0.9,\n",
       " 'n_iter_no_change': 5,\n",
       " 'nesterovs_momentum': True,\n",
       " 'power_t': 0.5,\n",
       " 'random_state': 42,\n",
       " 'shuffle': True,\n",
       " 'solver': 'adam',\n",
       " 'tol': 0.0001,\n",
       " 'validation_fraction': 0.1,\n",
       " 'verbose': False,\n",
       " 'warm_start': False}"
      ]
     },
     "execution_count": 8,
     "metadata": {},
     "output_type": "execute_result"
    }
   ],
   "source": [
    "model = MLP()\n",
    "model.get_params()"
   ]
  },
  {
   "cell_type": "markdown",
   "metadata": {},
   "source": [
    "## Estimação dos hiperparâmetros"
   ]
  },
  {
   "cell_type": "code",
   "execution_count": 83,
   "metadata": {},
   "outputs": [],
   "source": [
    "from sklearn.model_selection import ShuffleSplit,RandomizedSearchCV,GridSearchCV\n",
    "from itertools import product\n",
    "from sklearn.metrics import mean_squared_error,r2_score\n",
    "from pandas import DataFrame\n",
    "\n",
    "# Calcula a porcentagem relativa dos dados de treino e validação\n",
    "def size_split(size_train,size_val):\n",
    "    size_val = (1 - size_train/(size_train+size_val))\n",
    "    return size_val\n",
    "\n",
    "# Espaço de busca dos neurônios\n",
    "def space_hidden(min_neurons,max_neurons,layers,step):\n",
    "    # Lista que armazena os neurônios\n",
    "    neuron_space = []\n",
    "    \n",
    "    # Gera a lista de possíveis números de neurônios em cada camada\n",
    "    possible_neurons = list(range(min_neurons, max_neurons + 1,step))\n",
    "    \n",
    "    # Crie todas as combinações possíveis\n",
    "    for num_layers in layers:\n",
    "        neuron_combinations = list(product(possible_neurons, repeat=num_layers))\n",
    "        neuron_space.extend(neuron_combinations)\n",
    "\n",
    "    return neuron_space\n",
    "\n",
    "# Parâmetro da rede mlp\n",
    "def parameter_mlp(min_neurons,max_neurons,layers,step,func_act): \n",
    "    # Dicionário que armazena os hiperparâmetros\n",
    "    param_grid = {\n",
    "        'hidden_layer_sizes': space_hidden(min_neurons, max_neurons,layers,step),\n",
    "        'activation': func_act\n",
    "    }\n",
    "\n",
    "    return param_grid\n",
    "\n",
    "# Random Search\n",
    "def RandomizedSearch(x, y, model, param_grid, scoring,cv, n_iter):\n",
    "    # Configura os parâmetros da técnica de otimização \n",
    "    random_search = RandomizedSearchCV(estimator=model, \n",
    "                                       param_distributions=param_grid, \n",
    "                                       scoring=scoring, \n",
    "                                       cv=cv, \n",
    "                                       n_iter=n_iter, \n",
    "                                       random_state=42, \n",
    "                                       return_train_score=True,\n",
    "                                       verbose=0)\n",
    "    \n",
    "    # Treina os modelos\n",
    "    random_search.fit(x, y)\n",
    "\n",
    "    # DataFrame que armazena os resultado dos hiperparâmetros\n",
    "    history = DataFrame(random_search.cv_results_)\n",
    "\n",
    "    # Melhor hiperparâmetro\n",
    "    best_estimator = random_search.best_estimator_\n",
    "\n",
    "    return history,best_estimator\n",
    "\n",
    "# Grid Search\n",
    "def GridSearch(x, y, model, param_grid, scoring, cv):\n",
    "    # Configura os parâmetros da técnica de otimização \n",
    "    gridshearch = GridSearchCV(estimator=model,\n",
    "                               param_grid=param_grid,\n",
    "                               cv=cv,\n",
    "                               scoring=scoring,\n",
    "                               verbose=0,\n",
    "                               return_train_score=True)\n",
    "    \n",
    "    # Treina os modelos\n",
    "    gridshearch.fit(x, y)\n",
    "    \n",
    "    # Armazena os resultado dos hiperparâmetros\n",
    "    history = DataFrame(gridshearch.cv_results_)\n",
    "    \n",
    "    best_estimator = gridshearch.best_estimator_\n",
    "\n",
    "    return history,best_estimator\n",
    "\n",
    "# Validação cruzada hold out\n",
    "def holdout(n_splits,test_size):\n",
    "    return ShuffleSplit(n_splits=n_splits, \n",
    "                      test_size=test_size, \n",
    "                      random_state=42)\n",
    "\n"
   ]
  },
  {
   "cell_type": "code",
   "execution_count": 10,
   "metadata": {},
   "outputs": [],
   "source": [
    "# Salvar as métricas \n",
    "sv = save(path_project[0])\n",
    "path_data_save =  r'src\\data\\ready\\history.csv'\n",
    "\n",
    "# Dados de treino e validação\n",
    "size_val = size_split(size_train,size_val)\n",
    "\n",
    "# Espaço de busca do grid search\n",
    "min_neurons= 50\n",
    "max_neurons = 300\n",
    "step = 10\n",
    "layers = [2,3]\n",
    "func_act =  ['relu', 'tanh']\n",
    "\n",
    "param_grid = parameter_mlp(min_neurons = min_neurons,\n",
    "                           max_neurons = max_neurons,\n",
    "                           layers=layers,\n",
    "                           step=step,\n",
    "                           func_act=func_act)\n",
    "\n",
    "\n",
    "# validação cruzada hold out\n",
    "n_splits = 5\n",
    "\n",
    "# Número de amostras selecionadas no espaço de busca\n",
    "n_iter = 1000\n",
    "\n",
    "# Técnica de validação\n",
    "cv = holdout(n_splits,size_val)\n",
    "\n",
    "# inicializando a rede\n",
    "mlp = MLP()\n",
    "\n",
    "# APlicação do grid search\n",
    "history,best_model = RandomizedSearch(x=x_train, \n",
    "                           y=y_train, \n",
    "                           model=mlp, \n",
    "                           param_grid=param_grid,\n",
    "                           scoring = 'neg_mean_squared_error', \n",
    "                           cv=cv,\n",
    "                           n_iter = n_iter)\n",
    "\n",
    "\n",
    "sv.dataframe(history,path_data_save)\n",
    "\n"
   ]
  },
  {
   "cell_type": "markdown",
   "metadata": {},
   "source": [
    "### Infomações"
   ]
  },
  {
   "cell_type": "code",
   "execution_count": 22,
   "metadata": {},
   "outputs": [
    {
     "name": "stdout",
     "output_type": "stream",
     "text": [
      "Número de parametros de camada oculta: 204183\n",
      "Atributos do retorno da gridsearsh: Index(['mean_fit_time', 'std_fit_time', 'mean_score_time', 'std_score_time',\n",
      "       'param_hidden_layer_sizes', 'param_activation', 'params',\n",
      "       'split0_test_score', 'split1_test_score', 'split2_test_score',\n",
      "       'split3_test_score', 'split4_test_score', 'mean_test_score',\n",
      "       'std_test_score', 'rank_test_score', 'split0_train_score',\n",
      "       'split1_train_score', 'split2_train_score', 'split3_train_score',\n",
      "       'split4_train_score', 'mean_train_score', 'std_train_score'],\n",
      "      dtype='object')\n"
     ]
    }
   ],
   "source": [
    "print(f\"Número de parametros de camada oculta: {len(param_grid['hidden_layer_sizes'])}\")\n",
    "print(f\"Atributos do retorno da gridsearsh: {history.columns}\")"
   ]
  },
  {
   "cell_type": "code",
   "execution_count": 26,
   "metadata": {},
   "outputs": [
    {
     "data": {
      "text/html": [
       "<style>#sk-container-id-2 {color: black;background-color: white;}#sk-container-id-2 pre{padding: 0;}#sk-container-id-2 div.sk-toggleable {background-color: white;}#sk-container-id-2 label.sk-toggleable__label {cursor: pointer;display: block;width: 100%;margin-bottom: 0;padding: 0.3em;box-sizing: border-box;text-align: center;}#sk-container-id-2 label.sk-toggleable__label-arrow:before {content: \"▸\";float: left;margin-right: 0.25em;color: #696969;}#sk-container-id-2 label.sk-toggleable__label-arrow:hover:before {color: black;}#sk-container-id-2 div.sk-estimator:hover label.sk-toggleable__label-arrow:before {color: black;}#sk-container-id-2 div.sk-toggleable__content {max-height: 0;max-width: 0;overflow: hidden;text-align: left;background-color: #f0f8ff;}#sk-container-id-2 div.sk-toggleable__content pre {margin: 0.2em;color: black;border-radius: 0.25em;background-color: #f0f8ff;}#sk-container-id-2 input.sk-toggleable__control:checked~div.sk-toggleable__content {max-height: 200px;max-width: 100%;overflow: auto;}#sk-container-id-2 input.sk-toggleable__control:checked~label.sk-toggleable__label-arrow:before {content: \"▾\";}#sk-container-id-2 div.sk-estimator input.sk-toggleable__control:checked~label.sk-toggleable__label {background-color: #d4ebff;}#sk-container-id-2 div.sk-label input.sk-toggleable__control:checked~label.sk-toggleable__label {background-color: #d4ebff;}#sk-container-id-2 input.sk-hidden--visually {border: 0;clip: rect(1px 1px 1px 1px);clip: rect(1px, 1px, 1px, 1px);height: 1px;margin: -1px;overflow: hidden;padding: 0;position: absolute;width: 1px;}#sk-container-id-2 div.sk-estimator {font-family: monospace;background-color: #f0f8ff;border: 1px dotted black;border-radius: 0.25em;box-sizing: border-box;margin-bottom: 0.5em;}#sk-container-id-2 div.sk-estimator:hover {background-color: #d4ebff;}#sk-container-id-2 div.sk-parallel-item::after {content: \"\";width: 100%;border-bottom: 1px solid gray;flex-grow: 1;}#sk-container-id-2 div.sk-label:hover label.sk-toggleable__label {background-color: #d4ebff;}#sk-container-id-2 div.sk-serial::before {content: \"\";position: absolute;border-left: 1px solid gray;box-sizing: border-box;top: 0;bottom: 0;left: 50%;z-index: 0;}#sk-container-id-2 div.sk-serial {display: flex;flex-direction: column;align-items: center;background-color: white;padding-right: 0.2em;padding-left: 0.2em;position: relative;}#sk-container-id-2 div.sk-item {position: relative;z-index: 1;}#sk-container-id-2 div.sk-parallel {display: flex;align-items: stretch;justify-content: center;background-color: white;position: relative;}#sk-container-id-2 div.sk-item::before, #sk-container-id-2 div.sk-parallel-item::before {content: \"\";position: absolute;border-left: 1px solid gray;box-sizing: border-box;top: 0;bottom: 0;left: 50%;z-index: -1;}#sk-container-id-2 div.sk-parallel-item {display: flex;flex-direction: column;z-index: 1;position: relative;background-color: white;}#sk-container-id-2 div.sk-parallel-item:first-child::after {align-self: flex-end;width: 50%;}#sk-container-id-2 div.sk-parallel-item:last-child::after {align-self: flex-start;width: 50%;}#sk-container-id-2 div.sk-parallel-item:only-child::after {width: 0;}#sk-container-id-2 div.sk-dashed-wrapped {border: 1px dashed gray;margin: 0 0.4em 0.5em 0.4em;box-sizing: border-box;padding-bottom: 0.4em;background-color: white;}#sk-container-id-2 div.sk-label label {font-family: monospace;font-weight: bold;display: inline-block;line-height: 1.2em;}#sk-container-id-2 div.sk-label-container {text-align: center;}#sk-container-id-2 div.sk-container {/* jupyter's `normalize.less` sets `[hidden] { display: none; }` but bootstrap.min.css set `[hidden] { display: none !important; }` so we also need the `!important` here to be able to override the default hidden behavior on the sphinx rendered scikit-learn.org. See: https://github.com/scikit-learn/scikit-learn/issues/21755 */display: inline-block !important;position: relative;}#sk-container-id-2 div.sk-text-repr-fallback {display: none;}</style><div id=\"sk-container-id-2\" class=\"sk-top-container\"><div class=\"sk-text-repr-fallback\"><pre>MLPRegressor(early_stopping=True, hidden_layer_sizes=(220, 120, 210, 210),\n",
       "             max_iter=1000, n_iter_no_change=5, random_state=42)</pre><b>In a Jupyter environment, please rerun this cell to show the HTML representation or trust the notebook. <br />On GitHub, the HTML representation is unable to render, please try loading this page with nbviewer.org.</b></div><div class=\"sk-container\" hidden><div class=\"sk-item\"><div class=\"sk-estimator sk-toggleable\"><input class=\"sk-toggleable__control sk-hidden--visually\" id=\"sk-estimator-id-2\" type=\"checkbox\" checked><label for=\"sk-estimator-id-2\" class=\"sk-toggleable__label sk-toggleable__label-arrow\">MLPRegressor</label><div class=\"sk-toggleable__content\"><pre>MLPRegressor(early_stopping=True, hidden_layer_sizes=(220, 120, 210, 210),\n",
       "             max_iter=1000, n_iter_no_change=5, random_state=42)</pre></div></div></div></div></div>"
      ],
      "text/plain": [
       "MLPRegressor(early_stopping=True, hidden_layer_sizes=(220, 120, 210, 210),\n",
       "             max_iter=1000, n_iter_no_change=5, random_state=42)"
      ]
     },
     "execution_count": 26,
     "metadata": {},
     "output_type": "execute_result"
    }
   ],
   "source": [
    "best_model"
   ]
  },
  {
   "cell_type": "code",
   "execution_count": 27,
   "metadata": {},
   "outputs": [
    {
     "data": {
      "text/html": [
       "<div>\n",
       "<style scoped>\n",
       "    .dataframe tbody tr th:only-of-type {\n",
       "        vertical-align: middle;\n",
       "    }\n",
       "\n",
       "    .dataframe tbody tr th {\n",
       "        vertical-align: top;\n",
       "    }\n",
       "\n",
       "    .dataframe thead th {\n",
       "        text-align: right;\n",
       "    }\n",
       "</style>\n",
       "<table border=\"1\" class=\"dataframe\">\n",
       "  <thead>\n",
       "    <tr style=\"text-align: right;\">\n",
       "      <th></th>\n",
       "      <th>mean_test_score</th>\n",
       "      <th>std_test_score</th>\n",
       "      <th>mean_train_score</th>\n",
       "      <th>std_train_score</th>\n",
       "      <th>params</th>\n",
       "    </tr>\n",
       "  </thead>\n",
       "  <tbody>\n",
       "    <tr>\n",
       "      <th>0</th>\n",
       "      <td>-0.005603</td>\n",
       "      <td>0.000387</td>\n",
       "      <td>-0.004849</td>\n",
       "      <td>0.000581</td>\n",
       "      <td>{'hidden_layer_sizes': (220, 120, 210, 210), '...</td>\n",
       "    </tr>\n",
       "  </tbody>\n",
       "</table>\n",
       "</div>"
      ],
      "text/plain": [
       "   mean_test_score  std_test_score  mean_train_score  std_train_score  \\\n",
       "0        -0.005603        0.000387         -0.004849         0.000581   \n",
       "\n",
       "                                              params  \n",
       "0  {'hidden_layer_sizes': (220, 120, 210, 210), '...  "
      ]
     },
     "execution_count": 27,
     "metadata": {},
     "output_type": "execute_result"
    }
   ],
   "source": [
    "history[['mean_test_score','std_test_score','mean_train_score', 'std_train_score','params']]"
   ]
  },
  {
   "cell_type": "markdown",
   "metadata": {},
   "source": [
    "## Métricas de Avaliação"
   ]
  },
  {
   "cell_type": "code",
   "execution_count": 103,
   "metadata": {},
   "outputs": [],
   "source": [
    "from sklearn.metrics import mean_squared_error\n",
    "import matplotlib.pyplot as plt\n",
    "\n",
    "def predict_mse(y_predic,Y_test):    \n",
    "    return mean_squared_error(Y_test, y_predic,multioutput='raw_values')\n",
    "\n",
    "\n",
    "\n",
    "def curve_loss(model):\n",
    "    plt.plot(model.loss_curve_)\n",
    "    plt.title('Erro Quadratico')\n",
    "    plt.xlabel('Épocas')\n",
    "    plt.ylabel('MSE')\n",
    "    plt.show()\n",
    "\n",
    "def robo():\n",
    "    # Define os parâmetros DH para cada elo\n",
    "    Elos = [['theta_1',10,0,90,0],\n",
    "            ['theta_2',0,18,180,0],\n",
    "            ['theta_3',0,18,-180,0],\n",
    "\n",
    "            ['theta_4',0,0,90,90],\n",
    "            ['theta_5',18,0,0,0]]\n",
    "\n",
    "    # Cria o robo por meio dos parâmetros\n",
    "    return Robo('Robotest',Elos)\n",
    "\n"
   ]
  },
  {
   "cell_type": "markdown",
   "metadata": {},
   "source": [
    "## Treinamento, validação e teste do modelo selecionado"
   ]
  },
  {
   "cell_type": "code",
   "execution_count": 96,
   "metadata": {},
   "outputs": [],
   "source": [
    "path_data = r'src\\data\\ready\\history.csv'\n",
    "history = ext.dataframe(path_data)\n",
    "\n",
    "history_best = history[history['rank_test_score'] == 1]\n",
    "\n",
    "params = eval(history_best.iloc[0]['params'])"
   ]
  },
  {
   "cell_type": "code",
   "execution_count": 97,
   "metadata": {},
   "outputs": [
    {
     "data": {
      "text/html": [
       "<style>#sk-container-id-7 {color: black;background-color: white;}#sk-container-id-7 pre{padding: 0;}#sk-container-id-7 div.sk-toggleable {background-color: white;}#sk-container-id-7 label.sk-toggleable__label {cursor: pointer;display: block;width: 100%;margin-bottom: 0;padding: 0.3em;box-sizing: border-box;text-align: center;}#sk-container-id-7 label.sk-toggleable__label-arrow:before {content: \"▸\";float: left;margin-right: 0.25em;color: #696969;}#sk-container-id-7 label.sk-toggleable__label-arrow:hover:before {color: black;}#sk-container-id-7 div.sk-estimator:hover label.sk-toggleable__label-arrow:before {color: black;}#sk-container-id-7 div.sk-toggleable__content {max-height: 0;max-width: 0;overflow: hidden;text-align: left;background-color: #f0f8ff;}#sk-container-id-7 div.sk-toggleable__content pre {margin: 0.2em;color: black;border-radius: 0.25em;background-color: #f0f8ff;}#sk-container-id-7 input.sk-toggleable__control:checked~div.sk-toggleable__content {max-height: 200px;max-width: 100%;overflow: auto;}#sk-container-id-7 input.sk-toggleable__control:checked~label.sk-toggleable__label-arrow:before {content: \"▾\";}#sk-container-id-7 div.sk-estimator input.sk-toggleable__control:checked~label.sk-toggleable__label {background-color: #d4ebff;}#sk-container-id-7 div.sk-label input.sk-toggleable__control:checked~label.sk-toggleable__label {background-color: #d4ebff;}#sk-container-id-7 input.sk-hidden--visually {border: 0;clip: rect(1px 1px 1px 1px);clip: rect(1px, 1px, 1px, 1px);height: 1px;margin: -1px;overflow: hidden;padding: 0;position: absolute;width: 1px;}#sk-container-id-7 div.sk-estimator {font-family: monospace;background-color: #f0f8ff;border: 1px dotted black;border-radius: 0.25em;box-sizing: border-box;margin-bottom: 0.5em;}#sk-container-id-7 div.sk-estimator:hover {background-color: #d4ebff;}#sk-container-id-7 div.sk-parallel-item::after {content: \"\";width: 100%;border-bottom: 1px solid gray;flex-grow: 1;}#sk-container-id-7 div.sk-label:hover label.sk-toggleable__label {background-color: #d4ebff;}#sk-container-id-7 div.sk-serial::before {content: \"\";position: absolute;border-left: 1px solid gray;box-sizing: border-box;top: 0;bottom: 0;left: 50%;z-index: 0;}#sk-container-id-7 div.sk-serial {display: flex;flex-direction: column;align-items: center;background-color: white;padding-right: 0.2em;padding-left: 0.2em;position: relative;}#sk-container-id-7 div.sk-item {position: relative;z-index: 1;}#sk-container-id-7 div.sk-parallel {display: flex;align-items: stretch;justify-content: center;background-color: white;position: relative;}#sk-container-id-7 div.sk-item::before, #sk-container-id-7 div.sk-parallel-item::before {content: \"\";position: absolute;border-left: 1px solid gray;box-sizing: border-box;top: 0;bottom: 0;left: 50%;z-index: -1;}#sk-container-id-7 div.sk-parallel-item {display: flex;flex-direction: column;z-index: 1;position: relative;background-color: white;}#sk-container-id-7 div.sk-parallel-item:first-child::after {align-self: flex-end;width: 50%;}#sk-container-id-7 div.sk-parallel-item:last-child::after {align-self: flex-start;width: 50%;}#sk-container-id-7 div.sk-parallel-item:only-child::after {width: 0;}#sk-container-id-7 div.sk-dashed-wrapped {border: 1px dashed gray;margin: 0 0.4em 0.5em 0.4em;box-sizing: border-box;padding-bottom: 0.4em;background-color: white;}#sk-container-id-7 div.sk-label label {font-family: monospace;font-weight: bold;display: inline-block;line-height: 1.2em;}#sk-container-id-7 div.sk-label-container {text-align: center;}#sk-container-id-7 div.sk-container {/* jupyter's `normalize.less` sets `[hidden] { display: none; }` but bootstrap.min.css set `[hidden] { display: none !important; }` so we also need the `!important` here to be able to override the default hidden behavior on the sphinx rendered scikit-learn.org. See: https://github.com/scikit-learn/scikit-learn/issues/21755 */display: inline-block !important;position: relative;}#sk-container-id-7 div.sk-text-repr-fallback {display: none;}</style><div id=\"sk-container-id-7\" class=\"sk-top-container\"><div class=\"sk-text-repr-fallback\"><pre>MLPRegressor(early_stopping=True, hidden_layer_sizes=(120, 220, 290),\n",
       "             max_iter=1000, n_iter_no_change=5, random_state=42)</pre><b>In a Jupyter environment, please rerun this cell to show the HTML representation or trust the notebook. <br />On GitHub, the HTML representation is unable to render, please try loading this page with nbviewer.org.</b></div><div class=\"sk-container\" hidden><div class=\"sk-item\"><div class=\"sk-estimator sk-toggleable\"><input class=\"sk-toggleable__control sk-hidden--visually\" id=\"sk-estimator-id-7\" type=\"checkbox\" checked><label for=\"sk-estimator-id-7\" class=\"sk-toggleable__label sk-toggleable__label-arrow\">MLPRegressor</label><div class=\"sk-toggleable__content\"><pre>MLPRegressor(early_stopping=True, hidden_layer_sizes=(120, 220, 290),\n",
       "             max_iter=1000, n_iter_no_change=5, random_state=42)</pre></div></div></div></div></div>"
      ],
      "text/plain": [
       "MLPRegressor(early_stopping=True, hidden_layer_sizes=(120, 220, 290),\n",
       "             max_iter=1000, n_iter_no_change=5, random_state=42)"
      ]
     },
     "execution_count": 97,
     "metadata": {},
     "output_type": "execute_result"
    }
   ],
   "source": [
    "# Treina o modelo com hiperparâmetros selecionados\n",
    "mlp = MLP()\n",
    "\n",
    "mlp.set_params(**params)\n",
    "\n",
    "mlp.fit(x_train,y_train)"
   ]
  },
  {
   "cell_type": "markdown",
   "metadata": {},
   "source": [
    "### Espaço das juntas"
   ]
  },
  {
   "cell_type": "code",
   "execution_count": 101,
   "metadata": {},
   "outputs": [
    {
     "data": {
      "text/plain": [
       "array([ 2.28341302,  4.65147181, 13.61223064,  7.63514085])"
      ]
     },
     "execution_count": 101,
     "metadata": {},
     "output_type": "execute_result"
    }
   ],
   "source": [
    "# Metrica de dados de treino\n",
    "y_predic = mlp.predict(x_train)\n",
    "\n",
    "predict_mse(scaler_y.inverse_transform(y_predic), scaler_y.inverse_transform(y_train))"
   ]
  },
  {
   "cell_type": "code",
   "execution_count": 100,
   "metadata": {},
   "outputs": [
    {
     "data": {
      "text/plain": [
       "array([ 2.38640785,  5.00797486, 16.30891522,  8.68590815])"
      ]
     },
     "execution_count": 100,
     "metadata": {},
     "output_type": "execute_result"
    }
   ],
   "source": [
    "# Metrica dos dados de teste\n",
    "y_predic = mlp.predict(x_test)\n",
    "predict_mse(scaler_y.inverse_transform(y_predic), y_test)"
   ]
  },
  {
   "cell_type": "markdown",
   "metadata": {},
   "source": [
    "### Espaço Operacional"
   ]
  },
  {
   "cell_type": "code",
   "execution_count": 104,
   "metadata": {},
   "outputs": [],
   "source": [
    "robo = robo()"
   ]
  },
  {
   "cell_type": "code",
   "execution_count": 105,
   "metadata": {},
   "outputs": [
    {
     "ename": "KeyboardInterrupt",
     "evalue": "",
     "output_type": "error",
     "traceback": [
      "\u001b[1;31m---------------------------------------------------------------------------\u001b[0m",
      "\u001b[1;31mKeyError\u001b[0m                                  Traceback (most recent call last)",
      "File \u001b[1;32mc:\\Users\\mathe\\anaconda3\\Lib\\site-packages\\sympy\\core\\evalf.py:1482\u001b[0m, in \u001b[0;36mevalf\u001b[1;34m(x, prec, options)\u001b[0m\n\u001b[0;32m   1481\u001b[0m     rf \u001b[38;5;241m=\u001b[39m evalf_table[\u001b[38;5;28mtype\u001b[39m(x)]\n\u001b[1;32m-> 1482\u001b[0m     r \u001b[38;5;241m=\u001b[39m rf(x, prec, options)\n\u001b[0;32m   1483\u001b[0m \u001b[38;5;28;01mexcept\u001b[39;00m \u001b[38;5;167;01mKeyError\u001b[39;00m:\n\u001b[0;32m   1484\u001b[0m     \u001b[38;5;66;03m# Fall back to ordinary evalf if possible\u001b[39;00m\n",
      "File \u001b[1;32mc:\\Users\\mathe\\anaconda3\\Lib\\site-packages\\sympy\\core\\evalf.py:1369\u001b[0m, in \u001b[0;36mevalf_symbol\u001b[1;34m(x, prec, options)\u001b[0m\n\u001b[0;32m   1368\u001b[0m \u001b[38;5;28;01mdef\u001b[39;00m \u001b[38;5;21mevalf_symbol\u001b[39m(x: \u001b[38;5;124m'\u001b[39m\u001b[38;5;124mExpr\u001b[39m\u001b[38;5;124m'\u001b[39m, prec: \u001b[38;5;28mint\u001b[39m, options: OPT_DICT) \u001b[38;5;241m-\u001b[39m\u001b[38;5;241m>\u001b[39m TMP_RES:\n\u001b[1;32m-> 1369\u001b[0m     val \u001b[38;5;241m=\u001b[39m options[\u001b[38;5;124m'\u001b[39m\u001b[38;5;124msubs\u001b[39m\u001b[38;5;124m'\u001b[39m][x]\n\u001b[0;32m   1370\u001b[0m     \u001b[38;5;28;01mif\u001b[39;00m \u001b[38;5;28misinstance\u001b[39m(val, mpf):\n",
      "\u001b[1;31mKeyError\u001b[0m: theta_5",
      "\nDuring handling of the above exception, another exception occurred:\n",
      "\u001b[1;31mNotImplementedError\u001b[0m                       Traceback (most recent call last)",
      "File \u001b[1;32mc:\\Users\\mathe\\anaconda3\\Lib\\site-packages\\sympy\\core\\evalf.py:1647\u001b[0m, in \u001b[0;36mEvalfMixin.evalf\u001b[1;34m(self, n, subs, maxn, chop, strict, quad, verbose)\u001b[0m\n\u001b[0;32m   1646\u001b[0m \u001b[38;5;28;01mtry\u001b[39;00m:\n\u001b[1;32m-> 1647\u001b[0m     result \u001b[38;5;241m=\u001b[39m evalf(\u001b[38;5;28mself\u001b[39m, prec \u001b[38;5;241m+\u001b[39m \u001b[38;5;241m4\u001b[39m, options)\n\u001b[0;32m   1648\u001b[0m \u001b[38;5;28;01mexcept\u001b[39;00m \u001b[38;5;167;01mNotImplementedError\u001b[39;00m:\n\u001b[0;32m   1649\u001b[0m     \u001b[38;5;66;03m# Fall back to the ordinary evalf\u001b[39;00m\n",
      "File \u001b[1;32mc:\\Users\\mathe\\anaconda3\\Lib\\site-packages\\sympy\\core\\evalf.py:1482\u001b[0m, in \u001b[0;36mevalf\u001b[1;34m(x, prec, options)\u001b[0m\n\u001b[0;32m   1481\u001b[0m     rf \u001b[38;5;241m=\u001b[39m evalf_table[\u001b[38;5;28mtype\u001b[39m(x)]\n\u001b[1;32m-> 1482\u001b[0m     r \u001b[38;5;241m=\u001b[39m rf(x, prec, options)\n\u001b[0;32m   1483\u001b[0m \u001b[38;5;28;01mexcept\u001b[39;00m \u001b[38;5;167;01mKeyError\u001b[39;00m:\n\u001b[0;32m   1484\u001b[0m     \u001b[38;5;66;03m# Fall back to ordinary evalf if possible\u001b[39;00m\n",
      "File \u001b[1;32mc:\\Users\\mathe\\anaconda3\\Lib\\site-packages\\sympy\\core\\evalf.py:600\u001b[0m, in \u001b[0;36mevalf_add\u001b[1;34m(v, prec, options)\u001b[0m\n\u001b[0;32m    598\u001b[0m options[\u001b[38;5;124m'\u001b[39m\u001b[38;5;124mmaxprec\u001b[39m\u001b[38;5;124m'\u001b[39m] \u001b[38;5;241m=\u001b[39m \u001b[38;5;28mmin\u001b[39m(oldmaxprec, \u001b[38;5;241m2\u001b[39m\u001b[38;5;241m*\u001b[39mprec)\n\u001b[1;32m--> 600\u001b[0m terms \u001b[38;5;241m=\u001b[39m [evalf(arg, prec \u001b[38;5;241m+\u001b[39m \u001b[38;5;241m10\u001b[39m, options) \u001b[38;5;28;01mfor\u001b[39;00m arg \u001b[38;5;129;01min\u001b[39;00m v\u001b[38;5;241m.\u001b[39margs]\n\u001b[0;32m    601\u001b[0m n \u001b[38;5;241m=\u001b[39m terms\u001b[38;5;241m.\u001b[39mcount(S\u001b[38;5;241m.\u001b[39mComplexInfinity)\n",
      "File \u001b[1;32mc:\\Users\\mathe\\anaconda3\\Lib\\site-packages\\sympy\\core\\evalf.py:600\u001b[0m, in \u001b[0;36m<listcomp>\u001b[1;34m(.0)\u001b[0m\n\u001b[0;32m    598\u001b[0m options[\u001b[38;5;124m'\u001b[39m\u001b[38;5;124mmaxprec\u001b[39m\u001b[38;5;124m'\u001b[39m] \u001b[38;5;241m=\u001b[39m \u001b[38;5;28mmin\u001b[39m(oldmaxprec, \u001b[38;5;241m2\u001b[39m\u001b[38;5;241m*\u001b[39mprec)\n\u001b[1;32m--> 600\u001b[0m terms \u001b[38;5;241m=\u001b[39m [evalf(arg, prec \u001b[38;5;241m+\u001b[39m \u001b[38;5;241m10\u001b[39m, options) \u001b[38;5;28;01mfor\u001b[39;00m arg \u001b[38;5;129;01min\u001b[39;00m v\u001b[38;5;241m.\u001b[39margs]\n\u001b[0;32m    601\u001b[0m n \u001b[38;5;241m=\u001b[39m terms\u001b[38;5;241m.\u001b[39mcount(S\u001b[38;5;241m.\u001b[39mComplexInfinity)\n",
      "File \u001b[1;32mc:\\Users\\mathe\\anaconda3\\Lib\\site-packages\\sympy\\core\\evalf.py:1482\u001b[0m, in \u001b[0;36mevalf\u001b[1;34m(x, prec, options)\u001b[0m\n\u001b[0;32m   1481\u001b[0m     rf \u001b[38;5;241m=\u001b[39m evalf_table[\u001b[38;5;28mtype\u001b[39m(x)]\n\u001b[1;32m-> 1482\u001b[0m     r \u001b[38;5;241m=\u001b[39m rf(x, prec, options)\n\u001b[0;32m   1483\u001b[0m \u001b[38;5;28;01mexcept\u001b[39;00m \u001b[38;5;167;01mKeyError\u001b[39;00m:\n\u001b[0;32m   1484\u001b[0m     \u001b[38;5;66;03m# Fall back to ordinary evalf if possible\u001b[39;00m\n",
      "File \u001b[1;32mc:\\Users\\mathe\\anaconda3\\Lib\\site-packages\\sympy\\core\\evalf.py:648\u001b[0m, in \u001b[0;36mevalf_mul\u001b[1;34m(v, prec, options)\u001b[0m\n\u001b[0;32m    647\u001b[0m \u001b[38;5;28;01mfor\u001b[39;00m arg \u001b[38;5;129;01min\u001b[39;00m args:\n\u001b[1;32m--> 648\u001b[0m     result \u001b[38;5;241m=\u001b[39m evalf(arg, prec, options)\n\u001b[0;32m    649\u001b[0m     \u001b[38;5;28;01mif\u001b[39;00m result \u001b[38;5;129;01mis\u001b[39;00m S\u001b[38;5;241m.\u001b[39mComplexInfinity:\n",
      "File \u001b[1;32mc:\\Users\\mathe\\anaconda3\\Lib\\site-packages\\sympy\\core\\evalf.py:1482\u001b[0m, in \u001b[0;36mevalf\u001b[1;34m(x, prec, options)\u001b[0m\n\u001b[0;32m   1481\u001b[0m     rf \u001b[38;5;241m=\u001b[39m evalf_table[\u001b[38;5;28mtype\u001b[39m(x)]\n\u001b[1;32m-> 1482\u001b[0m     r \u001b[38;5;241m=\u001b[39m rf(x, prec, options)\n\u001b[0;32m   1483\u001b[0m \u001b[38;5;28;01mexcept\u001b[39;00m \u001b[38;5;167;01mKeyError\u001b[39;00m:\n\u001b[0;32m   1484\u001b[0m     \u001b[38;5;66;03m# Fall back to ordinary evalf if possible\u001b[39;00m\n",
      "File \u001b[1;32mc:\\Users\\mathe\\anaconda3\\Lib\\site-packages\\sympy\\core\\evalf.py:912\u001b[0m, in \u001b[0;36mevalf_trig\u001b[1;34m(v, prec, options)\u001b[0m\n\u001b[0;32m    911\u001b[0m xprec \u001b[38;5;241m=\u001b[39m prec \u001b[38;5;241m+\u001b[39m \u001b[38;5;241m20\u001b[39m\n\u001b[1;32m--> 912\u001b[0m re, im, re_acc, im_acc \u001b[38;5;241m=\u001b[39m evalf(arg, xprec, options)\n\u001b[0;32m    913\u001b[0m \u001b[38;5;28;01mif\u001b[39;00m im:\n",
      "File \u001b[1;32mc:\\Users\\mathe\\anaconda3\\Lib\\site-packages\\sympy\\core\\evalf.py:1489\u001b[0m, in \u001b[0;36mevalf\u001b[1;34m(x, prec, options)\u001b[0m\n\u001b[0;32m   1488\u001b[0m \u001b[38;5;28;01mif\u001b[39;00m xe \u001b[38;5;129;01mis\u001b[39;00m \u001b[38;5;28;01mNone\u001b[39;00m:\n\u001b[1;32m-> 1489\u001b[0m     \u001b[38;5;28;01mraise\u001b[39;00m \u001b[38;5;167;01mNotImplementedError\u001b[39;00m\n\u001b[0;32m   1490\u001b[0m as_real_imag \u001b[38;5;241m=\u001b[39m \u001b[38;5;28mgetattr\u001b[39m(xe, \u001b[38;5;124m\"\u001b[39m\u001b[38;5;124mas_real_imag\u001b[39m\u001b[38;5;124m\"\u001b[39m, \u001b[38;5;28;01mNone\u001b[39;00m)\n",
      "\u001b[1;31mNotImplementedError\u001b[0m: ",
      "\nDuring handling of the above exception, another exception occurred:\n",
      "\u001b[1;31mKeyboardInterrupt\u001b[0m                         Traceback (most recent call last)",
      "Cell \u001b[1;32mIn[105], line 3\u001b[0m\n\u001b[0;32m      1\u001b[0m \u001b[38;5;28;01mfrom\u001b[39;00m \u001b[38;5;21;01mnumpy\u001b[39;00m \u001b[38;5;28;01mimport\u001b[39;00m array\n\u001b[0;32m      2\u001b[0m \u001b[38;5;28;01mfor\u001b[39;00m thetas \u001b[38;5;129;01min\u001b[39;00m y_predic:\n\u001b[1;32m----> 3\u001b[0m     vetor \u001b[38;5;241m=\u001b[39m array(robo\u001b[38;5;241m.\u001b[39mframe_effector(thetas)[:\u001b[38;5;241m3\u001b[39m])\u001b[38;5;241m.\u001b[39mreshape(\u001b[38;5;241m-\u001b[39m\u001b[38;5;241m1\u001b[39m)\n",
      "Cell \u001b[1;32mIn[102], line 83\u001b[0m, in \u001b[0;36mRobo.frame_effector\u001b[1;34m(self, pose)\u001b[0m\n\u001b[0;32m     81\u001b[0m \u001b[38;5;66;03m#if len(joinName) == len(pose):\u001b[39;00m\n\u001b[0;32m     82\u001b[0m data \u001b[38;5;241m=\u001b[39m \u001b[38;5;28mdict\u001b[39m(\u001b[38;5;28mzip\u001b[39m(joinName,pose))\n\u001b[1;32m---> 83\u001b[0m \u001b[38;5;28;01mreturn\u001b[39;00m \u001b[38;5;28mself\u001b[39m\u001b[38;5;241m.\u001b[39mmatrixForwardKinematics\u001b[38;5;241m.\u001b[39mevalf(subs\u001b[38;5;241m=\u001b[39mdata)\u001b[38;5;241m.\u001b[39mtolist()\n",
      "File \u001b[1;32mc:\\Users\\mathe\\anaconda3\\Lib\\site-packages\\sympy\\matrices\\common.py:2031\u001b[0m, in \u001b[0;36mMatrixOperations.evalf\u001b[1;34m(self, n, subs, maxn, chop, strict, quad, verbose)\u001b[0m\n\u001b[0;32m   2028\u001b[0m \u001b[38;5;250m\u001b[39m\u001b[38;5;124;03m\"\"\"Apply evalf() to each element of self.\"\"\"\u001b[39;00m\n\u001b[0;32m   2029\u001b[0m options \u001b[38;5;241m=\u001b[39m {\u001b[38;5;124m'\u001b[39m\u001b[38;5;124msubs\u001b[39m\u001b[38;5;124m'\u001b[39m:subs, \u001b[38;5;124m'\u001b[39m\u001b[38;5;124mmaxn\u001b[39m\u001b[38;5;124m'\u001b[39m:maxn, \u001b[38;5;124m'\u001b[39m\u001b[38;5;124mchop\u001b[39m\u001b[38;5;124m'\u001b[39m:chop, \u001b[38;5;124m'\u001b[39m\u001b[38;5;124mstrict\u001b[39m\u001b[38;5;124m'\u001b[39m:strict,\n\u001b[0;32m   2030\u001b[0m         \u001b[38;5;124m'\u001b[39m\u001b[38;5;124mquad\u001b[39m\u001b[38;5;124m'\u001b[39m:quad, \u001b[38;5;124m'\u001b[39m\u001b[38;5;124mverbose\u001b[39m\u001b[38;5;124m'\u001b[39m:verbose}\n\u001b[1;32m-> 2031\u001b[0m \u001b[38;5;28;01mreturn\u001b[39;00m \u001b[38;5;28mself\u001b[39m\u001b[38;5;241m.\u001b[39mapplyfunc(\u001b[38;5;28;01mlambda\u001b[39;00m i: i\u001b[38;5;241m.\u001b[39mevalf(n, \u001b[38;5;241m*\u001b[39m\u001b[38;5;241m*\u001b[39moptions))\n",
      "File \u001b[1;32mc:\\Users\\mathe\\anaconda3\\Lib\\site-packages\\sympy\\matrices\\common.py:1989\u001b[0m, in \u001b[0;36mMatrixOperations.applyfunc\u001b[1;34m(self, f)\u001b[0m\n\u001b[0;32m   1986\u001b[0m \u001b[38;5;28;01mif\u001b[39;00m \u001b[38;5;129;01mnot\u001b[39;00m \u001b[38;5;28mcallable\u001b[39m(f):\n\u001b[0;32m   1987\u001b[0m     \u001b[38;5;28;01mraise\u001b[39;00m \u001b[38;5;167;01mTypeError\u001b[39;00m(\u001b[38;5;124m\"\u001b[39m\u001b[38;5;124m`f` must be callable.\u001b[39m\u001b[38;5;124m\"\u001b[39m)\n\u001b[1;32m-> 1989\u001b[0m \u001b[38;5;28;01mreturn\u001b[39;00m \u001b[38;5;28mself\u001b[39m\u001b[38;5;241m.\u001b[39m_eval_applyfunc(f)\n",
      "File \u001b[1;32mc:\\Users\\mathe\\anaconda3\\Lib\\site-packages\\sympy\\matrices\\common.py:1931\u001b[0m, in \u001b[0;36mMatrixOperations._eval_applyfunc\u001b[1;34m(self, f)\u001b[0m\n\u001b[0;32m   1930\u001b[0m \u001b[38;5;28;01mdef\u001b[39;00m \u001b[38;5;21m_eval_applyfunc\u001b[39m(\u001b[38;5;28mself\u001b[39m, f):\n\u001b[1;32m-> 1931\u001b[0m     out \u001b[38;5;241m=\u001b[39m \u001b[38;5;28mself\u001b[39m\u001b[38;5;241m.\u001b[39m_new(\u001b[38;5;28mself\u001b[39m\u001b[38;5;241m.\u001b[39mrows, \u001b[38;5;28mself\u001b[39m\u001b[38;5;241m.\u001b[39mcols, [f(x) \u001b[38;5;28;01mfor\u001b[39;00m x \u001b[38;5;129;01min\u001b[39;00m \u001b[38;5;28mself\u001b[39m])\n\u001b[0;32m   1932\u001b[0m     \u001b[38;5;28;01mreturn\u001b[39;00m out\n",
      "File \u001b[1;32mc:\\Users\\mathe\\anaconda3\\Lib\\site-packages\\sympy\\matrices\\common.py:1931\u001b[0m, in \u001b[0;36m<listcomp>\u001b[1;34m(.0)\u001b[0m\n\u001b[0;32m   1930\u001b[0m \u001b[38;5;28;01mdef\u001b[39;00m \u001b[38;5;21m_eval_applyfunc\u001b[39m(\u001b[38;5;28mself\u001b[39m, f):\n\u001b[1;32m-> 1931\u001b[0m     out \u001b[38;5;241m=\u001b[39m \u001b[38;5;28mself\u001b[39m\u001b[38;5;241m.\u001b[39m_new(\u001b[38;5;28mself\u001b[39m\u001b[38;5;241m.\u001b[39mrows, \u001b[38;5;28mself\u001b[39m\u001b[38;5;241m.\u001b[39mcols, [f(x) \u001b[38;5;28;01mfor\u001b[39;00m x \u001b[38;5;129;01min\u001b[39;00m \u001b[38;5;28mself\u001b[39m])\n\u001b[0;32m   1932\u001b[0m     \u001b[38;5;28;01mreturn\u001b[39;00m out\n",
      "File \u001b[1;32mc:\\Users\\mathe\\anaconda3\\Lib\\site-packages\\sympy\\matrices\\common.py:2031\u001b[0m, in \u001b[0;36mMatrixOperations.evalf.<locals>.<lambda>\u001b[1;34m(i)\u001b[0m\n\u001b[0;32m   2028\u001b[0m \u001b[38;5;250m\u001b[39m\u001b[38;5;124;03m\"\"\"Apply evalf() to each element of self.\"\"\"\u001b[39;00m\n\u001b[0;32m   2029\u001b[0m options \u001b[38;5;241m=\u001b[39m {\u001b[38;5;124m'\u001b[39m\u001b[38;5;124msubs\u001b[39m\u001b[38;5;124m'\u001b[39m:subs, \u001b[38;5;124m'\u001b[39m\u001b[38;5;124mmaxn\u001b[39m\u001b[38;5;124m'\u001b[39m:maxn, \u001b[38;5;124m'\u001b[39m\u001b[38;5;124mchop\u001b[39m\u001b[38;5;124m'\u001b[39m:chop, \u001b[38;5;124m'\u001b[39m\u001b[38;5;124mstrict\u001b[39m\u001b[38;5;124m'\u001b[39m:strict,\n\u001b[0;32m   2030\u001b[0m         \u001b[38;5;124m'\u001b[39m\u001b[38;5;124mquad\u001b[39m\u001b[38;5;124m'\u001b[39m:quad, \u001b[38;5;124m'\u001b[39m\u001b[38;5;124mverbose\u001b[39m\u001b[38;5;124m'\u001b[39m:verbose}\n\u001b[1;32m-> 2031\u001b[0m \u001b[38;5;28;01mreturn\u001b[39;00m \u001b[38;5;28mself\u001b[39m\u001b[38;5;241m.\u001b[39mapplyfunc(\u001b[38;5;28;01mlambda\u001b[39;00m i: i\u001b[38;5;241m.\u001b[39mevalf(n, \u001b[38;5;241m*\u001b[39m\u001b[38;5;241m*\u001b[39moptions))\n",
      "File \u001b[1;32mc:\\Users\\mathe\\anaconda3\\Lib\\site-packages\\sympy\\core\\evalf.py:1651\u001b[0m, in \u001b[0;36mEvalfMixin.evalf\u001b[1;34m(self, n, subs, maxn, chop, strict, quad, verbose)\u001b[0m\n\u001b[0;32m   1648\u001b[0m \u001b[38;5;28;01mexcept\u001b[39;00m \u001b[38;5;167;01mNotImplementedError\u001b[39;00m:\n\u001b[0;32m   1649\u001b[0m     \u001b[38;5;66;03m# Fall back to the ordinary evalf\u001b[39;00m\n\u001b[0;32m   1650\u001b[0m     \u001b[38;5;28;01mif\u001b[39;00m \u001b[38;5;28mhasattr\u001b[39m(\u001b[38;5;28mself\u001b[39m, \u001b[38;5;124m'\u001b[39m\u001b[38;5;124msubs\u001b[39m\u001b[38;5;124m'\u001b[39m) \u001b[38;5;129;01mand\u001b[39;00m subs \u001b[38;5;129;01mis\u001b[39;00m \u001b[38;5;129;01mnot\u001b[39;00m \u001b[38;5;28;01mNone\u001b[39;00m:  \u001b[38;5;66;03m# issue 20291\u001b[39;00m\n\u001b[1;32m-> 1651\u001b[0m         v \u001b[38;5;241m=\u001b[39m \u001b[38;5;28mself\u001b[39m\u001b[38;5;241m.\u001b[39msubs(subs)\u001b[38;5;241m.\u001b[39m_eval_evalf(prec)\n\u001b[0;32m   1652\u001b[0m     \u001b[38;5;28;01melse\u001b[39;00m:\n\u001b[0;32m   1653\u001b[0m         v \u001b[38;5;241m=\u001b[39m \u001b[38;5;28mself\u001b[39m\u001b[38;5;241m.\u001b[39m_eval_evalf(prec)\n",
      "File \u001b[1;32mc:\\Users\\mathe\\anaconda3\\Lib\\site-packages\\sympy\\core\\basic.py:1040\u001b[0m, in \u001b[0;36mBasic.subs\u001b[1;34m(self, *args, **kwargs)\u001b[0m\n\u001b[0;32m   1038\u001b[0m rv \u001b[38;5;241m=\u001b[39m \u001b[38;5;28mself\u001b[39m\n\u001b[0;32m   1039\u001b[0m \u001b[38;5;28;01mfor\u001b[39;00m old, new \u001b[38;5;129;01min\u001b[39;00m sequence:\n\u001b[1;32m-> 1040\u001b[0m     rv \u001b[38;5;241m=\u001b[39m rv\u001b[38;5;241m.\u001b[39m_subs(old, new, \u001b[38;5;241m*\u001b[39m\u001b[38;5;241m*\u001b[39mkwargs)\n\u001b[0;32m   1041\u001b[0m     \u001b[38;5;28;01mif\u001b[39;00m \u001b[38;5;129;01mnot\u001b[39;00m \u001b[38;5;28misinstance\u001b[39m(rv, Basic):\n\u001b[0;32m   1042\u001b[0m         \u001b[38;5;28;01mbreak\u001b[39;00m\n",
      "File \u001b[1;32mc:\\Users\\mathe\\anaconda3\\Lib\\site-packages\\sympy\\core\\cache.py:72\u001b[0m, in \u001b[0;36m__cacheit.<locals>.func_wrapper.<locals>.wrapper\u001b[1;34m(*args, **kwargs)\u001b[0m\n\u001b[0;32m     69\u001b[0m \u001b[38;5;129m@wraps\u001b[39m(func)\n\u001b[0;32m     70\u001b[0m \u001b[38;5;28;01mdef\u001b[39;00m \u001b[38;5;21mwrapper\u001b[39m(\u001b[38;5;241m*\u001b[39margs, \u001b[38;5;241m*\u001b[39m\u001b[38;5;241m*\u001b[39mkwargs):\n\u001b[0;32m     71\u001b[0m     \u001b[38;5;28;01mtry\u001b[39;00m:\n\u001b[1;32m---> 72\u001b[0m         retval \u001b[38;5;241m=\u001b[39m cfunc(\u001b[38;5;241m*\u001b[39margs, \u001b[38;5;241m*\u001b[39m\u001b[38;5;241m*\u001b[39mkwargs)\n\u001b[0;32m     73\u001b[0m     \u001b[38;5;28;01mexcept\u001b[39;00m \u001b[38;5;167;01mTypeError\u001b[39;00m \u001b[38;5;28;01mas\u001b[39;00m e:\n\u001b[0;32m     74\u001b[0m         \u001b[38;5;28;01mif\u001b[39;00m \u001b[38;5;129;01mnot\u001b[39;00m e\u001b[38;5;241m.\u001b[39margs \u001b[38;5;129;01mor\u001b[39;00m \u001b[38;5;129;01mnot\u001b[39;00m e\u001b[38;5;241m.\u001b[39margs[\u001b[38;5;241m0\u001b[39m]\u001b[38;5;241m.\u001b[39mstartswith(\u001b[38;5;124m'\u001b[39m\u001b[38;5;124munhashable type:\u001b[39m\u001b[38;5;124m'\u001b[39m):\n",
      "File \u001b[1;32mc:\\Users\\mathe\\anaconda3\\Lib\\site-packages\\sympy\\core\\basic.py:1154\u001b[0m, in \u001b[0;36mBasic._subs\u001b[1;34m(self, old, new, **hints)\u001b[0m\n\u001b[0;32m   1152\u001b[0m rv \u001b[38;5;241m=\u001b[39m \u001b[38;5;28mself\u001b[39m\u001b[38;5;241m.\u001b[39m_eval_subs(old, new)\n\u001b[0;32m   1153\u001b[0m \u001b[38;5;28;01mif\u001b[39;00m rv \u001b[38;5;129;01mis\u001b[39;00m \u001b[38;5;28;01mNone\u001b[39;00m:\n\u001b[1;32m-> 1154\u001b[0m     rv \u001b[38;5;241m=\u001b[39m fallback(\u001b[38;5;28mself\u001b[39m, old, new)\n\u001b[0;32m   1155\u001b[0m \u001b[38;5;28;01mreturn\u001b[39;00m rv\n",
      "File \u001b[1;32mc:\\Users\\mathe\\anaconda3\\Lib\\site-packages\\sympy\\core\\basic.py:1126\u001b[0m, in \u001b[0;36mBasic._subs.<locals>.fallback\u001b[1;34m(self, old, new)\u001b[0m\n\u001b[0;32m   1124\u001b[0m \u001b[38;5;28;01mif\u001b[39;00m \u001b[38;5;129;01mnot\u001b[39;00m \u001b[38;5;28mhasattr\u001b[39m(arg, \u001b[38;5;124m'\u001b[39m\u001b[38;5;124m_eval_subs\u001b[39m\u001b[38;5;124m'\u001b[39m):\n\u001b[0;32m   1125\u001b[0m     \u001b[38;5;28;01mcontinue\u001b[39;00m\n\u001b[1;32m-> 1126\u001b[0m arg \u001b[38;5;241m=\u001b[39m arg\u001b[38;5;241m.\u001b[39m_subs(old, new, \u001b[38;5;241m*\u001b[39m\u001b[38;5;241m*\u001b[39mhints)\n\u001b[0;32m   1127\u001b[0m \u001b[38;5;28;01mif\u001b[39;00m \u001b[38;5;129;01mnot\u001b[39;00m _aresame(arg, args[i]):\n\u001b[0;32m   1128\u001b[0m     hit \u001b[38;5;241m=\u001b[39m \u001b[38;5;28;01mTrue\u001b[39;00m\n",
      "File \u001b[1;32mc:\\Users\\mathe\\anaconda3\\Lib\\site-packages\\sympy\\core\\cache.py:72\u001b[0m, in \u001b[0;36m__cacheit.<locals>.func_wrapper.<locals>.wrapper\u001b[1;34m(*args, **kwargs)\u001b[0m\n\u001b[0;32m     69\u001b[0m \u001b[38;5;129m@wraps\u001b[39m(func)\n\u001b[0;32m     70\u001b[0m \u001b[38;5;28;01mdef\u001b[39;00m \u001b[38;5;21mwrapper\u001b[39m(\u001b[38;5;241m*\u001b[39margs, \u001b[38;5;241m*\u001b[39m\u001b[38;5;241m*\u001b[39mkwargs):\n\u001b[0;32m     71\u001b[0m     \u001b[38;5;28;01mtry\u001b[39;00m:\n\u001b[1;32m---> 72\u001b[0m         retval \u001b[38;5;241m=\u001b[39m cfunc(\u001b[38;5;241m*\u001b[39margs, \u001b[38;5;241m*\u001b[39m\u001b[38;5;241m*\u001b[39mkwargs)\n\u001b[0;32m     73\u001b[0m     \u001b[38;5;28;01mexcept\u001b[39;00m \u001b[38;5;167;01mTypeError\u001b[39;00m \u001b[38;5;28;01mas\u001b[39;00m e:\n\u001b[0;32m     74\u001b[0m         \u001b[38;5;28;01mif\u001b[39;00m \u001b[38;5;129;01mnot\u001b[39;00m e\u001b[38;5;241m.\u001b[39margs \u001b[38;5;129;01mor\u001b[39;00m \u001b[38;5;129;01mnot\u001b[39;00m e\u001b[38;5;241m.\u001b[39margs[\u001b[38;5;241m0\u001b[39m]\u001b[38;5;241m.\u001b[39mstartswith(\u001b[38;5;124m'\u001b[39m\u001b[38;5;124munhashable type:\u001b[39m\u001b[38;5;124m'\u001b[39m):\n",
      "File \u001b[1;32mc:\\Users\\mathe\\anaconda3\\Lib\\site-packages\\sympy\\core\\basic.py:1154\u001b[0m, in \u001b[0;36mBasic._subs\u001b[1;34m(self, old, new, **hints)\u001b[0m\n\u001b[0;32m   1152\u001b[0m rv \u001b[38;5;241m=\u001b[39m \u001b[38;5;28mself\u001b[39m\u001b[38;5;241m.\u001b[39m_eval_subs(old, new)\n\u001b[0;32m   1153\u001b[0m \u001b[38;5;28;01mif\u001b[39;00m rv \u001b[38;5;129;01mis\u001b[39;00m \u001b[38;5;28;01mNone\u001b[39;00m:\n\u001b[1;32m-> 1154\u001b[0m     rv \u001b[38;5;241m=\u001b[39m fallback(\u001b[38;5;28mself\u001b[39m, old, new)\n\u001b[0;32m   1155\u001b[0m \u001b[38;5;28;01mreturn\u001b[39;00m rv\n",
      "File \u001b[1;32mc:\\Users\\mathe\\anaconda3\\Lib\\site-packages\\sympy\\core\\basic.py:1126\u001b[0m, in \u001b[0;36mBasic._subs.<locals>.fallback\u001b[1;34m(self, old, new)\u001b[0m\n\u001b[0;32m   1124\u001b[0m \u001b[38;5;28;01mif\u001b[39;00m \u001b[38;5;129;01mnot\u001b[39;00m \u001b[38;5;28mhasattr\u001b[39m(arg, \u001b[38;5;124m'\u001b[39m\u001b[38;5;124m_eval_subs\u001b[39m\u001b[38;5;124m'\u001b[39m):\n\u001b[0;32m   1125\u001b[0m     \u001b[38;5;28;01mcontinue\u001b[39;00m\n\u001b[1;32m-> 1126\u001b[0m arg \u001b[38;5;241m=\u001b[39m arg\u001b[38;5;241m.\u001b[39m_subs(old, new, \u001b[38;5;241m*\u001b[39m\u001b[38;5;241m*\u001b[39mhints)\n\u001b[0;32m   1127\u001b[0m \u001b[38;5;28;01mif\u001b[39;00m \u001b[38;5;129;01mnot\u001b[39;00m _aresame(arg, args[i]):\n\u001b[0;32m   1128\u001b[0m     hit \u001b[38;5;241m=\u001b[39m \u001b[38;5;28;01mTrue\u001b[39;00m\n",
      "    \u001b[1;31m[... skipping similar frames: Basic._subs at line 1154 (3 times), __cacheit.<locals>.func_wrapper.<locals>.wrapper at line 72 (3 times), Basic._subs.<locals>.fallback at line 1126 (2 times)]\u001b[0m\n",
      "File \u001b[1;32mc:\\Users\\mathe\\anaconda3\\Lib\\site-packages\\sympy\\core\\basic.py:1126\u001b[0m, in \u001b[0;36mBasic._subs.<locals>.fallback\u001b[1;34m(self, old, new)\u001b[0m\n\u001b[0;32m   1124\u001b[0m \u001b[38;5;28;01mif\u001b[39;00m \u001b[38;5;129;01mnot\u001b[39;00m \u001b[38;5;28mhasattr\u001b[39m(arg, \u001b[38;5;124m'\u001b[39m\u001b[38;5;124m_eval_subs\u001b[39m\u001b[38;5;124m'\u001b[39m):\n\u001b[0;32m   1125\u001b[0m     \u001b[38;5;28;01mcontinue\u001b[39;00m\n\u001b[1;32m-> 1126\u001b[0m arg \u001b[38;5;241m=\u001b[39m arg\u001b[38;5;241m.\u001b[39m_subs(old, new, \u001b[38;5;241m*\u001b[39m\u001b[38;5;241m*\u001b[39mhints)\n\u001b[0;32m   1127\u001b[0m \u001b[38;5;28;01mif\u001b[39;00m \u001b[38;5;129;01mnot\u001b[39;00m _aresame(arg, args[i]):\n\u001b[0;32m   1128\u001b[0m     hit \u001b[38;5;241m=\u001b[39m \u001b[38;5;28;01mTrue\u001b[39;00m\n",
      "File \u001b[1;32mc:\\Users\\mathe\\anaconda3\\Lib\\site-packages\\sympy\\core\\cache.py:72\u001b[0m, in \u001b[0;36m__cacheit.<locals>.func_wrapper.<locals>.wrapper\u001b[1;34m(*args, **kwargs)\u001b[0m\n\u001b[0;32m     69\u001b[0m \u001b[38;5;129m@wraps\u001b[39m(func)\n\u001b[0;32m     70\u001b[0m \u001b[38;5;28;01mdef\u001b[39;00m \u001b[38;5;21mwrapper\u001b[39m(\u001b[38;5;241m*\u001b[39margs, \u001b[38;5;241m*\u001b[39m\u001b[38;5;241m*\u001b[39mkwargs):\n\u001b[0;32m     71\u001b[0m     \u001b[38;5;28;01mtry\u001b[39;00m:\n\u001b[1;32m---> 72\u001b[0m         retval \u001b[38;5;241m=\u001b[39m cfunc(\u001b[38;5;241m*\u001b[39margs, \u001b[38;5;241m*\u001b[39m\u001b[38;5;241m*\u001b[39mkwargs)\n\u001b[0;32m     73\u001b[0m     \u001b[38;5;28;01mexcept\u001b[39;00m \u001b[38;5;167;01mTypeError\u001b[39;00m \u001b[38;5;28;01mas\u001b[39;00m e:\n\u001b[0;32m     74\u001b[0m         \u001b[38;5;28;01mif\u001b[39;00m \u001b[38;5;129;01mnot\u001b[39;00m e\u001b[38;5;241m.\u001b[39margs \u001b[38;5;129;01mor\u001b[39;00m \u001b[38;5;129;01mnot\u001b[39;00m e\u001b[38;5;241m.\u001b[39margs[\u001b[38;5;241m0\u001b[39m]\u001b[38;5;241m.\u001b[39mstartswith(\u001b[38;5;124m'\u001b[39m\u001b[38;5;124munhashable type:\u001b[39m\u001b[38;5;124m'\u001b[39m):\n",
      "File \u001b[1;32mc:\\Users\\mathe\\anaconda3\\Lib\\site-packages\\sympy\\core\\basic.py:1154\u001b[0m, in \u001b[0;36mBasic._subs\u001b[1;34m(self, old, new, **hints)\u001b[0m\n\u001b[0;32m   1152\u001b[0m rv \u001b[38;5;241m=\u001b[39m \u001b[38;5;28mself\u001b[39m\u001b[38;5;241m.\u001b[39m_eval_subs(old, new)\n\u001b[0;32m   1153\u001b[0m \u001b[38;5;28;01mif\u001b[39;00m rv \u001b[38;5;129;01mis\u001b[39;00m \u001b[38;5;28;01mNone\u001b[39;00m:\n\u001b[1;32m-> 1154\u001b[0m     rv \u001b[38;5;241m=\u001b[39m fallback(\u001b[38;5;28mself\u001b[39m, old, new)\n\u001b[0;32m   1155\u001b[0m \u001b[38;5;28;01mreturn\u001b[39;00m rv\n",
      "File \u001b[1;32mc:\\Users\\mathe\\anaconda3\\Lib\\site-packages\\sympy\\core\\basic.py:1131\u001b[0m, in \u001b[0;36mBasic._subs.<locals>.fallback\u001b[1;34m(self, old, new)\u001b[0m\n\u001b[0;32m   1129\u001b[0m         args[i] \u001b[38;5;241m=\u001b[39m arg\n\u001b[0;32m   1130\u001b[0m \u001b[38;5;28;01mif\u001b[39;00m hit:\n\u001b[1;32m-> 1131\u001b[0m     rv \u001b[38;5;241m=\u001b[39m \u001b[38;5;28mself\u001b[39m\u001b[38;5;241m.\u001b[39mfunc(\u001b[38;5;241m*\u001b[39margs)\n\u001b[0;32m   1132\u001b[0m     hack2 \u001b[38;5;241m=\u001b[39m hints\u001b[38;5;241m.\u001b[39mget(\u001b[38;5;124m'\u001b[39m\u001b[38;5;124mhack2\u001b[39m\u001b[38;5;124m'\u001b[39m, \u001b[38;5;28;01mFalse\u001b[39;00m)\n\u001b[0;32m   1133\u001b[0m     \u001b[38;5;28;01mif\u001b[39;00m hack2 \u001b[38;5;129;01mand\u001b[39;00m \u001b[38;5;28mself\u001b[39m\u001b[38;5;241m.\u001b[39mis_Mul \u001b[38;5;129;01mand\u001b[39;00m \u001b[38;5;129;01mnot\u001b[39;00m rv\u001b[38;5;241m.\u001b[39mis_Mul:  \u001b[38;5;66;03m# 2-arg hack\u001b[39;00m\n",
      "File \u001b[1;32mc:\\Users\\mathe\\anaconda3\\Lib\\site-packages\\sympy\\core\\cache.py:72\u001b[0m, in \u001b[0;36m__cacheit.<locals>.func_wrapper.<locals>.wrapper\u001b[1;34m(*args, **kwargs)\u001b[0m\n\u001b[0;32m     69\u001b[0m \u001b[38;5;129m@wraps\u001b[39m(func)\n\u001b[0;32m     70\u001b[0m \u001b[38;5;28;01mdef\u001b[39;00m \u001b[38;5;21mwrapper\u001b[39m(\u001b[38;5;241m*\u001b[39margs, \u001b[38;5;241m*\u001b[39m\u001b[38;5;241m*\u001b[39mkwargs):\n\u001b[0;32m     71\u001b[0m     \u001b[38;5;28;01mtry\u001b[39;00m:\n\u001b[1;32m---> 72\u001b[0m         retval \u001b[38;5;241m=\u001b[39m cfunc(\u001b[38;5;241m*\u001b[39margs, \u001b[38;5;241m*\u001b[39m\u001b[38;5;241m*\u001b[39mkwargs)\n\u001b[0;32m     73\u001b[0m     \u001b[38;5;28;01mexcept\u001b[39;00m \u001b[38;5;167;01mTypeError\u001b[39;00m \u001b[38;5;28;01mas\u001b[39;00m e:\n\u001b[0;32m     74\u001b[0m         \u001b[38;5;28;01mif\u001b[39;00m \u001b[38;5;129;01mnot\u001b[39;00m e\u001b[38;5;241m.\u001b[39margs \u001b[38;5;129;01mor\u001b[39;00m \u001b[38;5;129;01mnot\u001b[39;00m e\u001b[38;5;241m.\u001b[39margs[\u001b[38;5;241m0\u001b[39m]\u001b[38;5;241m.\u001b[39mstartswith(\u001b[38;5;124m'\u001b[39m\u001b[38;5;124munhashable type:\u001b[39m\u001b[38;5;124m'\u001b[39m):\n",
      "File \u001b[1;32mc:\\Users\\mathe\\anaconda3\\Lib\\site-packages\\sympy\\core\\operations.py:63\u001b[0m, in \u001b[0;36mAssocOp.__new__\u001b[1;34m(cls, evaluate, _sympify, *args)\u001b[0m\n\u001b[0;32m     61\u001b[0m \u001b[38;5;28;01mif\u001b[39;00m typ \u001b[38;5;129;01mis\u001b[39;00m \u001b[38;5;129;01mnot\u001b[39;00m \u001b[38;5;28;01mNone\u001b[39;00m:\n\u001b[0;32m     62\u001b[0m     \u001b[38;5;28;01mfrom\u001b[39;00m \u001b[38;5;21;01m.\u001b[39;00m\u001b[38;5;21;01mrelational\u001b[39;00m \u001b[38;5;28;01mimport\u001b[39;00m Relational\n\u001b[1;32m---> 63\u001b[0m     \u001b[38;5;28;01mif\u001b[39;00m \u001b[38;5;28many\u001b[39m(\u001b[38;5;28misinstance\u001b[39m(arg, Relational) \u001b[38;5;28;01mfor\u001b[39;00m arg \u001b[38;5;129;01min\u001b[39;00m args):\n\u001b[0;32m     64\u001b[0m         \u001b[38;5;28;01mraise\u001b[39;00m \u001b[38;5;167;01mTypeError\u001b[39;00m(\u001b[38;5;124m\"\u001b[39m\u001b[38;5;124mRelational cannot be used in \u001b[39m\u001b[38;5;132;01m%s\u001b[39;00m\u001b[38;5;124m\"\u001b[39m \u001b[38;5;241m%\u001b[39m \u001b[38;5;28mcls\u001b[39m\u001b[38;5;241m.\u001b[39m\u001b[38;5;18m__name__\u001b[39m)\n\u001b[0;32m     66\u001b[0m     \u001b[38;5;66;03m# This should raise TypeError once deprecation period is over:\u001b[39;00m\n",
      "File \u001b[1;32mc:\\Users\\mathe\\anaconda3\\Lib\\site-packages\\sympy\\core\\operations.py:63\u001b[0m, in \u001b[0;36m<genexpr>\u001b[1;34m(.0)\u001b[0m\n\u001b[0;32m     61\u001b[0m \u001b[38;5;28;01mif\u001b[39;00m typ \u001b[38;5;129;01mis\u001b[39;00m \u001b[38;5;129;01mnot\u001b[39;00m \u001b[38;5;28;01mNone\u001b[39;00m:\n\u001b[0;32m     62\u001b[0m     \u001b[38;5;28;01mfrom\u001b[39;00m \u001b[38;5;21;01m.\u001b[39;00m\u001b[38;5;21;01mrelational\u001b[39;00m \u001b[38;5;28;01mimport\u001b[39;00m Relational\n\u001b[1;32m---> 63\u001b[0m     \u001b[38;5;28;01mif\u001b[39;00m \u001b[38;5;28many\u001b[39m(\u001b[38;5;28misinstance\u001b[39m(arg, Relational) \u001b[38;5;28;01mfor\u001b[39;00m arg \u001b[38;5;129;01min\u001b[39;00m args):\n\u001b[0;32m     64\u001b[0m         \u001b[38;5;28;01mraise\u001b[39;00m \u001b[38;5;167;01mTypeError\u001b[39;00m(\u001b[38;5;124m\"\u001b[39m\u001b[38;5;124mRelational cannot be used in \u001b[39m\u001b[38;5;132;01m%s\u001b[39;00m\u001b[38;5;124m\"\u001b[39m \u001b[38;5;241m%\u001b[39m \u001b[38;5;28mcls\u001b[39m\u001b[38;5;241m.\u001b[39m\u001b[38;5;18m__name__\u001b[39m)\n\u001b[0;32m     66\u001b[0m     \u001b[38;5;66;03m# This should raise TypeError once deprecation period is over:\u001b[39;00m\n",
      "\u001b[1;31mKeyboardInterrupt\u001b[0m: "
     ]
    }
   ],
   "source": [
    "from numpy import array\n",
    "for thetas in y_predic:\n",
    "    vetor = array(robo.frame_effector(thetas)[:3]).reshape(-1)"
   ]
  }
 ],
 "metadata": {
  "kernelspec": {
   "display_name": "Python 3",
   "language": "python",
   "name": "python3"
  },
  "language_info": {
   "codemirror_mode": {
    "name": "ipython",
    "version": 3
   },
   "file_extension": ".py",
   "mimetype": "text/x-python",
   "name": "python",
   "nbconvert_exporter": "python",
   "pygments_lexer": "ipython3",
   "version": "3.11.7"
  }
 },
 "nbformat": 4,
 "nbformat_minor": 2
}
