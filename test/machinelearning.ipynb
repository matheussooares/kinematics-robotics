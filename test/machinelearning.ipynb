{
 "cells": [
  {
   "cell_type": "code",
   "execution_count": 28,
   "metadata": {},
   "outputs": [],
   "source": [
    "from sklearn.metrics import mean_squared_error\n",
    "from sklearn.model_selection import GridSearchCV\n",
    "from sklearn.metrics import mean_squared_error, r2_score\n",
    "\n",
    "import numpy as np"
   ]
  },
  {
   "cell_type": "code",
   "execution_count": 1,
   "metadata": {},
   "outputs": [],
   "source": [
    "import sys\n",
    "path_module = r'C:\\Users\\je7560\\Downloads\\matheus\\kinematics-robotics\\src\\kinematicsrobotics'\n",
    "#path_module = r'C:\\Users\\mathe\\OneDrive\\Graduação - UFC\\Engenharia da Computação\\TCC\\Códigos e implementações\\V.2\\kinematics-robotics\\src\\kinematicsrobotics'\n",
    "sys.path.append(path_module)\n",
    "import datahandler"
   ]
  },
  {
   "cell_type": "markdown",
   "metadata": {},
   "source": [
    "## Base de dados"
   ]
  },
  {
   "cell_type": "code",
   "execution_count": 25,
   "metadata": {},
   "outputs": [],
   "source": [
    "path_data = r'src\\data\\ready\\dataset-radius-0.5cm.csv'\n",
    "#path_project = r'C:\\Users\\mathe\\OneDrive\\Graduação - UFC\\Engenharia da Computação\\TCC\\Códigos e implementações\\V.2\\kinematics-robotics'\n",
    "path_project = r'C:\\Users\\je7560\\Downloads\\matheus\\kinematics-robotics'\n",
    "ext = datahandler.extract(path_project)\n",
    "\n",
    "dataset = ext.dataframe(path_data)\n"
   ]
  },
  {
   "cell_type": "markdown",
   "metadata": {},
   "source": [
    "### Atributos e saídas"
   ]
  },
  {
   "cell_type": "markdown",
   "metadata": {},
   "source": [
    "#### Análise dos dados"
   ]
  },
  {
   "cell_type": "code",
   "execution_count": 26,
   "metadata": {},
   "outputs": [
    {
     "name": "stdout",
     "output_type": "stream",
     "text": [
      "Index(['theta_1', 'theta_2', 'theta_3', 'theta_4', 'theta_5', 'p_x', 'p_y',\n",
      "       'p_z', 'roll', 'pich', 'yaw'],\n",
      "      dtype='object')\n"
     ]
    }
   ],
   "source": [
    "print(dataset.columns)"
   ]
  },
  {
   "cell_type": "code",
   "execution_count": 27,
   "metadata": {},
   "outputs": [],
   "source": [
    "from numpy import array\n",
    "def partition(dataset,axis):\n",
    "    return array(dataset.iloc[:,axis[0]:axis[1]])\n",
    "\n",
    "\n",
    "y = partition(dataset,[0,4])\n",
    "x = partition(dataset,[5,11])"
   ]
  },
  {
   "cell_type": "code",
   "execution_count": 28,
   "metadata": {},
   "outputs": [
    {
     "name": "stdout",
     "output_type": "stream",
     "text": [
      "Tamanho do dataset: (15324, 4)\n"
     ]
    }
   ],
   "source": [
    "print(f\"Tamanho do dataset: {y.shape}\")"
   ]
  },
  {
   "cell_type": "code",
   "execution_count": 29,
   "metadata": {},
   "outputs": [
    {
     "data": {
      "text/plain": [
       "array([[ 0,  0,  0,  0],\n",
       "       [ 0,  0, 12,  0],\n",
       "       [ 0,  0, 12, 12]], dtype=int64)"
      ]
     },
     "execution_count": 29,
     "metadata": {},
     "output_type": "execute_result"
    }
   ],
   "source": [
    "y[0:3]"
   ]
  },
  {
   "cell_type": "code",
   "execution_count": 30,
   "metadata": {},
   "outputs": [
    {
     "data": {
      "text/plain": [
       "array([[ 5.40000000e+01, -1.10218212e-15,  1.00000000e+01,\n",
       "         2.35619449e+00, -1.57079633e+00,  7.85398163e-01],\n",
       "       [ 5.32133136e+01, -2.47712141e-15,  2.51517913e+00,\n",
       "         3.14159265e+00, -1.36135682e+00,  2.75203954e-16],\n",
       "       [ 5.36066568e+01, -2.24796486e-15,  6.25758957e+00,\n",
       "         2.33481267e+00, -1.57079633e+00,  8.06779988e-01]])"
      ]
     },
     "execution_count": 30,
     "metadata": {},
     "output_type": "execute_result"
    }
   ],
   "source": [
    "x[0:3]"
   ]
  },
  {
   "cell_type": "markdown",
   "metadata": {},
   "source": [
    "## Pré-processamento de dados"
   ]
  },
  {
   "cell_type": "code",
   "execution_count": 24,
   "metadata": {},
   "outputs": [],
   "source": [
    "size_train = 0.7\n",
    "size_val = 0.2\n",
    "size_test = 0.1"
   ]
  },
  {
   "cell_type": "code",
   "execution_count": 31,
   "metadata": {},
   "outputs": [],
   "source": [
    "from sklearn.model_selection import train_test_split\n",
    "def split(x, y, test_size):\n",
    "    return train_test_split(x, y, test_size=test_size)"
   ]
  },
  {
   "cell_type": "markdown",
   "metadata": {},
   "source": [
    "### Divisão treino e teste"
   ]
  },
  {
   "cell_type": "code",
   "execution_count": 32,
   "metadata": {},
   "outputs": [],
   "source": [
    "x_train, x_test, y_train, y_test = split(x,y,0.1)"
   ]
  },
  {
   "cell_type": "markdown",
   "metadata": {},
   "source": [
    "#### informações"
   ]
  },
  {
   "cell_type": "code",
   "execution_count": 33,
   "metadata": {},
   "outputs": [
    {
     "name": "stdout",
     "output_type": "stream",
     "text": [
      "13791\n",
      "1533\n"
     ]
    }
   ],
   "source": [
    "print(f\"{len(x_train)}\")\n",
    "print(f\"{len(x_test)}\")"
   ]
  },
  {
   "cell_type": "markdown",
   "metadata": {},
   "source": [
    "### Normalização dos dados"
   ]
  },
  {
   "cell_type": "code",
   "execution_count": 10,
   "metadata": {},
   "outputs": [],
   "source": [
    "from sklearn.preprocessing import StandardScaler\n",
    "from numpy import mean,std\n",
    "\n",
    "def normalize(data):\n",
    "    scaler = StandardScaler()\n",
    "    means = mean(data,axis=0)\n",
    "    stds = std(data,axis=0)\n",
    "    data = scaler.fit_transform(data)\n",
    "    return data, means,stds\n",
    "\n"
   ]
  },
  {
   "cell_type": "markdown",
   "metadata": {},
   "source": [
    "## Modelo"
   ]
  },
  {
   "cell_type": "code",
   "execution_count": 18,
   "metadata": {},
   "outputs": [
    {
     "name": "stdout",
     "output_type": "stream",
     "text": [
      "Índices de Treino: 11032\n",
      "Índices de Teste: 2759\n",
      "----------------------\n",
      "Índices de Treino: 11032\n",
      "Índices de Teste: 2759\n",
      "----------------------\n",
      "Índices de Treino: 11032\n",
      "Índices de Teste: 2759\n",
      "----------------------\n"
     ]
    }
   ],
   "source": [
    "from sklearn.model_selection import ShuffleSplit\n",
    "ss = ShuffleSplit(n_splits=3, test_size=0.2, random_state=42)\n",
    "for train_index, test_index in ss.split(x_train, y_train):\n",
    "    print(\"Índices de Treino:\", len(train_index))\n",
    "    print(\"Índices de Teste:\", len(test_index))\n",
    "    print(\"----------------------\")"
   ]
  },
  {
   "cell_type": "code",
   "execution_count": null,
   "metadata": {},
   "outputs": [],
   "source": [
    "from sklearn.neural_network import MLPRegressor\n",
    "def modelo(hidden):\n",
    "    func_act = 'tanh'\n",
    "    model = MLPRegressor(hidden_layer_sizes=hidden,\n",
    "                        activation=func_act)"
   ]
  },
  {
   "cell_type": "code",
   "execution_count": 126,
   "metadata": {},
   "outputs": [],
   "source": [
    "# Definir os parâmetros\n",
    "taxa_aprendizado = 0.01\n",
    "numero_epocas = 1000\n",
    "erro_adm = 0.01\n",
    "fator_momento = 0.9\n",
    "validacao = 0.1"
   ]
  },
  {
   "cell_type": "code",
   "execution_count": 129,
   "metadata": {},
   "outputs": [],
   "source": [
    "model = MLPRegressor(hidden_layer_sizes=(100, 200), #validação\n",
    "                    activation='tanh',  # Função de ativação da camada oculta\n",
    "                    random_state=42)"
   ]
  },
  {
   "cell_type": "markdown",
   "metadata": {},
   "source": [
    "## Seleção de modelos"
   ]
  },
  {
   "cell_type": "code",
   "execution_count": 24,
   "metadata": {},
   "outputs": [],
   "source": [
    "def grid_search(X_train, y_train, param_grid, model):\n",
    "    grid_search = GridSearchCV(estimator=model, param_grid=param_grid, cv=3,scoring='neg_mean_squared_error', return_train_score=True)\n",
    "    grid_search.fit(X_train, y_train)\n",
    "    #.ravel()\n",
    "\n",
    "    # Avaliação do melhor hiperparâmetro\n",
    "    melhor_modelo = grid_search.best_estimator_\n",
    "    y_pred = melhor_modelo.predict(X_train)\n",
    "    mse = mean_squared_error(y_train, y_pred)\n",
    "    r2 = r2_score(y_train, y_pred)\n",
    "\n",
    "    print(\"Melhores hiperparâmetros:\", grid_search.best_params_)\n",
    "    print(f\"\\nMSE nos dados completos: {mse}\")\n",
    "    print(f\"R² nos dados completos: {r2}\")\n",
    "\n",
    "    # Extrair os resultados da validação cruzada\n",
    "    resultados = pd.DataFrame(grid_search.cv_results_)\n",
    "\n",
    "    colunas_interesse = ['param_hidden_layer_sizes', 'mean_test_score', 'std_test_score']\n",
    "    resultados_interesse = resultados[colunas_interesse]\n",
    "\n",
    "    print(\"Avaliação do MSE para cada hiperparâmetro testado:\")\n",
    "    print(resultados_interesse)\n",
    "    return resultados"
   ]
  },
  {
   "cell_type": "markdown",
   "metadata": {},
   "source": [
    "### Modelo"
   ]
  },
  {
   "cell_type": "code",
   "execution_count": 130,
   "metadata": {},
   "outputs": [
    {
     "name": "stdout",
     "output_type": "stream",
     "text": [
      "0.008671714073118121\n"
     ]
    }
   ],
   "source": [
    "# Treinando o modelo\n",
    "model.fit(Xtrain, Ytrain)\n",
    "\n",
    "# Fazendo previsões\n",
    "y_pred = model.predict(Xtrain)\n",
    "\n",
    "# Avaliando o modelo\n",
    "mse = mean_squared_error(Ytrain, y_pred)\n",
    "print(mse)\n",
    "#print(f\"{Ytrain}  {y_pred}\")"
   ]
  },
  {
   "cell_type": "markdown",
   "metadata": {},
   "source": [
    "## Avaliação de modelos\n"
   ]
  },
  {
   "cell_type": "markdown",
   "metadata": {},
   "source": [
    "Métricas de regressão (MSE, RMSE, R²)\n",
    "Validação cruzada\n",
    "Curvas de aprendizado\n",
    "Matrizes de confusão.\n",
    "Grid search e busca aleatória de hiperparâmetros."
   ]
  },
  {
   "cell_type": "code",
   "execution_count": null,
   "metadata": {},
   "outputs": [],
   "source": [
    "from sklearn.metrics import mean_squared_error\n",
    "\n",
    "def predict_mse(model,X_test,Y_test):\n",
    "    y_predic = model.predict(X_test)\n",
    "    return mean_squared_error(Y_test, y_predic,multioutput='raw_values')"
   ]
  }
 ],
 "metadata": {
  "kernelspec": {
   "display_name": "Python 3",
   "language": "python",
   "name": "python3"
  },
  "language_info": {
   "codemirror_mode": {
    "name": "ipython",
    "version": 3
   },
   "file_extension": ".py",
   "mimetype": "text/x-python",
   "name": "python",
   "nbconvert_exporter": "python",
   "pygments_lexer": "ipython3",
   "version": "3.11.7"
  }
 },
 "nbformat": 4,
 "nbformat_minor": 2
}
