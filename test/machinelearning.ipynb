{
 "cells": [
  {
   "cell_type": "markdown",
   "metadata": {},
   "source": [
    "# Cinemática Inversa"
   ]
  },
  {
   "cell_type": "markdown",
   "metadata": {},
   "source": [
    "## Base de dados"
   ]
  },
  {
   "cell_type": "code",
   "execution_count": 1,
   "metadata": {},
   "outputs": [],
   "source": [
    "import os\n",
    "from pandas import read_csv\n",
    "from numpy import array\n",
    "class save:\n",
    "    def __init__(self,path_project):\n",
    "        self.path_project = path_project\n",
    "        \n",
    "    def dataframe(self,data,path):\n",
    "        path_data = os.path.join(self.path_project,path)\n",
    "        data.to_csv(path_data,index=False)\n",
    "\n",
    "class extract:\n",
    "    def __init__(self,path_project):\n",
    "        self.path_project = path_project\n",
    "\n",
    "    def dataframe(self,path):\n",
    "        path_data = os.path.join(self.path_project,path)\n",
    "        return read_csv(path_data)\n",
    "    \n",
    "def partition(dataset,axis):\n",
    "    return array(dataset.iloc[:,axis[0]:axis[1]])"
   ]
  },
  {
   "cell_type": "code",
   "execution_count": 2,
   "metadata": {},
   "outputs": [],
   "source": [
    "import sys\n",
    "\n",
    "path_module = [r'C:\\Users\\je7560\\Downloads\\matheus\\kinematics-robotics\\src\\kinematicsrobotics',\n",
    "               r'C:\\Users\\mathe\\OneDrive\\Graduação - UFC\\Engenharia da Computação\\TCC\\Códigos e implementações\\V.2\\kinematics-robotics\\src\\kinematicsrobotics']\n",
    "sys.path.append(path_module[1])\n",
    "\n",
    "path_data = r'src\\data\\ready\\dataset-radius-0.5cm.csv'\n",
    "path_project = [r'C:\\Users\\mathe\\OneDrive\\Graduação - UFC\\Engenharia da Computação\\TCC\\Códigos e implementações\\V.2\\kinematics-robotics',\n",
    "                r'C:\\Users\\je7560\\Downloads\\matheus\\kinematics-robotics']\n",
    "\n",
    "ext = extract(path_project[0])\n",
    "\n",
    "dataset = ext.dataframe(path_data)\n",
    "\n",
    "y = partition(dataset,[0,4])\n",
    "x = partition(dataset,[5,11])"
   ]
  },
  {
   "cell_type": "markdown",
   "metadata": {},
   "source": [
    "### Análise da base de dados"
   ]
  },
  {
   "cell_type": "code",
   "execution_count": 3,
   "metadata": {},
   "outputs": [
    {
     "name": "stdout",
     "output_type": "stream",
     "text": [
      "Atributos e saídas:\n",
      " Index(['theta_1', 'theta_2', 'theta_3', 'theta_4', 'theta_5', 'p_x', 'p_y',\n",
      "       'p_z', 'roll', 'pich', 'yaw'],\n",
      "      dtype='object')\n",
      "\n",
      "Tamanho saída: (15324, 4)\n",
      "Tamanho entrada: (15324, 6)\n",
      "\n",
      "Primeiras sáidas:\n",
      "[[ 0  0  0  0]\n",
      " [ 0  0 12  0]\n",
      " [ 0  0 12 12]]\n",
      "\n",
      "Primeiras entrada:\n",
      "[[ 5.40000000e+01 -1.10218212e-15  1.00000000e+01  2.35619449e+00\n",
      "  -1.57079633e+00  7.85398163e-01]\n",
      " [ 5.32133136e+01 -2.47712141e-15  2.51517913e+00  3.14159265e+00\n",
      "  -1.36135682e+00  2.75203954e-16]\n",
      " [ 5.36066568e+01 -2.24796486e-15  6.25758957e+00  2.33481267e+00\n",
      "  -1.57079633e+00  8.06779988e-01]]\n",
      "\n"
     ]
    }
   ],
   "source": [
    "print(f'Atributos e saídas:\\n {dataset.columns}')\n",
    "print(f\"\\nTamanho saída: {y.shape}\\nTamanho entrada: {x.shape}\\n\")\n",
    "print(f\"Primeiras sáidas:\\n{y[0:3]}\\n\")\n",
    "print(f\"Primeiras entrada:\\n{x[0:3]}\\n\")\n"
   ]
  },
  {
   "cell_type": "markdown",
   "metadata": {},
   "source": [
    "## Pré-processamento dos dados"
   ]
  },
  {
   "cell_type": "code",
   "execution_count": 4,
   "metadata": {},
   "outputs": [],
   "source": [
    "from sklearn.model_selection import train_test_split\n",
    "from sklearn.preprocessing import StandardScaler\n",
    "from numpy import mean,std\n",
    "\n",
    "def size_split(size_train,size_val):\n",
    "    size_val = (1 - size_train/(size_train+size_val))\n",
    "    size_train = size_train/(size_train+size_val)\n",
    "    return size_train,size_val\n",
    "\n",
    "\n",
    "def split(x, y, test_size):\n",
    "    return train_test_split(x, y, test_size=test_size)\n",
    "\n",
    "def zscore(data):\n",
    "    scaler = StandardScaler()\n",
    "    means = mean(data,axis=0)\n",
    "    stds = std(data,axis=0)\n",
    "    data = scaler.fit_transform(data)\n",
    "    return data, means,stds"
   ]
  },
  {
   "cell_type": "code",
   "execution_count": 5,
   "metadata": {},
   "outputs": [],
   "source": [
    "size_train = 0.7\n",
    "size_val = 0.2\n",
    "size_test = 0.1\n",
    "\n",
    "size_train,size_val = size_split(size_train,size_val)\n",
    "\n",
    "x_train, x_test, y_train, y_test = split(x,y,test_size=size_test)\n",
    "\n",
    "\n",
    "x_train,_,_ = zscore(x_train)\n",
    "y_train,_,_ = zscore(y_train)\n",
    "\n",
    "x_test,_,_ = zscore(x_test)\n",
    "y_test,_,_ = zscore(y_test)"
   ]
  },
  {
   "cell_type": "markdown",
   "metadata": {},
   "source": [
    "#### Análises"
   ]
  },
  {
   "cell_type": "code",
   "execution_count": 6,
   "metadata": {},
   "outputs": [
    {
     "name": "stdout",
     "output_type": "stream",
     "text": [
      "treino: 0.7590361445783133\n",
      "Teste: 0.1\n",
      "Validação: 0.2222222222222222\n",
      "Tamanho dos dados de treino: 13791\n",
      "Tamanho dos dados de teste: 1533\n"
     ]
    }
   ],
   "source": [
    "print(f\"treino: {size_train}\\nTeste: {size_test}\\nValidação: {size_val}\")\n",
    "print(f\"Tamanho dos dados de treino: {len(x_train)}\")\n",
    "print(f\"Tamanho dos dados de teste: {len(x_test)}\")"
   ]
  },
  {
   "cell_type": "markdown",
   "metadata": {},
   "source": [
    "## Modelos e métricas"
   ]
  },
  {
   "cell_type": "code",
   "execution_count": 7,
   "metadata": {},
   "outputs": [],
   "source": [
    "from sklearn.neural_network import MLPRegressor\n",
    "def MLP():\n",
    "    LEARNING_RATE = 0.01\n",
    "    LEARNING = 'constant'\n",
    "    EPOCHS = 2000\n",
    "    EPOCHS_NOCHANGE = 10\n",
    "    ERROR = 1e-4\n",
    "    VERDOSE = False\n",
    "    model = MLPRegressor(learning_rate_init = LEARNING_RATE,\n",
    "                         learning_rate = LEARNING,\n",
    "                         max_iter = EPOCHS,\n",
    "                         tol = ERROR,\n",
    "                         n_iter_no_change = EPOCHS_NOCHANGE,\n",
    "                         early_stopping = True,\n",
    "                         verbose=VERDOSE)\n",
    "    return model\n"
   ]
  },
  {
   "cell_type": "code",
   "execution_count": 8,
   "metadata": {},
   "outputs": [],
   "source": [
    "from sklearn.metrics import mean_squared_error\n",
    "import matplotlib.pyplot as plt\n",
    "\n",
    "def predict_mse(model,X_test,Y_test):\n",
    "    y_predic = model.predict(X_test)\n",
    "    return mean_squared_error(Y_test, y_predic,multioutput='raw_values')\n",
    "\n",
    "def curve_loss(model):\n",
    "    plt.plot(model.loss_curve_)\n",
    "    plt.title('Erro Quadratico')\n",
    "    plt.xlabel('Épocas')\n",
    "    plt.ylabel('MSE')\n",
    "    plt.show()"
   ]
  },
  {
   "cell_type": "markdown",
   "metadata": {},
   "source": [
    "## Estimação dos hiperparâmetros"
   ]
  },
  {
   "cell_type": "code",
   "execution_count": 21,
   "metadata": {},
   "outputs": [],
   "source": [
    "from sklearn.model_selection import ShuffleSplit,RandomizedSearchCV,GridSearchCV\n",
    "from sklearn.metrics import make_scorer, mean_squared_error\n",
    "from pandas import DataFrame\n",
    "\n",
    "\n",
    "def space_hidden(min,max,incr,param_grid):\n",
    "    hidden = [(i, j) for i in range(min, max,incr) for j in range(min, max, incr)]\n",
    "    \n",
    "    func_act =  ['relu', 'tanh']\n",
    "    \n",
    "    param_grid.update({\n",
    "        'hidden_layer_sizes': hidden,\n",
    "        'activation': func_act\n",
    "    })\n",
    "\n",
    "    return param_grid\n",
    "\n",
    "def custom_mse(y_true, y_pred):\n",
    "    return mean_squared_error(y_true, y_pred)\n",
    "\n",
    "\n",
    "def RandomizedSearch(x, y, model, param_grid, cv):\n",
    "    random_search = RandomizedSearchCV(estimator=model, \n",
    "                                       param_distributions=param_grid, \n",
    "                                       scoring=custom_scorer, \n",
    "                                       cv=cv, \n",
    "                                       n_jobs=-1, \n",
    "                                       random_state=42, \n",
    "                                       return_train_score=True, \n",
    "                                       verbose=2)\n",
    "\n",
    "\n",
    "def GridSearch(x, y, model, param_grid, cv):\n",
    "\n",
    "    custom_scorer = make_scorer(custom_mse, greater_is_better=False)\n",
    "\n",
    "    gridshearch = GridSearchCV(estimator=model,\n",
    "                               param_grid=param_grid,\n",
    "                               cv=cv,\n",
    "                               scoring=custom_scorer,\n",
    "                               return_train_score=True)\n",
    "    \n",
    "    gridshearch.fit(x, y)\n",
    "    \n",
    "    history = DataFrame(gridshearch.cv_results_)\n",
    "\n",
    "    return history\n",
    "\n",
    "def holdout(n_splits,test_size):\n",
    "    return ShuffleSplit(n_splits=n_splits, \n",
    "                      test_size=test_size, \n",
    "                      random_state=42)\n",
    "\n",
    "\n",
    "def grid_search_test(X_train, y_train, param_grid, model):\n",
    "\n",
    "\n",
    "    grid_search = GridSearchCV(estimator=model, param_grid=param_grid, cv=3,scoring='neg_mean_squared_error', return_train_score=True)\n",
    "    grid_search.fit(X_train, y_train)\n",
    "    #.ravel()\n",
    "\n",
    "    # Avaliação do melhor hiperparâmetro\n",
    "    melhor_modelo = grid_search.best_estimator_\n",
    "    y_pred = melhor_modelo.predict(X_train)\n",
    "    mse = mean_squared_error(y_train, y_pred)\n",
    "    r2 = r2_score(y_train, y_pred)\n",
    "\n",
    "    print(\"Melhores hiperparâmetros:\", grid_search.best_params_)\n",
    "    print(f\"\\nMSE nos dados completos: {mse}\")\n",
    "    print(f\"R² nos dados completos: {r2}\")\n",
    "\n",
    "    # Extrair os resultados da validação cruzada\n",
    "    resultados = pd.DataFrame(grid_search.cv_results_)\n",
    "\n",
    "    colunas_interesse = ['param_hidden_layer_sizes', 'mean_test_score', 'std_test_score']\n",
    "    resultados_interesse = resultados[colunas_interesse]\n",
    "\n",
    "    print(\"Avaliação do MSE para cada hiperparâmetro testado:\")\n",
    "    print(resultados_interesse)\n",
    "    return resultados \n"
   ]
  },
  {
   "cell_type": "code",
   "execution_count": 26,
   "metadata": {},
   "outputs": [],
   "source": [
    "# Espaço de busca do grid search\n",
    "min= 10\n",
    "max = 50\n",
    "incr = 10\n",
    "\n",
    "param_grid= {}\n",
    "\n",
    "param_grid = space_hidden(min,max,incr,param_grid)\n",
    "\n",
    "# validação cruzada hold out\n",
    "n_splits = 5\n",
    "\n",
    "cv = holdout(n_splits,size_val)\n",
    "\n",
    "# inicializando a rede\n",
    "mlp = MLP()\n",
    "\n",
    "history = GridSearch(x_train, y_train, mlp, param_grid, cv)\n",
    "\n"
   ]
  },
  {
   "cell_type": "code",
   "execution_count": 27,
   "metadata": {},
   "outputs": [
    {
     "data": {
      "text/plain": [
       "Index(['mean_fit_time', 'std_fit_time', 'mean_score_time', 'std_score_time',\n",
       "       'param_activation', 'param_hidden_layer_sizes', 'params',\n",
       "       'split0_test_score', 'split1_test_score', 'split2_test_score',\n",
       "       'split3_test_score', 'split4_test_score', 'mean_test_score',\n",
       "       'std_test_score', 'rank_test_score', 'split0_train_score',\n",
       "       'split1_train_score', 'split2_train_score', 'split3_train_score',\n",
       "       'split4_train_score', 'mean_train_score', 'std_train_score'],\n",
       "      dtype='object')"
      ]
     },
     "execution_count": 27,
     "metadata": {},
     "output_type": "execute_result"
    }
   ],
   "source": [
    "history.columns"
   ]
  },
  {
   "cell_type": "markdown",
   "metadata": {},
   "source": [
    "### Infomações"
   ]
  },
  {
   "cell_type": "code",
   "execution_count": 13,
   "metadata": {},
   "outputs": [
    {
     "name": "stdout",
     "output_type": "stream",
     "text": [
      "Número de parametros de camada oculta: 16\n"
     ]
    }
   ],
   "source": [
    "print(f\"Número de parametros de camada oculta: {len(param_grid['hidden_layer_sizes'])}\")"
   ]
  },
  {
   "cell_type": "markdown",
   "metadata": {},
   "source": [
    "## Treinamento, validação e teste do modelo selecionado"
   ]
  },
  {
   "cell_type": "code",
   "execution_count": null,
   "metadata": {},
   "outputs": [],
   "source": []
  },
  {
   "cell_type": "code",
   "execution_count": 60,
   "metadata": {},
   "outputs": [
    {
     "name": "stdout",
     "output_type": "stream",
     "text": [
      "Iteration 1, loss = 0.08197672\n",
      "Validation score: 0.928473\n",
      "Iteration 2, loss = 0.02191331\n",
      "Validation score: 0.968638\n",
      "Iteration 3, loss = 0.01366824\n",
      "Validation score: 0.973660\n",
      "Iteration 4, loss = 0.01045488\n",
      "Validation score: 0.978643\n",
      "Iteration 5, loss = 0.00949138\n",
      "Validation score: 0.980258\n",
      "Iteration 6, loss = 0.00853995\n",
      "Validation score: 0.980536\n",
      "Iteration 7, loss = 0.00730065\n",
      "Validation score: 0.979455\n",
      "Iteration 8, loss = 0.00745579\n",
      "Validation score: 0.982546\n",
      "Iteration 9, loss = 0.00700912\n",
      "Validation score: 0.980227\n",
      "Iteration 10, loss = 0.00687598\n",
      "Validation score: 0.984645\n",
      "Iteration 11, loss = 0.00732972\n",
      "Validation score: 0.968084\n",
      "Iteration 12, loss = 0.00720072\n",
      "Validation score: 0.982833\n",
      "Iteration 13, loss = 0.00621128\n",
      "Validation score: 0.936929\n",
      "Iteration 14, loss = 0.00837502\n",
      "Validation score: 0.988773\n",
      "Iteration 15, loss = 0.00538541\n",
      "Validation score: 0.956320\n",
      "Iteration 16, loss = 0.00627883\n",
      "Validation score: 0.978296\n",
      "Iteration 17, loss = 0.00548673\n",
      "Validation score: 0.988204\n",
      "Iteration 18, loss = 0.00476520\n",
      "Validation score: 0.990611\n",
      "Iteration 19, loss = 0.00418534\n",
      "Validation score: 0.992015\n",
      "Iteration 20, loss = 0.00462066\n",
      "Validation score: 0.988999\n",
      "Iteration 21, loss = 0.00561350\n",
      "Validation score: 0.980003\n",
      "Iteration 22, loss = 0.00475784\n",
      "Validation score: 0.984109\n",
      "Iteration 23, loss = 0.00490850\n",
      "Validation score: 0.982637\n",
      "Iteration 24, loss = 0.00624637\n",
      "Validation score: 0.968570\n",
      "Iteration 25, loss = 0.00613865\n",
      "Validation score: 0.984379\n",
      "Iteration 26, loss = 0.00448023\n",
      "Validation score: 0.983133\n",
      "Iteration 27, loss = 0.00495787\n",
      "Validation score: 0.989307\n",
      "Iteration 28, loss = 0.00451817\n",
      "Validation score: 0.988687\n",
      "Iteration 29, loss = 0.00461234\n",
      "Validation score: 0.991062\n",
      "Iteration 30, loss = 0.00546577\n",
      "Validation score: 0.992149\n",
      "Iteration 31, loss = 0.00434098\n",
      "Validation score: 0.984079\n",
      "Iteration 32, loss = 0.00458182\n",
      "Validation score: 0.988530\n",
      "Iteration 33, loss = 0.00435621\n",
      "Validation score: 0.988015\n",
      "Iteration 34, loss = 0.00485022\n",
      "Validation score: 0.967493\n",
      "Iteration 35, loss = 0.00620687\n",
      "Validation score: 0.987221\n",
      "Iteration 36, loss = 0.00464883\n",
      "Validation score: 0.984292\n",
      "Iteration 37, loss = 0.00416528\n",
      "Validation score: 0.986575\n",
      "Iteration 38, loss = 0.00433964\n",
      "Validation score: 0.987263\n",
      "Iteration 39, loss = 0.00388011\n",
      "Validation score: 0.990273\n",
      "Iteration 40, loss = 0.00372513\n",
      "Validation score: 0.991473\n",
      "Iteration 41, loss = 0.00400959\n",
      "Validation score: 0.976332\n",
      "Validation score did not improve more than tol=0.000100 for 10 consecutive epochs. Stopping.\n"
     ]
    },
    {
     "data": {
      "text/html": [
       "<style>#sk-container-id-1 {color: black;background-color: white;}#sk-container-id-1 pre{padding: 0;}#sk-container-id-1 div.sk-toggleable {background-color: white;}#sk-container-id-1 label.sk-toggleable__label {cursor: pointer;display: block;width: 100%;margin-bottom: 0;padding: 0.3em;box-sizing: border-box;text-align: center;}#sk-container-id-1 label.sk-toggleable__label-arrow:before {content: \"▸\";float: left;margin-right: 0.25em;color: #696969;}#sk-container-id-1 label.sk-toggleable__label-arrow:hover:before {color: black;}#sk-container-id-1 div.sk-estimator:hover label.sk-toggleable__label-arrow:before {color: black;}#sk-container-id-1 div.sk-toggleable__content {max-height: 0;max-width: 0;overflow: hidden;text-align: left;background-color: #f0f8ff;}#sk-container-id-1 div.sk-toggleable__content pre {margin: 0.2em;color: black;border-radius: 0.25em;background-color: #f0f8ff;}#sk-container-id-1 input.sk-toggleable__control:checked~div.sk-toggleable__content {max-height: 200px;max-width: 100%;overflow: auto;}#sk-container-id-1 input.sk-toggleable__control:checked~label.sk-toggleable__label-arrow:before {content: \"▾\";}#sk-container-id-1 div.sk-estimator input.sk-toggleable__control:checked~label.sk-toggleable__label {background-color: #d4ebff;}#sk-container-id-1 div.sk-label input.sk-toggleable__control:checked~label.sk-toggleable__label {background-color: #d4ebff;}#sk-container-id-1 input.sk-hidden--visually {border: 0;clip: rect(1px 1px 1px 1px);clip: rect(1px, 1px, 1px, 1px);height: 1px;margin: -1px;overflow: hidden;padding: 0;position: absolute;width: 1px;}#sk-container-id-1 div.sk-estimator {font-family: monospace;background-color: #f0f8ff;border: 1px dotted black;border-radius: 0.25em;box-sizing: border-box;margin-bottom: 0.5em;}#sk-container-id-1 div.sk-estimator:hover {background-color: #d4ebff;}#sk-container-id-1 div.sk-parallel-item::after {content: \"\";width: 100%;border-bottom: 1px solid gray;flex-grow: 1;}#sk-container-id-1 div.sk-label:hover label.sk-toggleable__label {background-color: #d4ebff;}#sk-container-id-1 div.sk-serial::before {content: \"\";position: absolute;border-left: 1px solid gray;box-sizing: border-box;top: 0;bottom: 0;left: 50%;z-index: 0;}#sk-container-id-1 div.sk-serial {display: flex;flex-direction: column;align-items: center;background-color: white;padding-right: 0.2em;padding-left: 0.2em;position: relative;}#sk-container-id-1 div.sk-item {position: relative;z-index: 1;}#sk-container-id-1 div.sk-parallel {display: flex;align-items: stretch;justify-content: center;background-color: white;position: relative;}#sk-container-id-1 div.sk-item::before, #sk-container-id-1 div.sk-parallel-item::before {content: \"\";position: absolute;border-left: 1px solid gray;box-sizing: border-box;top: 0;bottom: 0;left: 50%;z-index: -1;}#sk-container-id-1 div.sk-parallel-item {display: flex;flex-direction: column;z-index: 1;position: relative;background-color: white;}#sk-container-id-1 div.sk-parallel-item:first-child::after {align-self: flex-end;width: 50%;}#sk-container-id-1 div.sk-parallel-item:last-child::after {align-self: flex-start;width: 50%;}#sk-container-id-1 div.sk-parallel-item:only-child::after {width: 0;}#sk-container-id-1 div.sk-dashed-wrapped {border: 1px dashed gray;margin: 0 0.4em 0.5em 0.4em;box-sizing: border-box;padding-bottom: 0.4em;background-color: white;}#sk-container-id-1 div.sk-label label {font-family: monospace;font-weight: bold;display: inline-block;line-height: 1.2em;}#sk-container-id-1 div.sk-label-container {text-align: center;}#sk-container-id-1 div.sk-container {/* jupyter's `normalize.less` sets `[hidden] { display: none; }` but bootstrap.min.css set `[hidden] { display: none !important; }` so we also need the `!important` here to be able to override the default hidden behavior on the sphinx rendered scikit-learn.org. See: https://github.com/scikit-learn/scikit-learn/issues/21755 */display: inline-block !important;position: relative;}#sk-container-id-1 div.sk-text-repr-fallback {display: none;}</style><div id=\"sk-container-id-1\" class=\"sk-top-container\"><div class=\"sk-text-repr-fallback\"><pre>MLPRegressor(early_stopping=True, hidden_layer_sizes=(100, 200),\n",
       "             learning_rate_init=0.01, max_iter=2000, verbose=True)</pre><b>In a Jupyter environment, please rerun this cell to show the HTML representation or trust the notebook. <br />On GitHub, the HTML representation is unable to render, please try loading this page with nbviewer.org.</b></div><div class=\"sk-container\" hidden><div class=\"sk-item\"><div class=\"sk-estimator sk-toggleable\"><input class=\"sk-toggleable__control sk-hidden--visually\" id=\"sk-estimator-id-1\" type=\"checkbox\" checked><label for=\"sk-estimator-id-1\" class=\"sk-toggleable__label sk-toggleable__label-arrow\">MLPRegressor</label><div class=\"sk-toggleable__content\"><pre>MLPRegressor(early_stopping=True, hidden_layer_sizes=(100, 200),\n",
       "             learning_rate_init=0.01, max_iter=2000, verbose=True)</pre></div></div></div></div></div>"
      ],
      "text/plain": [
       "MLPRegressor(early_stopping=True, hidden_layer_sizes=(100, 200),\n",
       "             learning_rate_init=0.01, max_iter=2000, verbose=True)"
      ]
     },
     "execution_count": 60,
     "metadata": {},
     "output_type": "execute_result"
    }
   ],
   "source": [
    "mlp = MLP()\n",
    "mlp.set_params(hidden_layer_sizes=(100, 200))\n",
    "\n",
    "mlp.fit(x_train, y_train)"
   ]
  }
 ],
 "metadata": {
  "kernelspec": {
   "display_name": "Python 3",
   "language": "python",
   "name": "python3"
  },
  "language_info": {
   "codemirror_mode": {
    "name": "ipython",
    "version": 3
   },
   "file_extension": ".py",
   "mimetype": "text/x-python",
   "name": "python",
   "nbconvert_exporter": "python",
   "pygments_lexer": "ipython3",
   "version": "3.11.7"
  }
 },
 "nbformat": 4,
 "nbformat_minor": 2
}
