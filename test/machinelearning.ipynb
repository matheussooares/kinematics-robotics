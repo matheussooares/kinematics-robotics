{
 "cells": [
  {
   "cell_type": "code",
   "execution_count": 2,
   "metadata": {},
   "outputs": [],
   "source": [
    "import sys, os\n",
    "from pathlib import Path\n",
    "\n",
    "sys.path.append(os.path.abspath(Path().resolve().parent/'src'))"
   ]
  },
  {
   "cell_type": "code",
   "execution_count": 3,
   "metadata": {},
   "outputs": [],
   "source": [
    "from kinematicsrobotics.datahandler import Extract\n",
    "from kinematicsrobotics.dataprocessing import Preprocessing\n",
    "from kinematicsrobotics.model import Model\n",
    "from kinematicsrobotics.metrics import Metrics\n",
    "from kinematicsrobotics.kinematics import Robo"
   ]
  },
  {
   "cell_type": "markdown",
   "metadata": {},
   "source": [
    "## Dataset"
   ]
  },
  {
   "cell_type": "code",
   "execution_count": 4,
   "metadata": {},
   "outputs": [],
   "source": [
    "ext = Extract()\n",
    "ext._path_project = os.path.abspath(Path().resolve().parent)\n",
    "\n",
    "dataset = ext.dataframe( r'src\\data\\ready\\dataset-radius-1.5cm.csv')"
   ]
  },
  {
   "cell_type": "code",
   "execution_count": 5,
   "metadata": {},
   "outputs": [],
   "source": [
    "data  = Preprocessing(dataset = dataset, \n",
    "                           x_labels=['p_x', 'p_y','p_z', 'roll', 'pich', 'yaw'],\n",
    "                           y_labels=['theta_1', 'theta_2', 'theta_3', 'theta_4']\n",
    "                        )"
   ]
  },
  {
   "cell_type": "code",
   "execution_count": 6,
   "metadata": {},
   "outputs": [],
   "source": [
    "x_train, x_test, y_train, y_test = data.data_train_test"
   ]
  },
  {
   "cell_type": "markdown",
   "metadata": {},
   "source": [
    "## Modelo"
   ]
  },
  {
   "cell_type": "code",
   "execution_count": 7,
   "metadata": {},
   "outputs": [],
   "source": [
    "mlp = Model.mlp_regressor(hidden_layer_sizes=(100,100,100,100,100), EPOCHS_NOCHANGE = 20)"
   ]
  },
  {
   "cell_type": "markdown",
   "metadata": {},
   "source": [
    "## Estimação de Parâmatros"
   ]
  },
  {
   "cell_type": "code",
   "execution_count": 8,
   "metadata": {},
   "outputs": [],
   "source": [
    "# Estimação de hiperparâmetros\n",
    "history = ext.dataframe(r'src\\data\\ready\\history.csv')\n",
    "\n",
    "history_best = history[history['rank_test_score'] == 1]\n",
    "\n",
    "params = eval(history_best.iloc[0]['params'])"
   ]
  },
  {
   "cell_type": "markdown",
   "metadata": {},
   "source": [
    "## Treino"
   ]
  },
  {
   "cell_type": "code",
   "execution_count": 9,
   "metadata": {},
   "outputs": [],
   "source": [
    "mlp.set_model(**params)"
   ]
  },
  {
   "cell_type": "code",
   "execution_count": 10,
   "metadata": {},
   "outputs": [],
   "source": [
    "mlp.fit(x=x_train,y=y_train)"
   ]
  },
  {
   "cell_type": "markdown",
   "metadata": {},
   "source": [
    "## Metricas"
   ]
  },
  {
   "cell_type": "code",
   "execution_count": 11,
   "metadata": {},
   "outputs": [],
   "source": [
    "metrica = Metrics(model = mlp, \n",
    "                  preprocessing = data)"
   ]
  },
  {
   "cell_type": "markdown",
   "metadata": {},
   "source": [
    "### Erro juntas"
   ]
  },
  {
   "cell_type": "code",
   "execution_count": 12,
   "metadata": {},
   "outputs": [
    {
     "data": {
      "text/plain": [
       "array([[ 65.63728466,  37.64542696,  84.25842577,  46.86745838],\n",
       "       [ 96.175419  ,  95.18336342,  83.34731067,  60.30910712],\n",
       "       [ 35.55518928,  83.57556657,  83.73180339,  36.2507363 ],\n",
       "       ...,\n",
       "       [ 93.95269506, 119.35308256,  10.48478097,  35.50424211],\n",
       "       [ 19.7962104 ,  36.55654538,  85.09270133,  35.67230024],\n",
       "       [ 35.31630349,  36.16963876,  47.16363729,  -0.93332684]])"
      ]
     },
     "execution_count": 12,
     "metadata": {},
     "output_type": "execute_result"
    }
   ],
   "source": [
    "metrica.predict_joint(x = x_train)"
   ]
  },
  {
   "cell_type": "code",
   "execution_count": 13,
   "metadata": {},
   "outputs": [
    {
     "data": {
      "text/plain": [
       "array([0.55269527, 1.56803829, 5.15688068, 2.22570988])"
      ]
     },
     "execution_count": 13,
     "metadata": {},
     "output_type": "execute_result"
    }
   ],
   "source": [
    "metrica.mse_joint(x = x_train, y = y_train)"
   ]
  },
  {
   "cell_type": "markdown",
   "metadata": {},
   "source": [
    "### Erro cartesiano"
   ]
  },
  {
   "cell_type": "code",
   "execution_count": 14,
   "metadata": {},
   "outputs": [],
   "source": [
    "Elos = [['theta_1',10,0,90,0],\n",
    "        ['theta_2',0,18,180,0],\n",
    "        ['theta_3',0,18,-180,0],\n",
    "        ['theta_4',0,0,90,90],\n",
    "        ['theta_5',18,0,0,0]\n",
    "]\n",
    "\n",
    "robo = Robo(\"Robo\",Elos)\n",
    "\n",
    "metrica.robotic(robo = robo)"
   ]
  },
  {
   "cell_type": "code",
   "execution_count": 15,
   "metadata": {},
   "outputs": [],
   "source": [
    "metrica.predict_operacional(x = x_train)"
   ]
  },
  {
   "cell_type": "code",
   "execution_count": null,
   "metadata": {},
   "outputs": [
    {
     "data": {
      "text/plain": [
       "array([[ 40.,  48.,  60.,   0.],\n",
       "       [  5.,  48.,  72.,   0.],\n",
       "       [ 85.,  36.,  72.,  48.],\n",
       "       ...,\n",
       "       [ 70., 108.,  12.,  48.],\n",
       "       [ 75.,  36.,  36.,   0.],\n",
       "       [ 10.,  48.,  96.,  36.]])"
      ]
     },
     "execution_count": 15,
     "metadata": {},
     "output_type": "execute_result"
    }
   ],
   "source": [
    "metrica.mse_operacional(x = x_train, y = y_train)"
   ]
  }
 ],
 "metadata": {
  "kernelspec": {
   "display_name": "Python 3",
   "language": "python",
   "name": "python3"
  },
  "language_info": {
   "codemirror_mode": {
    "name": "ipython",
    "version": 3
   },
   "file_extension": ".py",
   "mimetype": "text/x-python",
   "name": "python",
   "nbconvert_exporter": "python",
   "pygments_lexer": "ipython3",
   "version": "3.11.7"
  }
 },
 "nbformat": 4,
 "nbformat_minor": 2
}
