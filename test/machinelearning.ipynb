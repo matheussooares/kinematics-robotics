{
 "cells": [
  {
   "cell_type": "code",
   "execution_count": 1,
   "metadata": {},
   "outputs": [],
   "source": [
    "import sys, os\n",
    "from pathlib import Path\n",
    "\n",
    "sys.path.append(os.path.abspath(Path().resolve().parent/'src'))"
   ]
  },
  {
   "cell_type": "code",
   "execution_count": 23,
   "metadata": {},
   "outputs": [],
   "source": [
    "from kinematicsrobotics.datahandler import Extract\n",
    "from kinematicsrobotics.dataprocessing import Preprocessing\n",
    "from kinematicsrobotics.model import Model\n",
    "from kinematicsrobotics.metrics import Metrics\n",
    "from kinematicsrobotics.kinematics import Robo,Spacemapping"
   ]
  },
  {
   "cell_type": "markdown",
   "metadata": {},
   "source": [
    "## Dataset"
   ]
  },
  {
   "cell_type": "code",
   "execution_count": 3,
   "metadata": {},
   "outputs": [],
   "source": [
    "ext = Extract()\n",
    "ext._path_project = os.path.abspath(Path().resolve().parent)\n",
    "\n",
    "dataset = ext.dataframe( r'src\\data\\ready\\dataset-radius-1cm.csv')"
   ]
  },
  {
   "cell_type": "code",
   "execution_count": 4,
   "metadata": {},
   "outputs": [],
   "source": [
    "data  = Preprocessing(dataset = dataset, \n",
    "                           x_labels=['p_x', 'p_y','p_z', 'roll', 'pich', 'yaw'],\n",
    "                           y_labels=['theta_1', 'theta_2', 'theta_3', 'theta_4']\n",
    "                        )"
   ]
  },
  {
   "cell_type": "code",
   "execution_count": 5,
   "metadata": {},
   "outputs": [],
   "source": [
    "x_train, x_test, y_train, y_test = data.data_train_test"
   ]
  },
  {
   "cell_type": "markdown",
   "metadata": {},
   "source": [
    "## Modelo"
   ]
  },
  {
   "cell_type": "code",
   "execution_count": 6,
   "metadata": {},
   "outputs": [],
   "source": [
    "mlp = Model.mlp_regressor(hidden_layer_sizes=(300,300,300,300,300), EPOCHS_NOCHANGE = 20, activation = 'tanh')"
   ]
  },
  {
   "cell_type": "markdown",
   "metadata": {},
   "source": [
    "## Estimação de Parâmatros"
   ]
  },
  {
   "cell_type": "code",
   "execution_count": 19,
   "metadata": {},
   "outputs": [],
   "source": [
    "# Estimação de hiperparâmetros\n",
    "history = ext.dataframe(r'src\\data\\ready\\history.csv')\n",
    "\n",
    "history_best = history[history['rank_test_score'] == 1]\n",
    "\n",
    "params = eval(history_best.iloc[0]['params'])"
   ]
  },
  {
   "cell_type": "markdown",
   "metadata": {},
   "source": [
    "## Treino"
   ]
  },
  {
   "cell_type": "code",
   "execution_count": 8,
   "metadata": {},
   "outputs": [],
   "source": [
    "mlp.set_model(**params)"
   ]
  },
  {
   "cell_type": "code",
   "execution_count": 7,
   "metadata": {},
   "outputs": [],
   "source": [
    "mlp.fit(x=x_train,y=y_train)"
   ]
  },
  {
   "cell_type": "markdown",
   "metadata": {},
   "source": [
    "## Metricas"
   ]
  },
  {
   "cell_type": "code",
   "execution_count": 8,
   "metadata": {},
   "outputs": [],
   "source": [
    "metrica = Metrics(model = mlp, \n",
    "                  preprocessing = data)"
   ]
  },
  {
   "cell_type": "code",
   "execution_count": 9,
   "metadata": {},
   "outputs": [
    {
     "data": {
      "text/plain": [
       "array([0.0007993 , 0.00185118, 0.00466406, 0.00264959])"
      ]
     },
     "execution_count": 9,
     "metadata": {},
     "output_type": "execute_result"
    }
   ],
   "source": [
    "metrica.mse(mlp.predict(x =x_train), y_train)"
   ]
  },
  {
   "cell_type": "markdown",
   "metadata": {},
   "source": [
    "### Erro juntas"
   ]
  },
  {
   "cell_type": "code",
   "execution_count": 11,
   "metadata": {},
   "outputs": [
    {
     "data": {
      "text/plain": [
       "array([[1.20199050e+02, 7.06934756e+01, 9.49284651e+01, 4.37578006e-03]])"
      ]
     },
     "execution_count": 11,
     "metadata": {},
     "output_type": "execute_result"
    }
   ],
   "source": [
    "metrica.predict_joint(x = x_train[:1])"
   ]
  },
  {
   "cell_type": "code",
   "execution_count": 10,
   "metadata": {},
   "outputs": [
    {
     "data": {
      "text/plain": [
       "array([3.96207900e-02, 1.70700597e+00, 1.14818702e+00, 1.91474511e-05])"
      ]
     },
     "execution_count": 10,
     "metadata": {},
     "output_type": "execute_result"
    }
   ],
   "source": [
    "metrica.mse_joint(x = x_train[:1], y = y_train[:1])"
   ]
  },
  {
   "cell_type": "markdown",
   "metadata": {},
   "source": [
    "### Erro cartesiano"
   ]
  },
  {
   "cell_type": "code",
   "execution_count": 12,
   "metadata": {},
   "outputs": [],
   "source": [
    "Elos = [['theta_1',10,0,90,0],\n",
    "        ['theta_2',0,18,180,0],\n",
    "        ['theta_3',0,18,-180,0],\n",
    "        ['theta_4',0,0,90,90],\n",
    "        ['theta_5',18,0,0,0]\n",
    "]\n",
    "\n",
    "robo = Robo(\"Robo\", Elos)\n",
    "\n",
    "metrica.robotic(robo = robo)"
   ]
  },
  {
   "cell_type": "code",
   "execution_count": 68,
   "metadata": {},
   "outputs": [
    {
     "data": {
      "text/plain": [
       "array([[120.,  72.,  96.,   0.]])"
      ]
     },
     "execution_count": 68,
     "metadata": {},
     "output_type": "execute_result"
    }
   ],
   "source": [
    " data._scaler_y.inverse_transform(y_train[:1])"
   ]
  },
  {
   "cell_type": "code",
   "execution_count": 42,
   "metadata": {},
   "outputs": [
    {
     "data": {
      "text/plain": [
       "array([[1.20199050e+02, 7.06934756e+01, 9.49284651e+01, 4.37578006e-03]])"
      ]
     },
     "execution_count": 42,
     "metadata": {},
     "output_type": "execute_result"
    }
   ],
   "source": [
    "a = metrica.predict_joint(x = x_train[:1])\n",
    "a"
   ]
  },
  {
   "cell_type": "code",
   "execution_count": 66,
   "metadata": {},
   "outputs": [
    {
     "data": {
      "text/plain": [
       "[[120.19904971738359,\n",
       "  70.69347561374522,\n",
       "  94.92846511120811,\n",
       "  0.004375780056300016,\n",
       "  0.0]]"
      ]
     },
     "execution_count": 66,
     "metadata": {},
     "output_type": "execute_result"
    }
   ],
   "source": [
    "from numpy import append\n",
    "_mapping = Spacemapping(robo)\n",
    "def transfor(array):\n",
    "            novo_array = []\n",
    "            for sub_array in array:\n",
    "                    novo_sub_array = append(sub_array, 0)\n",
    "                    novo_array.append(novo_sub_array)\n",
    "            return novo_array\n",
    "x_real = transfor(x_real)[0]\n",
    "x_real = [x_real.tolist()]\n",
    "\n",
    "b = transfor(a)[0]\n",
    "b = [b.tolist()]\n",
    "b"
   ]
  },
  {
   "cell_type": "code",
   "execution_count": 60,
   "metadata": {},
   "outputs": [
    {
     "data": {
      "text/html": [
       "<div>\n",
       "<style scoped>\n",
       "    .dataframe tbody tr th:only-of-type {\n",
       "        vertical-align: middle;\n",
       "    }\n",
       "\n",
       "    .dataframe tbody tr th {\n",
       "        vertical-align: top;\n",
       "    }\n",
       "\n",
       "    .dataframe thead th {\n",
       "        text-align: right;\n",
       "    }\n",
       "</style>\n",
       "<table border=\"1\" class=\"dataframe\">\n",
       "  <thead>\n",
       "    <tr style=\"text-align: right;\">\n",
       "      <th></th>\n",
       "      <th>R_11</th>\n",
       "      <th>R_12</th>\n",
       "      <th>R_13</th>\n",
       "      <th>p_x</th>\n",
       "      <th>R_21</th>\n",
       "      <th>R_22</th>\n",
       "      <th>R_23</th>\n",
       "      <th>p_y</th>\n",
       "      <th>R_31</th>\n",
       "      <th>R_32</th>\n",
       "      <th>R_33</th>\n",
       "      <th>p_z</th>\n",
       "    </tr>\n",
       "  </thead>\n",
       "  <tbody>\n",
       "    <tr>\n",
       "      <th>0</th>\n",
       "      <td>-0.354711</td>\n",
       "      <td>-0.503006</td>\n",
       "      <td>-0.788141</td>\n",
       "      <td>-23.229059</td>\n",
       "      <td>-0.206439</td>\n",
       "      <td>0.864283</td>\n",
       "      <td>-0.458691</td>\n",
       "      <td>-13.519119</td>\n",
       "      <td>0.911901</td>\n",
       "      <td>0.0</td>\n",
       "      <td>-0.41041</td>\n",
       "      <td>-21.763765</td>\n",
       "    </tr>\n",
       "  </tbody>\n",
       "</table>\n",
       "</div>"
      ],
      "text/plain": [
       "       R_11      R_12      R_13        p_x      R_21      R_22      R_23  \\\n",
       "0 -0.354711 -0.503006 -0.788141 -23.229059 -0.206439  0.864283 -0.458691   \n",
       "\n",
       "         p_y      R_31  R_32     R_33        p_z  \n",
       "0 -13.519119  0.911901   0.0 -0.41041 -21.763765  "
      ]
     },
     "execution_count": 60,
     "metadata": {},
     "output_type": "execute_result"
    }
   ],
   "source": [
    "_mapping.operational_space(b, output_format='DataFrame')"
   ]
  },
  {
   "cell_type": "code",
   "execution_count": 69,
   "metadata": {},
   "outputs": [
    {
     "data": {
      "text/html": [
       "<div>\n",
       "<style scoped>\n",
       "    .dataframe tbody tr th:only-of-type {\n",
       "        vertical-align: middle;\n",
       "    }\n",
       "\n",
       "    .dataframe tbody tr th {\n",
       "        vertical-align: top;\n",
       "    }\n",
       "\n",
       "    .dataframe thead th {\n",
       "        text-align: right;\n",
       "    }\n",
       "</style>\n",
       "<table border=\"1\" class=\"dataframe\">\n",
       "  <thead>\n",
       "    <tr style=\"text-align: right;\">\n",
       "      <th></th>\n",
       "      <th>R_11</th>\n",
       "      <th>R_12</th>\n",
       "      <th>R_13</th>\n",
       "      <th>p_x</th>\n",
       "      <th>R_21</th>\n",
       "      <th>R_22</th>\n",
       "      <th>R_23</th>\n",
       "      <th>p_y</th>\n",
       "      <th>R_31</th>\n",
       "      <th>R_32</th>\n",
       "      <th>R_33</th>\n",
       "      <th>p_z</th>\n",
       "    </tr>\n",
       "  </thead>\n",
       "  <tbody>\n",
       "    <tr>\n",
       "      <th>0</th>\n",
       "      <td>-0.352244</td>\n",
       "      <td>-0.5</td>\n",
       "      <td>-0.791154</td>\n",
       "      <td>-23.66443</td>\n",
       "      <td>-0.203368</td>\n",
       "      <td>0.866025</td>\n",
       "      <td>-0.456773</td>\n",
       "      <td>-13.662665</td>\n",
       "      <td>0.913545</td>\n",
       "      <td>0.0</td>\n",
       "      <td>-0.406737</td>\n",
       "      <td>-21.761536</td>\n",
       "    </tr>\n",
       "  </tbody>\n",
       "</table>\n",
       "</div>"
      ],
      "text/plain": [
       "       R_11  R_12      R_13       p_x      R_21      R_22      R_23  \\\n",
       "0 -0.352244  -0.5 -0.791154 -23.66443 -0.203368  0.866025 -0.456773   \n",
       "\n",
       "         p_y      R_31  R_32      R_33        p_z  \n",
       "0 -13.662665  0.913545   0.0 -0.406737 -21.761536  "
      ]
     },
     "execution_count": 69,
     "metadata": {},
     "output_type": "execute_result"
    }
   ],
   "source": [
    "_mapping.operational_space([[120.,  72.,  96.,   0., 0.]], output_format='DataFrame')"
   ]
  },
  {
   "cell_type": "code",
   "execution_count": 62,
   "metadata": {},
   "outputs": [
    {
     "data": {
      "text/plain": [
       "array([[-19.22497119,  33.29862687,  12.47649814,   3.14159265,\n",
       "         -1.15191731,   2.0943951 ]])"
      ]
     },
     "execution_count": 62,
     "metadata": {},
     "output_type": "execute_result"
    }
   ],
   "source": [
    "data._scaler_x.inverse_transform(x_train[:1])"
   ]
  },
  {
   "cell_type": "markdown",
   "metadata": {},
   "source": [
    "#### t"
   ]
  },
  {
   "cell_type": "code",
   "execution_count": 17,
   "metadata": {},
   "outputs": [
    {
     "data": {
      "text/html": [
       "<div>\n",
       "<style scoped>\n",
       "    .dataframe tbody tr th:only-of-type {\n",
       "        vertical-align: middle;\n",
       "    }\n",
       "\n",
       "    .dataframe tbody tr th {\n",
       "        vertical-align: top;\n",
       "    }\n",
       "\n",
       "    .dataframe thead th {\n",
       "        text-align: right;\n",
       "    }\n",
       "</style>\n",
       "<table border=\"1\" class=\"dataframe\">\n",
       "  <thead>\n",
       "    <tr style=\"text-align: right;\">\n",
       "      <th></th>\n",
       "      <th>p_x</th>\n",
       "      <th>p_y</th>\n",
       "      <th>p_z</th>\n",
       "    </tr>\n",
       "  </thead>\n",
       "  <tbody>\n",
       "    <tr>\n",
       "      <th>0</th>\n",
       "      <td>-23.229059</td>\n",
       "      <td>-13.519119</td>\n",
       "      <td>-21.763765</td>\n",
       "    </tr>\n",
       "  </tbody>\n",
       "</table>\n",
       "</div>"
      ],
      "text/plain": [
       "         p_x        p_y        p_z\n",
       "0 -23.229059 -13.519119 -21.763765"
      ]
     },
     "execution_count": 17,
     "metadata": {},
     "output_type": "execute_result"
    }
   ],
   "source": [
    "metrica.predict_operacional(x = x_train[:1])"
   ]
  },
  {
   "cell_type": "code",
   "execution_count": 16,
   "metadata": {},
   "outputs": [
    {
     "data": {
      "text/plain": [
       "(array([  16.03271707, 2191.90135246, 1172.39562132]),\n",
       " array([[-19.22497119,  33.29862687,  12.47649814]]),\n",
       "          p_x        p_y        p_z\n",
       " 0 -23.229059 -13.519119 -21.763765)"
      ]
     },
     "execution_count": 16,
     "metadata": {},
     "output_type": "execute_result"
    }
   ],
   "source": [
    "metrica.mse_operacional(x = x_train[:1])"
   ]
  }
 ],
 "metadata": {
  "kernelspec": {
   "display_name": "Python 3",
   "language": "python",
   "name": "python3"
  },
  "language_info": {
   "codemirror_mode": {
    "name": "ipython",
    "version": 3
   },
   "file_extension": ".py",
   "mimetype": "text/x-python",
   "name": "python",
   "nbconvert_exporter": "python",
   "pygments_lexer": "ipython3",
   "version": "3.11.7"
  }
 },
 "nbformat": 4,
 "nbformat_minor": 2
}
