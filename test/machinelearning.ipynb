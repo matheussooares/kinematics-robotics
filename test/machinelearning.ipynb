{
 "cells": [
  {
   "cell_type": "code",
   "execution_count": 32,
   "metadata": {},
   "outputs": [],
   "source": [
    "import sys, os\n",
    "from pathlib import Path\n",
    "\n",
    "# Adicione o diretório do projeto ao sys.path\n",
    "sys.path.append(os.path.abspath(Path().resolve().parent/'src'))"
   ]
  },
  {
   "cell_type": "code",
   "execution_count": 33,
   "metadata": {},
   "outputs": [],
   "source": [
    "from kinematicsrobotics.datahandler import Save, Extract\n",
    "from kinematicsrobotics.kinematics import Robo, Spacemapping\n",
    "from numpy import array, append\n",
    "from pandas import DataFrame"
   ]
  },
  {
   "cell_type": "markdown",
   "metadata": {},
   "source": [
    "# Cinemática Direta"
   ]
  },
  {
   "cell_type": "code",
   "execution_count": 34,
   "metadata": {},
   "outputs": [],
   "source": [
    "Elos = [['theta_1',10,0,90,0],\n",
    "            ['theta_2',0,18,180,0],\n",
    "            ['theta_3',0,18,-180,0],\n",
    "            ['theta_4',0,0,90,90],\n",
    "            ['theta_5',18,0,0,0]]\n",
    "\n",
    "# Cria o robo por meio dos parâmetros\n",
    "robo = Robo('Manipulador Didático',Elos)\n",
    "\n",
    "mapping = Spacemapping(robo=robo)\n"
   ]
  },
  {
   "cell_type": "markdown",
   "metadata": {},
   "source": [
    "# Cinemática Inversa"
   ]
  },
  {
   "cell_type": "markdown",
   "metadata": {},
   "source": [
    "## Base de dados"
   ]
  },
  {
   "cell_type": "code",
   "execution_count": 35,
   "metadata": {},
   "outputs": [],
   "source": [
    "def partition(dataset,axis):\n",
    "    return array(dataset.iloc[:,axis[0]:axis[1]])"
   ]
  },
  {
   "cell_type": "code",
   "execution_count": 36,
   "metadata": {},
   "outputs": [],
   "source": [
    "path_data = r'src\\data\\ready\\dataset-radius-1.5cm.csv'\n",
    "\n",
    "extract = Extract()\n",
    "\n",
    "extract._path_project = os.path.abspath(Path().resolve().parent)\n",
    "\n",
    "dataset  = extract.dataframe(path_data)\n",
    "\n",
    "\n",
    "y = partition(dataset,[0,4])\n",
    "x = partition(dataset,[5,11])\n"
   ]
  },
  {
   "cell_type": "markdown",
   "metadata": {},
   "source": [
    "### Análise da base de dados"
   ]
  },
  {
   "cell_type": "code",
   "execution_count": 37,
   "metadata": {},
   "outputs": [
    {
     "name": "stdout",
     "output_type": "stream",
     "text": [
      "Atributos e saídas:\n",
      " Index(['theta_1', 'theta_2', 'theta_3', 'theta_4', 'theta_5', 'p_x', 'p_y',\n",
      "       'p_z', 'roll', 'pich', 'yaw'],\n",
      "      dtype='object')\n",
      "\n",
      "Tamanho saída: (5818, 4)\n",
      "Tamanho entrada: (5818, 6)\n",
      "\n",
      "Primeiras sáidas:\n",
      "[[ 0  0 12  0]\n",
      " [ 0 12 12  0]\n",
      " [ 0 12 24  0]]\n",
      "\n",
      "Primeiras entrada:\n",
      "[[ 5.32133136e+01 -2.47712141e-15  2.51517913e+00  3.14159265e+00\n",
      "  -1.36135682e+00  2.75203954e-16]\n",
      " [ 5.36066568e+01 -1.78965176e-15  1.37424104e+01  2.37853137e+00\n",
      "  -1.57079633e+00  7.63061284e-01]\n",
      " [ 5.28199704e+01 -3.12453009e-15  6.25758957e+00  3.14159265e+00\n",
      "  -1.36135682e+00  2.37151833e-16]]\n",
      "\n"
     ]
    }
   ],
   "source": [
    "print(f'Atributos e saídas:\\n {dataset.columns}')\n",
    "print(f\"\\nTamanho saída: {y.shape}\\nTamanho entrada: {x.shape}\\n\")\n",
    "print(f\"Primeiras sáidas:\\n{y[0:3]}\\n\")\n",
    "print(f\"Primeiras entrada:\\n{x[0:3]}\\n\")\n"
   ]
  },
  {
   "cell_type": "markdown",
   "metadata": {},
   "source": [
    "## Pré-processamento dos dados"
   ]
  },
  {
   "cell_type": "code",
   "execution_count": 38,
   "metadata": {},
   "outputs": [],
   "source": [
    "from sklearn.model_selection import train_test_split\n",
    "from sklearn.preprocessing import StandardScaler\n",
    "from pandas import DataFrame\n",
    "\n",
    "def split(x, y, test_size):\n",
    "    return train_test_split(x, y, test_size=test_size)\n",
    "\n",
    "def zscore(dt_train,dt_test):\n",
    "    scaler = StandardScaler()\n",
    "    dt_train = scaler.fit_transform(dt_train)\n",
    "    dt_test = scaler.transform(dt_test)\n",
    "    \n",
    "    return dt_train, dt_test, scaler\n",
    "\n",
    "def statics_data_split(scaler):\n",
    "    return DataFrame({'Média': scaler.mean_, 'Desvio Padrão': scaler.scale_})\n",
    "\n"
   ]
  },
  {
   "cell_type": "code",
   "execution_count": 39,
   "metadata": {},
   "outputs": [],
   "source": [
    "size_train = 0.7\n",
    "size_val = 0.2\n",
    "size_test = 0.1\n",
    "\n",
    "x_train, x_test, y_train, y_test = split(x,y,test_size=size_test)\n",
    "\n",
    "\n",
    "x_train, x_test, scaler_x = zscore(x_train,x_test)\n",
    "\n",
    "y_train, y_test, scaler_y = zscore(y_train,y_test)"
   ]
  },
  {
   "cell_type": "markdown",
   "metadata": {},
   "source": [
    "#### info"
   ]
  },
  {
   "cell_type": "code",
   "execution_count": 40,
   "metadata": {},
   "outputs": [
    {
     "data": {
      "text/html": [
       "<div>\n",
       "<style scoped>\n",
       "    .dataframe tbody tr th:only-of-type {\n",
       "        vertical-align: middle;\n",
       "    }\n",
       "\n",
       "    .dataframe tbody tr th {\n",
       "        vertical-align: top;\n",
       "    }\n",
       "\n",
       "    .dataframe thead th {\n",
       "        text-align: right;\n",
       "    }\n",
       "</style>\n",
       "<table border=\"1\" class=\"dataframe\">\n",
       "  <thead>\n",
       "    <tr style=\"text-align: right;\">\n",
       "      <th></th>\n",
       "      <th>Média</th>\n",
       "      <th>Desvio Padrão</th>\n",
       "    </tr>\n",
       "  </thead>\n",
       "  <tbody>\n",
       "    <tr>\n",
       "      <th>0</th>\n",
       "      <td>8.875359</td>\n",
       "      <td>20.762806</td>\n",
       "    </tr>\n",
       "    <tr>\n",
       "      <th>1</th>\n",
       "      <td>15.307506</td>\n",
       "      <td>22.534637</td>\n",
       "    </tr>\n",
       "    <tr>\n",
       "      <th>2</th>\n",
       "      <td>32.514692</td>\n",
       "      <td>16.372622</td>\n",
       "    </tr>\n",
       "    <tr>\n",
       "      <th>3</th>\n",
       "      <td>0.599810</td>\n",
       "      <td>1.687942</td>\n",
       "    </tr>\n",
       "    <tr>\n",
       "      <th>4</th>\n",
       "      <td>-0.572902</td>\n",
       "      <td>1.013675</td>\n",
       "    </tr>\n",
       "    <tr>\n",
       "      <th>5</th>\n",
       "      <td>-0.826993</td>\n",
       "      <td>1.721084</td>\n",
       "    </tr>\n",
       "  </tbody>\n",
       "</table>\n",
       "</div>"
      ],
      "text/plain": [
       "       Média  Desvio Padrão\n",
       "0   8.875359      20.762806\n",
       "1  15.307506      22.534637\n",
       "2  32.514692      16.372622\n",
       "3   0.599810       1.687942\n",
       "4  -0.572902       1.013675\n",
       "5  -0.826993       1.721084"
      ]
     },
     "execution_count": 40,
     "metadata": {},
     "output_type": "execute_result"
    }
   ],
   "source": [
    "statics_x = statics_data_split(scaler_x)\n",
    "statics_x"
   ]
  },
  {
   "cell_type": "code",
   "execution_count": 41,
   "metadata": {},
   "outputs": [
    {
     "data": {
      "text/html": [
       "<div>\n",
       "<style scoped>\n",
       "    .dataframe tbody tr th:only-of-type {\n",
       "        vertical-align: middle;\n",
       "    }\n",
       "\n",
       "    .dataframe tbody tr th {\n",
       "        vertical-align: top;\n",
       "    }\n",
       "\n",
       "    .dataframe thead th {\n",
       "        text-align: right;\n",
       "    }\n",
       "</style>\n",
       "<table border=\"1\" class=\"dataframe\">\n",
       "  <thead>\n",
       "    <tr style=\"text-align: right;\">\n",
       "      <th></th>\n",
       "      <th>Média</th>\n",
       "      <th>Desvio Padrão</th>\n",
       "    </tr>\n",
       "  </thead>\n",
       "  <tbody>\n",
       "    <tr>\n",
       "      <th>0</th>\n",
       "      <td>60.814553</td>\n",
       "      <td>36.519198</td>\n",
       "    </tr>\n",
       "    <tr>\n",
       "      <th>1</th>\n",
       "      <td>80.763942</td>\n",
       "      <td>32.319595</td>\n",
       "    </tr>\n",
       "    <tr>\n",
       "      <th>2</th>\n",
       "      <td>59.812070</td>\n",
       "      <td>34.980490</td>\n",
       "    </tr>\n",
       "    <tr>\n",
       "      <th>3</th>\n",
       "      <td>33.971734</td>\n",
       "      <td>36.280578</td>\n",
       "    </tr>\n",
       "  </tbody>\n",
       "</table>\n",
       "</div>"
      ],
      "text/plain": [
       "       Média  Desvio Padrão\n",
       "0  60.814553      36.519198\n",
       "1  80.763942      32.319595\n",
       "2  59.812070      34.980490\n",
       "3  33.971734      36.280578"
      ]
     },
     "execution_count": 41,
     "metadata": {},
     "output_type": "execute_result"
    }
   ],
   "source": [
    "statics_y = statics_data_split(scaler_y)\n",
    "statics_y"
   ]
  },
  {
   "cell_type": "markdown",
   "metadata": {},
   "source": [
    "#### Análises"
   ]
  },
  {
   "cell_type": "code",
   "execution_count": 42,
   "metadata": {},
   "outputs": [
    {
     "name": "stdout",
     "output_type": "stream",
     "text": [
      "treino: 0.7\n",
      "Teste: 0.1\n",
      "Validação: 0.2\n",
      "Tamanho dos dados de treino: 5236\n",
      "Tamanho dos dados de teste: 582\n"
     ]
    }
   ],
   "source": [
    "print(f\"treino: {size_train}\\nTeste: {size_test}\\nValidação: {size_val}\")\n",
    "print(f\"Tamanho dos dados de treino: {len(x_train)}\")\n",
    "print(f\"Tamanho dos dados de teste: {len(x_test)}\")"
   ]
  },
  {
   "cell_type": "markdown",
   "metadata": {},
   "source": [
    "## Modelos"
   ]
  },
  {
   "cell_type": "code",
   "execution_count": 43,
   "metadata": {},
   "outputs": [],
   "source": [
    "from kinematicsrobotics.model import Model"
   ]
  },
  {
   "cell_type": "markdown",
   "metadata": {},
   "source": [
    "#### Informações"
   ]
  },
  {
   "cell_type": "code",
   "execution_count": 13,
   "metadata": {},
   "outputs": [
    {
     "data": {
      "text/plain": [
       "{'activation': 'relu',\n",
       " 'alpha': 0.0001,\n",
       " 'batch_size': 'auto',\n",
       " 'beta_1': 0.9,\n",
       " 'beta_2': 0.999,\n",
       " 'early_stopping': True,\n",
       " 'epsilon': 1e-08,\n",
       " 'hidden_layer_sizes': (100,),\n",
       " 'learning_rate': 'constant',\n",
       " 'learning_rate_init': 0.001,\n",
       " 'max_fun': 15000,\n",
       " 'max_iter': 1000,\n",
       " 'momentum': 0.9,\n",
       " 'n_iter_no_change': 5,\n",
       " 'nesterovs_momentum': True,\n",
       " 'power_t': 0.5,\n",
       " 'random_state': 42,\n",
       " 'shuffle': True,\n",
       " 'solver': 'adam',\n",
       " 'tol': 0.0001,\n",
       " 'validation_fraction': 0.1,\n",
       " 'verbose': False,\n",
       " 'warm_start': False}"
      ]
     },
     "execution_count": 13,
     "metadata": {},
     "output_type": "execute_result"
    }
   ],
   "source": [
    "mlp = Model()\n",
    "mlp.params\n",
    "# model.get_params()"
   ]
  },
  {
   "cell_type": "markdown",
   "metadata": {},
   "source": [
    "## Estimação dos hiperparâmetros"
   ]
  },
  {
   "cell_type": "code",
   "execution_count": 83,
   "metadata": {},
   "outputs": [],
   "source": [
    "from sklearn.model_selection import ShuffleSplit,RandomizedSearchCV,GridSearchCV\n",
    "from itertools import product\n",
    "from sklearn.metrics import mean_squared_error,r2_score\n",
    "from pandas import DataFrame\n",
    "\n",
    "# Calcula a porcentagem relativa dos dados de treino e validação\n",
    "def size_split(size_train,size_val):\n",
    "    size_val = (1 - size_train/(size_train+size_val))\n",
    "    return size_val\n",
    "\n",
    "# Espaço de busca dos neurônios\n",
    "def space_hidden(min_neurons,max_neurons,layers,step):\n",
    "    # Lista que armazena os neurônios\n",
    "    neuron_space = []\n",
    "    \n",
    "    # Gera a lista de possíveis números de neurônios em cada camada\n",
    "    possible_neurons = list(range(min_neurons, max_neurons + 1,step))\n",
    "    \n",
    "    # Crie todas as combinações possíveis\n",
    "    for num_layers in layers:\n",
    "        neuron_combinations = list(product(possible_neurons, repeat=num_layers))\n",
    "        neuron_space.extend(neuron_combinations)\n",
    "\n",
    "    return neuron_space\n",
    "\n",
    "# Parâmetro da rede mlp\n",
    "def parameter_mlp(min_neurons,max_neurons,layers,step,func_act): \n",
    "    # Dicionário que armazena os hiperparâmetros\n",
    "    param_grid = {\n",
    "        'hidden_layer_sizes': space_hidden(min_neurons, max_neurons,layers,step),\n",
    "        'activation': func_act\n",
    "    }\n",
    "\n",
    "    return param_grid\n",
    "\n",
    "# Random Search\n",
    "def RandomizedSearch(x, y, model, param_grid, scoring,cv, n_iter):\n",
    "    # Configura os parâmetros da técnica de otimização \n",
    "    random_search = RandomizedSearchCV(estimator=model, \n",
    "                                       param_distributions=param_grid, \n",
    "                                       scoring=scoring, \n",
    "                                       cv=cv, \n",
    "                                       n_iter=n_iter, \n",
    "                                       random_state=42, \n",
    "                                       return_train_score=True,\n",
    "                                       verbose=0)\n",
    "    \n",
    "    # Treina os modelos\n",
    "    random_search.fit(x, y)\n",
    "\n",
    "    # DataFrame que armazena os resultado dos hiperparâmetros\n",
    "    history = DataFrame(random_search.cv_results_)\n",
    "\n",
    "    # Melhor hiperparâmetro\n",
    "    best_estimator = random_search.best_estimator_\n",
    "\n",
    "    return history,best_estimator\n",
    "\n",
    "# Grid Search\n",
    "def GridSearch(x, y, model, param_grid, scoring, cv):\n",
    "    # Configura os parâmetros da técnica de otimização \n",
    "    gridshearch = GridSearchCV(estimator=model,\n",
    "                               param_grid=param_grid,\n",
    "                               cv=cv,\n",
    "                               scoring=scoring,\n",
    "                               verbose=0,\n",
    "                               return_train_score=True)\n",
    "    \n",
    "    # Treina os modelos\n",
    "    gridshearch.fit(x, y)\n",
    "    \n",
    "    # Armazena os resultado dos hiperparâmetros\n",
    "    history = DataFrame(gridshearch.cv_results_)\n",
    "    \n",
    "    best_estimator = gridshearch.best_estimator_\n",
    "\n",
    "    return history,best_estimator\n",
    "\n",
    "# Validação cruzada hold out\n",
    "def holdout(n_splits,test_size):\n",
    "    return ShuffleSplit(n_splits=n_splits, \n",
    "                      test_size=test_size, \n",
    "                      random_state=42)\n",
    "\n"
   ]
  },
  {
   "cell_type": "code",
   "execution_count": 10,
   "metadata": {},
   "outputs": [],
   "source": [
    "# Salvar as métricas \n",
    "sv = save(path_project[0])\n",
    "path_data_save =  r'src\\data\\ready\\history.csv'\n",
    "\n",
    "# Dados de treino e validação\n",
    "size_val = size_split(size_train,size_val)\n",
    "\n",
    "# Espaço de busca do grid search\n",
    "min_neurons= 50\n",
    "max_neurons = 300\n",
    "step = 10\n",
    "layers = [2,3]\n",
    "func_act =  ['relu', 'tanh']\n",
    "\n",
    "param_grid = parameter_mlp(min_neurons = min_neurons,\n",
    "                           max_neurons = max_neurons,\n",
    "                           layers=layers,\n",
    "                           step=step,\n",
    "                           func_act=func_act)\n",
    "\n",
    "\n",
    "# validação cruzada hold out\n",
    "n_splits = 5\n",
    "\n",
    "# Número de amostras selecionadas no espaço de busca\n",
    "n_iter = 1000\n",
    "\n",
    "# Técnica de validação\n",
    "cv = holdout(n_splits,size_val)\n",
    "\n",
    "# inicializando a rede\n",
    "mlp = MLP()\n",
    "\n",
    "# APlicação do grid search\n",
    "history,best_model = RandomizedSearch(x=x_train, \n",
    "                           y=y_train, \n",
    "                           model=mlp, \n",
    "                           param_grid=param_grid,\n",
    "                           scoring = 'neg_mean_squared_error', \n",
    "                           cv=cv,\n",
    "                           n_iter = n_iter)\n",
    "\n",
    "\n",
    "sv.dataframe(history,path_data_save)\n",
    "\n"
   ]
  },
  {
   "cell_type": "markdown",
   "metadata": {},
   "source": [
    "### Infomações"
   ]
  },
  {
   "cell_type": "code",
   "execution_count": 22,
   "metadata": {},
   "outputs": [
    {
     "name": "stdout",
     "output_type": "stream",
     "text": [
      "Número de parametros de camada oculta: 204183\n",
      "Atributos do retorno da gridsearsh: Index(['mean_fit_time', 'std_fit_time', 'mean_score_time', 'std_score_time',\n",
      "       'param_hidden_layer_sizes', 'param_activation', 'params',\n",
      "       'split0_test_score', 'split1_test_score', 'split2_test_score',\n",
      "       'split3_test_score', 'split4_test_score', 'mean_test_score',\n",
      "       'std_test_score', 'rank_test_score', 'split0_train_score',\n",
      "       'split1_train_score', 'split2_train_score', 'split3_train_score',\n",
      "       'split4_train_score', 'mean_train_score', 'std_train_score'],\n",
      "      dtype='object')\n"
     ]
    }
   ],
   "source": [
    "print(f\"Número de parametros de camada oculta: {len(param_grid['hidden_layer_sizes'])}\")\n",
    "print(f\"Atributos do retorno da gridsearsh: {history.columns}\")"
   ]
  },
  {
   "cell_type": "code",
   "execution_count": 26,
   "metadata": {},
   "outputs": [
    {
     "data": {
      "text/html": [
       "<style>#sk-container-id-2 {color: black;background-color: white;}#sk-container-id-2 pre{padding: 0;}#sk-container-id-2 div.sk-toggleable {background-color: white;}#sk-container-id-2 label.sk-toggleable__label {cursor: pointer;display: block;width: 100%;margin-bottom: 0;padding: 0.3em;box-sizing: border-box;text-align: center;}#sk-container-id-2 label.sk-toggleable__label-arrow:before {content: \"▸\";float: left;margin-right: 0.25em;color: #696969;}#sk-container-id-2 label.sk-toggleable__label-arrow:hover:before {color: black;}#sk-container-id-2 div.sk-estimator:hover label.sk-toggleable__label-arrow:before {color: black;}#sk-container-id-2 div.sk-toggleable__content {max-height: 0;max-width: 0;overflow: hidden;text-align: left;background-color: #f0f8ff;}#sk-container-id-2 div.sk-toggleable__content pre {margin: 0.2em;color: black;border-radius: 0.25em;background-color: #f0f8ff;}#sk-container-id-2 input.sk-toggleable__control:checked~div.sk-toggleable__content {max-height: 200px;max-width: 100%;overflow: auto;}#sk-container-id-2 input.sk-toggleable__control:checked~label.sk-toggleable__label-arrow:before {content: \"▾\";}#sk-container-id-2 div.sk-estimator input.sk-toggleable__control:checked~label.sk-toggleable__label {background-color: #d4ebff;}#sk-container-id-2 div.sk-label input.sk-toggleable__control:checked~label.sk-toggleable__label {background-color: #d4ebff;}#sk-container-id-2 input.sk-hidden--visually {border: 0;clip: rect(1px 1px 1px 1px);clip: rect(1px, 1px, 1px, 1px);height: 1px;margin: -1px;overflow: hidden;padding: 0;position: absolute;width: 1px;}#sk-container-id-2 div.sk-estimator {font-family: monospace;background-color: #f0f8ff;border: 1px dotted black;border-radius: 0.25em;box-sizing: border-box;margin-bottom: 0.5em;}#sk-container-id-2 div.sk-estimator:hover {background-color: #d4ebff;}#sk-container-id-2 div.sk-parallel-item::after {content: \"\";width: 100%;border-bottom: 1px solid gray;flex-grow: 1;}#sk-container-id-2 div.sk-label:hover label.sk-toggleable__label {background-color: #d4ebff;}#sk-container-id-2 div.sk-serial::before {content: \"\";position: absolute;border-left: 1px solid gray;box-sizing: border-box;top: 0;bottom: 0;left: 50%;z-index: 0;}#sk-container-id-2 div.sk-serial {display: flex;flex-direction: column;align-items: center;background-color: white;padding-right: 0.2em;padding-left: 0.2em;position: relative;}#sk-container-id-2 div.sk-item {position: relative;z-index: 1;}#sk-container-id-2 div.sk-parallel {display: flex;align-items: stretch;justify-content: center;background-color: white;position: relative;}#sk-container-id-2 div.sk-item::before, #sk-container-id-2 div.sk-parallel-item::before {content: \"\";position: absolute;border-left: 1px solid gray;box-sizing: border-box;top: 0;bottom: 0;left: 50%;z-index: -1;}#sk-container-id-2 div.sk-parallel-item {display: flex;flex-direction: column;z-index: 1;position: relative;background-color: white;}#sk-container-id-2 div.sk-parallel-item:first-child::after {align-self: flex-end;width: 50%;}#sk-container-id-2 div.sk-parallel-item:last-child::after {align-self: flex-start;width: 50%;}#sk-container-id-2 div.sk-parallel-item:only-child::after {width: 0;}#sk-container-id-2 div.sk-dashed-wrapped {border: 1px dashed gray;margin: 0 0.4em 0.5em 0.4em;box-sizing: border-box;padding-bottom: 0.4em;background-color: white;}#sk-container-id-2 div.sk-label label {font-family: monospace;font-weight: bold;display: inline-block;line-height: 1.2em;}#sk-container-id-2 div.sk-label-container {text-align: center;}#sk-container-id-2 div.sk-container {/* jupyter's `normalize.less` sets `[hidden] { display: none; }` but bootstrap.min.css set `[hidden] { display: none !important; }` so we also need the `!important` here to be able to override the default hidden behavior on the sphinx rendered scikit-learn.org. See: https://github.com/scikit-learn/scikit-learn/issues/21755 */display: inline-block !important;position: relative;}#sk-container-id-2 div.sk-text-repr-fallback {display: none;}</style><div id=\"sk-container-id-2\" class=\"sk-top-container\"><div class=\"sk-text-repr-fallback\"><pre>MLPRegressor(early_stopping=True, hidden_layer_sizes=(220, 120, 210, 210),\n",
       "             max_iter=1000, n_iter_no_change=5, random_state=42)</pre><b>In a Jupyter environment, please rerun this cell to show the HTML representation or trust the notebook. <br />On GitHub, the HTML representation is unable to render, please try loading this page with nbviewer.org.</b></div><div class=\"sk-container\" hidden><div class=\"sk-item\"><div class=\"sk-estimator sk-toggleable\"><input class=\"sk-toggleable__control sk-hidden--visually\" id=\"sk-estimator-id-2\" type=\"checkbox\" checked><label for=\"sk-estimator-id-2\" class=\"sk-toggleable__label sk-toggleable__label-arrow\">MLPRegressor</label><div class=\"sk-toggleable__content\"><pre>MLPRegressor(early_stopping=True, hidden_layer_sizes=(220, 120, 210, 210),\n",
       "             max_iter=1000, n_iter_no_change=5, random_state=42)</pre></div></div></div></div></div>"
      ],
      "text/plain": [
       "MLPRegressor(early_stopping=True, hidden_layer_sizes=(220, 120, 210, 210),\n",
       "             max_iter=1000, n_iter_no_change=5, random_state=42)"
      ]
     },
     "execution_count": 26,
     "metadata": {},
     "output_type": "execute_result"
    }
   ],
   "source": [
    "best_model"
   ]
  },
  {
   "cell_type": "code",
   "execution_count": 27,
   "metadata": {},
   "outputs": [
    {
     "data": {
      "text/html": [
       "<div>\n",
       "<style scoped>\n",
       "    .dataframe tbody tr th:only-of-type {\n",
       "        vertical-align: middle;\n",
       "    }\n",
       "\n",
       "    .dataframe tbody tr th {\n",
       "        vertical-align: top;\n",
       "    }\n",
       "\n",
       "    .dataframe thead th {\n",
       "        text-align: right;\n",
       "    }\n",
       "</style>\n",
       "<table border=\"1\" class=\"dataframe\">\n",
       "  <thead>\n",
       "    <tr style=\"text-align: right;\">\n",
       "      <th></th>\n",
       "      <th>mean_test_score</th>\n",
       "      <th>std_test_score</th>\n",
       "      <th>mean_train_score</th>\n",
       "      <th>std_train_score</th>\n",
       "      <th>params</th>\n",
       "    </tr>\n",
       "  </thead>\n",
       "  <tbody>\n",
       "    <tr>\n",
       "      <th>0</th>\n",
       "      <td>-0.005603</td>\n",
       "      <td>0.000387</td>\n",
       "      <td>-0.004849</td>\n",
       "      <td>0.000581</td>\n",
       "      <td>{'hidden_layer_sizes': (220, 120, 210, 210), '...</td>\n",
       "    </tr>\n",
       "  </tbody>\n",
       "</table>\n",
       "</div>"
      ],
      "text/plain": [
       "   mean_test_score  std_test_score  mean_train_score  std_train_score  \\\n",
       "0        -0.005603        0.000387         -0.004849         0.000581   \n",
       "\n",
       "                                              params  \n",
       "0  {'hidden_layer_sizes': (220, 120, 210, 210), '...  "
      ]
     },
     "execution_count": 27,
     "metadata": {},
     "output_type": "execute_result"
    }
   ],
   "source": [
    "history[['mean_test_score','std_test_score','mean_train_score', 'std_train_score','params']]"
   ]
  },
  {
   "cell_type": "markdown",
   "metadata": {},
   "source": [
    "## Métricas de Avaliação"
   ]
  },
  {
   "cell_type": "code",
   "execution_count": 85,
   "metadata": {},
   "outputs": [],
   "source": [
    "from sklearn.metrics import mean_squared_error\n",
    "import matplotlib.pyplot as plt\n",
    "\n",
    "def predict_mse(y_predic,Y_test):    \n",
    "    return mean_squared_error(Y_test, y_predic,multioutput='raw_values')\n",
    "\n",
    "\n",
    "\n",
    "def curve_loss(model):\n",
    "    plt.plot(model.loss_curve_)\n",
    "    plt.title('Erro Quadratico')\n",
    "    plt.xlabel('Épocas')\n",
    "    plt.ylabel('MSE')\n",
    "    plt.show()\n",
    "\n",
    "def robo():\n",
    "    # Define os parâmetros DH para cada elo\n",
    "    Elos = [['theta_1',10,0,90,0],\n",
    "            ['theta_2',0,18,180,0],\n",
    "            ['theta_3',0,18,-180,0],\n",
    "\n",
    "            ['theta_4',0,0,90,90],\n",
    "            ['theta_5',18,0,0,0]]\n",
    "\n",
    "    # Cria o robo por meio dos parâmetros\n",
    "    return Robo('Robotest',Elos)\n",
    "\n"
   ]
  },
  {
   "cell_type": "markdown",
   "metadata": {},
   "source": [
    "## Treinamento, validação e teste do modelo selecionado"
   ]
  },
  {
   "cell_type": "code",
   "execution_count": 44,
   "metadata": {},
   "outputs": [],
   "source": [
    "path_data = r'src\\data\\ready\\history.csv'\n",
    "history = extract.dataframe(path_data)\n",
    "\n",
    "history_best = history[history['rank_test_score'] == 1]\n",
    "\n",
    "params = eval(history_best.iloc[0]['params'])"
   ]
  },
  {
   "cell_type": "code",
   "execution_count": 47,
   "metadata": {},
   "outputs": [],
   "source": [
    "# Treina o modelo com hiperparâmetros selecionados\n",
    "mlp = Model()\n",
    "\n",
    "mlp.set_model(**params)\n",
    "\n",
    "mlp.fit(x = x_train,y = y_train)\n",
    "\n"
   ]
  },
  {
   "cell_type": "code",
   "execution_count": 48,
   "metadata": {},
   "outputs": [
    {
     "data": {
      "text/html": [
       "<style>#sk-container-id-1 {color: black;background-color: white;}#sk-container-id-1 pre{padding: 0;}#sk-container-id-1 div.sk-toggleable {background-color: white;}#sk-container-id-1 label.sk-toggleable__label {cursor: pointer;display: block;width: 100%;margin-bottom: 0;padding: 0.3em;box-sizing: border-box;text-align: center;}#sk-container-id-1 label.sk-toggleable__label-arrow:before {content: \"▸\";float: left;margin-right: 0.25em;color: #696969;}#sk-container-id-1 label.sk-toggleable__label-arrow:hover:before {color: black;}#sk-container-id-1 div.sk-estimator:hover label.sk-toggleable__label-arrow:before {color: black;}#sk-container-id-1 div.sk-toggleable__content {max-height: 0;max-width: 0;overflow: hidden;text-align: left;background-color: #f0f8ff;}#sk-container-id-1 div.sk-toggleable__content pre {margin: 0.2em;color: black;border-radius: 0.25em;background-color: #f0f8ff;}#sk-container-id-1 input.sk-toggleable__control:checked~div.sk-toggleable__content {max-height: 200px;max-width: 100%;overflow: auto;}#sk-container-id-1 input.sk-toggleable__control:checked~label.sk-toggleable__label-arrow:before {content: \"▾\";}#sk-container-id-1 div.sk-estimator input.sk-toggleable__control:checked~label.sk-toggleable__label {background-color: #d4ebff;}#sk-container-id-1 div.sk-label input.sk-toggleable__control:checked~label.sk-toggleable__label {background-color: #d4ebff;}#sk-container-id-1 input.sk-hidden--visually {border: 0;clip: rect(1px 1px 1px 1px);clip: rect(1px, 1px, 1px, 1px);height: 1px;margin: -1px;overflow: hidden;padding: 0;position: absolute;width: 1px;}#sk-container-id-1 div.sk-estimator {font-family: monospace;background-color: #f0f8ff;border: 1px dotted black;border-radius: 0.25em;box-sizing: border-box;margin-bottom: 0.5em;}#sk-container-id-1 div.sk-estimator:hover {background-color: #d4ebff;}#sk-container-id-1 div.sk-parallel-item::after {content: \"\";width: 100%;border-bottom: 1px solid gray;flex-grow: 1;}#sk-container-id-1 div.sk-label:hover label.sk-toggleable__label {background-color: #d4ebff;}#sk-container-id-1 div.sk-serial::before {content: \"\";position: absolute;border-left: 1px solid gray;box-sizing: border-box;top: 0;bottom: 0;left: 50%;z-index: 0;}#sk-container-id-1 div.sk-serial {display: flex;flex-direction: column;align-items: center;background-color: white;padding-right: 0.2em;padding-left: 0.2em;position: relative;}#sk-container-id-1 div.sk-item {position: relative;z-index: 1;}#sk-container-id-1 div.sk-parallel {display: flex;align-items: stretch;justify-content: center;background-color: white;position: relative;}#sk-container-id-1 div.sk-item::before, #sk-container-id-1 div.sk-parallel-item::before {content: \"\";position: absolute;border-left: 1px solid gray;box-sizing: border-box;top: 0;bottom: 0;left: 50%;z-index: -1;}#sk-container-id-1 div.sk-parallel-item {display: flex;flex-direction: column;z-index: 1;position: relative;background-color: white;}#sk-container-id-1 div.sk-parallel-item:first-child::after {align-self: flex-end;width: 50%;}#sk-container-id-1 div.sk-parallel-item:last-child::after {align-self: flex-start;width: 50%;}#sk-container-id-1 div.sk-parallel-item:only-child::after {width: 0;}#sk-container-id-1 div.sk-dashed-wrapped {border: 1px dashed gray;margin: 0 0.4em 0.5em 0.4em;box-sizing: border-box;padding-bottom: 0.4em;background-color: white;}#sk-container-id-1 div.sk-label label {font-family: monospace;font-weight: bold;display: inline-block;line-height: 1.2em;}#sk-container-id-1 div.sk-label-container {text-align: center;}#sk-container-id-1 div.sk-container {/* jupyter's `normalize.less` sets `[hidden] { display: none; }` but bootstrap.min.css set `[hidden] { display: none !important; }` so we also need the `!important` here to be able to override the default hidden behavior on the sphinx rendered scikit-learn.org. See: https://github.com/scikit-learn/scikit-learn/issues/21755 */display: inline-block !important;position: relative;}#sk-container-id-1 div.sk-text-repr-fallback {display: none;}</style><div id=\"sk-container-id-1\" class=\"sk-top-container\"><div class=\"sk-text-repr-fallback\"><pre>MLPRegressor(early_stopping=True, hidden_layer_sizes=(120, 220, 290),\n",
       "             max_iter=1000, n_iter_no_change=5, random_state=42)</pre><b>In a Jupyter environment, please rerun this cell to show the HTML representation or trust the notebook. <br />On GitHub, the HTML representation is unable to render, please try loading this page with nbviewer.org.</b></div><div class=\"sk-container\" hidden><div class=\"sk-item\"><div class=\"sk-estimator sk-toggleable\"><input class=\"sk-toggleable__control sk-hidden--visually\" id=\"sk-estimator-id-1\" type=\"checkbox\" checked><label for=\"sk-estimator-id-1\" class=\"sk-toggleable__label sk-toggleable__label-arrow\">MLPRegressor</label><div class=\"sk-toggleable__content\"><pre>MLPRegressor(early_stopping=True, hidden_layer_sizes=(120, 220, 290),\n",
       "             max_iter=1000, n_iter_no_change=5, random_state=42)</pre></div></div></div></div></div>"
      ],
      "text/plain": [
       "MLPRegressor(early_stopping=True, hidden_layer_sizes=(120, 220, 290),\n",
       "             max_iter=1000, n_iter_no_change=5, random_state=42)"
      ]
     },
     "execution_count": 48,
     "metadata": {},
     "output_type": "execute_result"
    }
   ],
   "source": [
    "mlp.model"
   ]
  },
  {
   "cell_type": "markdown",
   "metadata": {},
   "source": [
    "### Espaço das juntas"
   ]
  },
  {
   "cell_type": "code",
   "execution_count": 88,
   "metadata": {},
   "outputs": [
    {
     "data": {
      "text/plain": [
       "array([ 1.03045163,  4.40377084, 10.42354988,  6.19330727])"
      ]
     },
     "execution_count": 88,
     "metadata": {},
     "output_type": "execute_result"
    }
   ],
   "source": [
    "# Metrica de dados de treino\n",
    "y_predic = scaler_y.inverse_transform(mlp.predict(x_train))\n",
    "y_train = scaler_y.inverse_transform(y_train)\n",
    "predict_mse(y_predic, y_train)"
   ]
  },
  {
   "cell_type": "code",
   "execution_count": 89,
   "metadata": {},
   "outputs": [
    {
     "data": {
      "text/plain": [
       "array([ 1.09959474,  5.41123919, 13.74559807,  7.01453628])"
      ]
     },
     "execution_count": 89,
     "metadata": {},
     "output_type": "execute_result"
    }
   ],
   "source": [
    "# Metrica dos dados de teste\n",
    "y_predic = scaler_y.inverse_transform(mlp.predict(x_test))\n",
    "y_test = scaler_y.inverse_transform(y_test)\n",
    "predict_mse(y_predic, y_test)"
   ]
  },
  {
   "cell_type": "markdown",
   "metadata": {},
   "source": [
    "### Espaço Operacional"
   ]
  },
  {
   "cell_type": "code",
   "execution_count": 91,
   "metadata": {},
   "outputs": [],
   "source": [
    "def transfor(array):\n",
    "    novo_array = []\n",
    "    for sub_array in array:\n",
    "            novo_sub_array = append(sub_array, 0)\n",
    "            novo_array.append(novo_sub_array)\n",
    "    return novo_array\n",
    "x_test = scaler_x.inverse_transform(x_test)"
   ]
  },
  {
   "cell_type": "code",
   "execution_count": 92,
   "metadata": {},
   "outputs": [
    {
     "data": {
      "text/html": [
       "<div>\n",
       "<style scoped>\n",
       "    .dataframe tbody tr th:only-of-type {\n",
       "        vertical-align: middle;\n",
       "    }\n",
       "\n",
       "    .dataframe tbody tr th {\n",
       "        vertical-align: top;\n",
       "    }\n",
       "\n",
       "    .dataframe thead th {\n",
       "        text-align: right;\n",
       "    }\n",
       "</style>\n",
       "<table border=\"1\" class=\"dataframe\">\n",
       "  <thead>\n",
       "    <tr style=\"text-align: right;\">\n",
       "      <th></th>\n",
       "      <th>p_x</th>\n",
       "      <th>p_y</th>\n",
       "      <th>p_z</th>\n",
       "    </tr>\n",
       "  </thead>\n",
       "  <tbody>\n",
       "    <tr>\n",
       "      <th>0</th>\n",
       "      <td>-3.752096</td>\n",
       "      <td>4.288665e+01</td>\n",
       "      <td>22.009608</td>\n",
       "    </tr>\n",
       "    <tr>\n",
       "      <th>1</th>\n",
       "      <td>12.039621</td>\n",
       "      <td>2.581905e+01</td>\n",
       "      <td>51.858136</td>\n",
       "    </tr>\n",
       "    <tr>\n",
       "      <th>2</th>\n",
       "      <td>-24.671478</td>\n",
       "      <td>-1.424408e+01</td>\n",
       "      <td>47.232262</td>\n",
       "    </tr>\n",
       "    <tr>\n",
       "      <th>3</th>\n",
       "      <td>-34.443818</td>\n",
       "      <td>1.776357e-15</td>\n",
       "      <td>48.498174</td>\n",
       "    </tr>\n",
       "    <tr>\n",
       "      <th>4</th>\n",
       "      <td>20.677811</td>\n",
       "      <td>2.464286e+01</td>\n",
       "      <td>38.965064</td>\n",
       "    </tr>\n",
       "    <tr>\n",
       "      <th>...</th>\n",
       "      <td>...</td>\n",
       "      <td>...</td>\n",
       "      <td>...</td>\n",
       "    </tr>\n",
       "    <tr>\n",
       "      <th>577</th>\n",
       "      <td>23.844095</td>\n",
       "      <td>2.841629e+01</td>\n",
       "      <td>20.416573</td>\n",
       "    </tr>\n",
       "    <tr>\n",
       "      <th>578</th>\n",
       "      <td>7.543940</td>\n",
       "      <td>4.278381e+01</td>\n",
       "      <td>1.732802</td>\n",
       "    </tr>\n",
       "    <tr>\n",
       "      <th>579</th>\n",
       "      <td>12.039621</td>\n",
       "      <td>-2.581905e+01</td>\n",
       "      <td>39.747441</td>\n",
       "    </tr>\n",
       "    <tr>\n",
       "      <th>580</th>\n",
       "      <td>25.462605</td>\n",
       "      <td>3.034515e+01</td>\n",
       "      <td>23.540168</td>\n",
       "    </tr>\n",
       "    <tr>\n",
       "      <th>581</th>\n",
       "      <td>24.692738</td>\n",
       "      <td>3.526488e+01</td>\n",
       "      <td>22.009608</td>\n",
       "    </tr>\n",
       "  </tbody>\n",
       "</table>\n",
       "<p>582 rows × 3 columns</p>\n",
       "</div>"
      ],
      "text/plain": [
       "           p_x           p_y        p_z\n",
       "0    -3.752096  4.288665e+01  22.009608\n",
       "1    12.039621  2.581905e+01  51.858136\n",
       "2   -24.671478 -1.424408e+01  47.232262\n",
       "3   -34.443818  1.776357e-15  48.498174\n",
       "4    20.677811  2.464286e+01  38.965064\n",
       "..         ...           ...        ...\n",
       "577  23.844095  2.841629e+01  20.416573\n",
       "578   7.543940  4.278381e+01   1.732802\n",
       "579  12.039621 -2.581905e+01  39.747441\n",
       "580  25.462605  3.034515e+01  23.540168\n",
       "581  24.692738  3.526488e+01  22.009608\n",
       "\n",
       "[582 rows x 3 columns]"
      ]
     },
     "execution_count": 92,
     "metadata": {},
     "output_type": "execute_result"
    }
   ],
   "source": [
    "pose_predic = transfor(y_predic)\n",
    "\n",
    "pose_real = DataFrame(x_test, columns=['p_x','p_y', 'p_z','roll','pich','yaw'])\n",
    "pose_real = pose_real[['p_x','p_y', 'p_z']]\n",
    "pose_real"
   ]
  },
  {
   "cell_type": "code",
   "execution_count": 93,
   "metadata": {},
   "outputs": [],
   "source": [
    "data = mapping.operational_space(pose_predic)"
   ]
  },
  {
   "cell_type": "code",
   "execution_count": 94,
   "metadata": {},
   "outputs": [
    {
     "data": {
      "text/html": [
       "<div>\n",
       "<style scoped>\n",
       "    .dataframe tbody tr th:only-of-type {\n",
       "        vertical-align: middle;\n",
       "    }\n",
       "\n",
       "    .dataframe tbody tr th {\n",
       "        vertical-align: top;\n",
       "    }\n",
       "\n",
       "    .dataframe thead th {\n",
       "        text-align: right;\n",
       "    }\n",
       "</style>\n",
       "<table border=\"1\" class=\"dataframe\">\n",
       "  <thead>\n",
       "    <tr style=\"text-align: right;\">\n",
       "      <th></th>\n",
       "      <th>p_x</th>\n",
       "      <th>p_y</th>\n",
       "      <th>p_z</th>\n",
       "    </tr>\n",
       "  </thead>\n",
       "  <tbody>\n",
       "    <tr>\n",
       "      <th>0</th>\n",
       "      <td>-25.564833</td>\n",
       "      <td>-2.098390</td>\n",
       "      <td>-9.314471</td>\n",
       "    </tr>\n",
       "    <tr>\n",
       "      <th>1</th>\n",
       "      <td>-22.410147</td>\n",
       "      <td>10.963173</td>\n",
       "      <td>16.254111</td>\n",
       "    </tr>\n",
       "    <tr>\n",
       "      <th>2</th>\n",
       "      <td>6.100140</td>\n",
       "      <td>-9.916065</td>\n",
       "      <td>15.712246</td>\n",
       "    </tr>\n",
       "    <tr>\n",
       "      <th>3</th>\n",
       "      <td>0.461947</td>\n",
       "      <td>-15.878274</td>\n",
       "      <td>18.522460</td>\n",
       "    </tr>\n",
       "    <tr>\n",
       "      <th>4</th>\n",
       "      <td>-27.457807</td>\n",
       "      <td>23.545584</td>\n",
       "      <td>3.194996</td>\n",
       "    </tr>\n",
       "    <tr>\n",
       "      <th>...</th>\n",
       "      <td>...</td>\n",
       "      <td>...</td>\n",
       "      <td>...</td>\n",
       "    </tr>\n",
       "    <tr>\n",
       "      <th>577</th>\n",
       "      <td>-26.117746</td>\n",
       "      <td>21.603906</td>\n",
       "      <td>-15.326076</td>\n",
       "    </tr>\n",
       "    <tr>\n",
       "      <th>578</th>\n",
       "      <td>-10.614455</td>\n",
       "      <td>2.103847</td>\n",
       "      <td>-12.843672</td>\n",
       "    </tr>\n",
       "    <tr>\n",
       "      <th>579</th>\n",
       "      <td>13.494952</td>\n",
       "      <td>6.210928</td>\n",
       "      <td>7.062461</td>\n",
       "    </tr>\n",
       "    <tr>\n",
       "      <th>580</th>\n",
       "      <td>-21.652794</td>\n",
       "      <td>18.247551</td>\n",
       "      <td>-11.504055</td>\n",
       "    </tr>\n",
       "    <tr>\n",
       "      <th>581</th>\n",
       "      <td>-20.760624</td>\n",
       "      <td>14.372704</td>\n",
       "      <td>-9.688029</td>\n",
       "    </tr>\n",
       "  </tbody>\n",
       "</table>\n",
       "<p>582 rows × 3 columns</p>\n",
       "</div>"
      ],
      "text/plain": [
       "           p_x        p_y        p_z\n",
       "0   -25.564833  -2.098390  -9.314471\n",
       "1   -22.410147  10.963173  16.254111\n",
       "2     6.100140  -9.916065  15.712246\n",
       "3     0.461947 -15.878274  18.522460\n",
       "4   -27.457807  23.545584   3.194996\n",
       "..         ...        ...        ...\n",
       "577 -26.117746  21.603906 -15.326076\n",
       "578 -10.614455   2.103847 -12.843672\n",
       "579  13.494952   6.210928   7.062461\n",
       "580 -21.652794  18.247551 -11.504055\n",
       "581 -20.760624  14.372704  -9.688029\n",
       "\n",
       "[582 rows x 3 columns]"
      ]
     },
     "execution_count": 94,
     "metadata": {},
     "output_type": "execute_result"
    }
   ],
   "source": [
    "dt_predic = DataFrame(data,columns=['R_11','R_12','R_13','p_x','R_21','R_22','R_23','p_y','R_31','R_32','R_33','p_z'])\n",
    "dt = dt_predic[['p_x', 'p_y', 'p_z']]\n",
    "dt"
   ]
  }
 ],
 "metadata": {
  "kernelspec": {
   "display_name": "Python 3",
   "language": "python",
   "name": "python3"
  },
  "language_info": {
   "codemirror_mode": {
    "name": "ipython",
    "version": 3
   },
   "file_extension": ".py",
   "mimetype": "text/x-python",
   "name": "python",
   "nbconvert_exporter": "python",
   "pygments_lexer": "ipython3",
   "version": "3.11.7"
  }
 },
 "nbformat": 4,
 "nbformat_minor": 2
}
