{
 "cells": [
  {
   "cell_type": "code",
   "execution_count": 28,
   "metadata": {},
   "outputs": [],
   "source": [
    "from sklearn.preprocessing import StandardScaler\n",
    "from sklearn.metrics import mean_squared_error\n",
    "from sklearn.model_selection import GridSearchCV\n",
    "from sklearn.metrics import mean_squared_error, r2_score\n",
    "\n",
    "import numpy as np"
   ]
  },
  {
   "cell_type": "code",
   "execution_count": 2,
   "metadata": {},
   "outputs": [],
   "source": [
    "import sys\n",
    "path_module = r'C:\\Users\\mathe\\OneDrive\\Graduação - UFC\\Engenharia da Computação\\TCC\\Códigos e implementações\\V.2\\kinematics-robotics\\src\\kinematicsrobotics'\n",
    "sys.path.append(path_module)\n",
    "import datahandler"
   ]
  },
  {
   "cell_type": "markdown",
   "metadata": {},
   "source": [
    "## Dados"
   ]
  },
  {
   "cell_type": "code",
   "execution_count": 4,
   "metadata": {},
   "outputs": [],
   "source": [
    "path_data = r'src\\data\\ready\\dataset-radius-0.5cm.csv'\n",
    "path_project = r'C:\\Users\\mathe\\OneDrive\\Graduação - UFC\\Engenharia da Computação\\TCC\\Códigos e implementações\\V.2\\kinematics-robotics'\n",
    "\n",
    "ext = datahandler.extract(path_project)\n",
    "\n",
    "dataset = ext.dataframe(path_data)\n"
   ]
  },
  {
   "cell_type": "markdown",
   "metadata": {},
   "source": [
    "### Atributos e saídas"
   ]
  },
  {
   "cell_type": "code",
   "execution_count": 5,
   "metadata": {},
   "outputs": [],
   "source": [
    "y = dataset.iloc[:,0:4]\n",
    "x = dataset.iloc[:,5:11]"
   ]
  },
  {
   "cell_type": "markdown",
   "metadata": {},
   "source": [
    "#### Análise dos dados"
   ]
  },
  {
   "cell_type": "code",
   "execution_count": 6,
   "metadata": {},
   "outputs": [
    {
     "name": "stdout",
     "output_type": "stream",
     "text": [
      "Index(['theta_1', 'theta_2', 'theta_3', 'theta_4', 'theta_5', 'p_x', 'p_y',\n",
      "       'p_z', 'roll', 'pich', 'yaw'],\n",
      "      dtype='object')\n"
     ]
    }
   ],
   "source": [
    "print(dataset.columns)"
   ]
  },
  {
   "cell_type": "code",
   "execution_count": 7,
   "metadata": {},
   "outputs": [
    {
     "name": "stdout",
     "output_type": "stream",
     "text": [
      "Tamanho do dataset: (15324, 4)\n"
     ]
    }
   ],
   "source": [
    "print(f\"Tamanho do dataset: {y.shape}\")"
   ]
  },
  {
   "cell_type": "code",
   "execution_count": 8,
   "metadata": {},
   "outputs": [
    {
     "data": {
      "text/html": [
       "<div>\n",
       "<style scoped>\n",
       "    .dataframe tbody tr th:only-of-type {\n",
       "        vertical-align: middle;\n",
       "    }\n",
       "\n",
       "    .dataframe tbody tr th {\n",
       "        vertical-align: top;\n",
       "    }\n",
       "\n",
       "    .dataframe thead th {\n",
       "        text-align: right;\n",
       "    }\n",
       "</style>\n",
       "<table border=\"1\" class=\"dataframe\">\n",
       "  <thead>\n",
       "    <tr style=\"text-align: right;\">\n",
       "      <th></th>\n",
       "      <th>theta_1</th>\n",
       "      <th>theta_2</th>\n",
       "      <th>theta_3</th>\n",
       "      <th>theta_4</th>\n",
       "    </tr>\n",
       "  </thead>\n",
       "  <tbody>\n",
       "    <tr>\n",
       "      <th>0</th>\n",
       "      <td>0</td>\n",
       "      <td>0</td>\n",
       "      <td>0</td>\n",
       "      <td>0</td>\n",
       "    </tr>\n",
       "    <tr>\n",
       "      <th>1</th>\n",
       "      <td>0</td>\n",
       "      <td>0</td>\n",
       "      <td>12</td>\n",
       "      <td>0</td>\n",
       "    </tr>\n",
       "  </tbody>\n",
       "</table>\n",
       "</div>"
      ],
      "text/plain": [
       "   theta_1  theta_2  theta_3  theta_4\n",
       "0        0        0        0        0\n",
       "1        0        0       12        0"
      ]
     },
     "execution_count": 8,
     "metadata": {},
     "output_type": "execute_result"
    }
   ],
   "source": [
    "y.head(2)"
   ]
  },
  {
   "cell_type": "code",
   "execution_count": 9,
   "metadata": {},
   "outputs": [
    {
     "data": {
      "text/html": [
       "<div>\n",
       "<style scoped>\n",
       "    .dataframe tbody tr th:only-of-type {\n",
       "        vertical-align: middle;\n",
       "    }\n",
       "\n",
       "    .dataframe tbody tr th {\n",
       "        vertical-align: top;\n",
       "    }\n",
       "\n",
       "    .dataframe thead th {\n",
       "        text-align: right;\n",
       "    }\n",
       "</style>\n",
       "<table border=\"1\" class=\"dataframe\">\n",
       "  <thead>\n",
       "    <tr style=\"text-align: right;\">\n",
       "      <th></th>\n",
       "      <th>p_x</th>\n",
       "      <th>p_y</th>\n",
       "      <th>p_z</th>\n",
       "      <th>roll</th>\n",
       "      <th>pich</th>\n",
       "      <th>yaw</th>\n",
       "    </tr>\n",
       "  </thead>\n",
       "  <tbody>\n",
       "    <tr>\n",
       "      <th>0</th>\n",
       "      <td>54.000000</td>\n",
       "      <td>-1.102182e-15</td>\n",
       "      <td>10.000000</td>\n",
       "      <td>2.356194</td>\n",
       "      <td>-1.570796</td>\n",
       "      <td>7.853982e-01</td>\n",
       "    </tr>\n",
       "    <tr>\n",
       "      <th>1</th>\n",
       "      <td>53.213314</td>\n",
       "      <td>-2.477121e-15</td>\n",
       "      <td>2.515179</td>\n",
       "      <td>3.141593</td>\n",
       "      <td>-1.361357</td>\n",
       "      <td>2.752040e-16</td>\n",
       "    </tr>\n",
       "  </tbody>\n",
       "</table>\n",
       "</div>"
      ],
      "text/plain": [
       "         p_x           p_y        p_z      roll      pich           yaw\n",
       "0  54.000000 -1.102182e-15  10.000000  2.356194 -1.570796  7.853982e-01\n",
       "1  53.213314 -2.477121e-15   2.515179  3.141593 -1.361357  2.752040e-16"
      ]
     },
     "execution_count": 9,
     "metadata": {},
     "output_type": "execute_result"
    }
   ],
   "source": [
    "x.head(2)"
   ]
  },
  {
   "cell_type": "markdown",
   "metadata": {},
   "source": [
    "## Pré-processamento de dados"
   ]
  },
  {
   "cell_type": "code",
   "execution_count": 10,
   "metadata": {},
   "outputs": [],
   "source": [
    "import modelmlp"
   ]
  },
  {
   "cell_type": "code",
   "execution_count": 11,
   "metadata": {},
   "outputs": [],
   "source": [
    "x_train, x_test, y_train, y_test = modelmlp.split(x,y,0.1)"
   ]
  },
  {
   "cell_type": "markdown",
   "metadata": {},
   "source": [
    "#### informações"
   ]
  },
  {
   "cell_type": "code",
   "execution_count": 12,
   "metadata": {},
   "outputs": [
    {
     "name": "stdout",
     "output_type": "stream",
     "text": [
      "13791\n",
      "1533\n"
     ]
    }
   ],
   "source": [
    "print(f\"{len(x_train)}\")\n",
    "print(f\"{len(x_test)}\")"
   ]
  },
  {
   "cell_type": "markdown",
   "metadata": {},
   "source": [
    "### Normalização dos dados"
   ]
  },
  {
   "cell_type": "code",
   "execution_count": 116,
   "metadata": {},
   "outputs": [],
   "source": [
    "scaler = StandardScaler()\n",
    "x_train = scaler.fit_transform(x_train)\n",
    "y_train = scaler.fit_transform(y_train)"
   ]
  },
  {
   "cell_type": "markdown",
   "metadata": {},
   "source": [
    "## Modelo"
   ]
  },
  {
   "cell_type": "code",
   "execution_count": 18,
   "metadata": {},
   "outputs": [
    {
     "name": "stdout",
     "output_type": "stream",
     "text": [
      "Índices de Treino: 11032\n",
      "Índices de Teste: 2759\n",
      "----------------------\n",
      "Índices de Treino: 11032\n",
      "Índices de Teste: 2759\n",
      "----------------------\n",
      "Índices de Treino: 11032\n",
      "Índices de Teste: 2759\n",
      "----------------------\n"
     ]
    }
   ],
   "source": [
    "from sklearn.model_selection import ShuffleSplit\n",
    "ss = ShuffleSplit(n_splits=3, test_size=0.2, random_state=42)\n",
    "for train_index, test_index in ss.split(x_train, y_train):\n",
    "    print(\"Índices de Treino:\", len(train_index))\n",
    "    print(\"Índices de Teste:\", len(test_index))\n",
    "    print(\"----------------------\")"
   ]
  },
  {
   "cell_type": "code",
   "execution_count": null,
   "metadata": {},
   "outputs": [],
   "source": [
    "from sklearn.neural_network import MLPRegressor\n",
    "def modelo(hidden):\n",
    "    func_act = 'tanh'\n",
    "    model = MLPRegressor(hidden_layer_sizes=hidden,\n",
    "                        activation=func_act)"
   ]
  },
  {
   "cell_type": "code",
   "execution_count": 126,
   "metadata": {},
   "outputs": [],
   "source": [
    "# Definir os parâmetros\n",
    "taxa_aprendizado = 0.01\n",
    "numero_epocas = 1000\n",
    "erro_adm = 0.01\n",
    "fator_momento = 0.9\n",
    "validacao = 0.1"
   ]
  },
  {
   "cell_type": "code",
   "execution_count": 129,
   "metadata": {},
   "outputs": [],
   "source": [
    "model = MLPRegressor(hidden_layer_sizes=(100, 200), #validação\n",
    "                    activation='tanh',  # Função de ativação da camada oculta\n",
    "                    random_state=42)"
   ]
  },
  {
   "cell_type": "markdown",
   "metadata": {},
   "source": [
    "## Seleção de modelos"
   ]
  },
  {
   "cell_type": "code",
   "execution_count": 24,
   "metadata": {},
   "outputs": [],
   "source": [
    "def grid_search(X_train, y_train, param_grid, model):\n",
    "    grid_search = GridSearchCV(estimator=model, param_grid=param_grid, cv=3,scoring='neg_mean_squared_error', return_train_score=True)\n",
    "    grid_search.fit(X_train, y_train)\n",
    "    #.ravel()\n",
    "\n",
    "    # Avaliação do melhor hiperparâmetro\n",
    "    melhor_modelo = grid_search.best_estimator_\n",
    "    y_pred = melhor_modelo.predict(X_train)\n",
    "    mse = mean_squared_error(y_train, y_pred)\n",
    "    r2 = r2_score(y_train, y_pred)\n",
    "\n",
    "    print(\"Melhores hiperparâmetros:\", grid_search.best_params_)\n",
    "    print(f\"\\nMSE nos dados completos: {mse}\")\n",
    "    print(f\"R² nos dados completos: {r2}\")\n",
    "\n",
    "    # Extrair os resultados da validação cruzada\n",
    "    resultados = pd.DataFrame(grid_search.cv_results_)\n",
    "\n",
    "    colunas_interesse = ['param_hidden_layer_sizes', 'mean_test_score', 'std_test_score']\n",
    "    resultados_interesse = resultados[colunas_interesse]\n",
    "\n",
    "    print(\"Avaliação do MSE para cada hiperparâmetro testado:\")\n",
    "    print(resultados_interesse)\n",
    "    return resultados"
   ]
  },
  {
   "cell_type": "markdown",
   "metadata": {},
   "source": [
    "### Modelo"
   ]
  },
  {
   "cell_type": "code",
   "execution_count": 130,
   "metadata": {},
   "outputs": [
    {
     "name": "stdout",
     "output_type": "stream",
     "text": [
      "0.008671714073118121\n"
     ]
    }
   ],
   "source": [
    "# Treinando o modelo\n",
    "model.fit(Xtrain, Ytrain)\n",
    "\n",
    "# Fazendo previsões\n",
    "y_pred = model.predict(Xtrain)\n",
    "\n",
    "# Avaliando o modelo\n",
    "mse = mean_squared_error(Ytrain, y_pred)\n",
    "print(mse)\n",
    "#print(f\"{Ytrain}  {y_pred}\")"
   ]
  },
  {
   "cell_type": "markdown",
   "metadata": {},
   "source": [
    "## Avaliação de modelos\n"
   ]
  },
  {
   "cell_type": "markdown",
   "metadata": {},
   "source": [
    "Métricas de regressão (MSE, RMSE, R²)\n",
    "Validação cruzada\n",
    "Curvas de aprendizado\n",
    "Matrizes de confusão.\n",
    "Grid search e busca aleatória de hiperparâmetros."
   ]
  },
  {
   "cell_type": "code",
   "execution_count": null,
   "metadata": {},
   "outputs": [],
   "source": [
    "from sklearn.metrics import mean_squared_error\n",
    "\n",
    "def predict_mse(model,X_test,Y_test):\n",
    "    y_predic = model.predict(X_test)\n",
    "    return mean_squared_error(Y_test, y_predic,multioutput='raw_values')"
   ]
  }
 ],
 "metadata": {
  "kernelspec": {
   "display_name": "Python 3",
   "language": "python",
   "name": "python3"
  },
  "language_info": {
   "codemirror_mode": {
    "name": "ipython",
    "version": 3
   },
   "file_extension": ".py",
   "mimetype": "text/x-python",
   "name": "python",
   "nbconvert_exporter": "python",
   "pygments_lexer": "ipython3",
   "version": "3.11.7"
  }
 },
 "nbformat": 4,
 "nbformat_minor": 2
}
