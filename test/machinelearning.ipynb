{
 "cells": [
  {
   "cell_type": "code",
   "execution_count": 1,
   "metadata": {},
   "outputs": [],
   "source": [
    "import sys, os\n",
    "from pathlib import Path\n",
    "\n",
    "sys.path.append(os.path.abspath(Path().resolve().parent/'src'))"
   ]
  },
  {
   "cell_type": "code",
   "execution_count": 2,
   "metadata": {},
   "outputs": [],
   "source": [
    "from kinematicsrobotics.datahandler import Extract\n",
    "from kinematicsrobotics.dataprocessing import Preprocessing\n",
    "from kinematicsrobotics.model import Model\n",
    "from kinematicsrobotics.metrics import Metrics\n",
    "from kinematicsrobotics.kinematics import Robo,Spacemapping"
   ]
  },
  {
   "cell_type": "markdown",
   "metadata": {},
   "source": [
    "## Dataset"
   ]
  },
  {
   "cell_type": "code",
   "execution_count": 3,
   "metadata": {},
   "outputs": [
    {
     "data": {
      "text/html": [
       "<div>\n",
       "<style scoped>\n",
       "    .dataframe tbody tr th:only-of-type {\n",
       "        vertical-align: middle;\n",
       "    }\n",
       "\n",
       "    .dataframe tbody tr th {\n",
       "        vertical-align: top;\n",
       "    }\n",
       "\n",
       "    .dataframe thead th {\n",
       "        text-align: right;\n",
       "    }\n",
       "</style>\n",
       "<table border=\"1\" class=\"dataframe\">\n",
       "  <thead>\n",
       "    <tr style=\"text-align: right;\">\n",
       "      <th></th>\n",
       "      <th>theta_1</th>\n",
       "      <th>theta_2</th>\n",
       "      <th>theta_3</th>\n",
       "      <th>theta_4</th>\n",
       "      <th>theta_5</th>\n",
       "      <th>p_x</th>\n",
       "      <th>p_y</th>\n",
       "      <th>p_z</th>\n",
       "      <th>roll</th>\n",
       "      <th>pich</th>\n",
       "      <th>yaw</th>\n",
       "    </tr>\n",
       "  </thead>\n",
       "  <tbody>\n",
       "    <tr>\n",
       "      <th>0</th>\n",
       "      <td>0</td>\n",
       "      <td>0</td>\n",
       "      <td>12</td>\n",
       "      <td>0</td>\n",
       "      <td>0</td>\n",
       "      <td>53.213314</td>\n",
       "      <td>-2.477121e-15</td>\n",
       "      <td>2.515179</td>\n",
       "      <td>3.141593e+00</td>\n",
       "      <td>-1.361357</td>\n",
       "      <td>2.752040e-16</td>\n",
       "    </tr>\n",
       "    <tr>\n",
       "      <th>1</th>\n",
       "      <td>0</td>\n",
       "      <td>12</td>\n",
       "      <td>12</td>\n",
       "      <td>0</td>\n",
       "      <td>0</td>\n",
       "      <td>53.606657</td>\n",
       "      <td>-1.789652e-15</td>\n",
       "      <td>13.742410</td>\n",
       "      <td>2.378531e+00</td>\n",
       "      <td>-1.570796</td>\n",
       "      <td>7.630613e-01</td>\n",
       "    </tr>\n",
       "    <tr>\n",
       "      <th>2</th>\n",
       "      <td>0</td>\n",
       "      <td>12</td>\n",
       "      <td>24</td>\n",
       "      <td>0</td>\n",
       "      <td>0</td>\n",
       "      <td>52.819970</td>\n",
       "      <td>-3.124530e-15</td>\n",
       "      <td>6.257590</td>\n",
       "      <td>3.141593e+00</td>\n",
       "      <td>-1.361357</td>\n",
       "      <td>2.371518e-16</td>\n",
       "    </tr>\n",
       "    <tr>\n",
       "      <th>3</th>\n",
       "      <td>0</td>\n",
       "      <td>12</td>\n",
       "      <td>24</td>\n",
       "      <td>12</td>\n",
       "      <td>0</td>\n",
       "      <td>53.213314</td>\n",
       "      <td>-2.915404e-15</td>\n",
       "      <td>10.000000</td>\n",
       "      <td>2.356194e+00</td>\n",
       "      <td>-1.570796</td>\n",
       "      <td>7.853982e-01</td>\n",
       "    </tr>\n",
       "    <tr>\n",
       "      <th>4</th>\n",
       "      <td>0</td>\n",
       "      <td>12</td>\n",
       "      <td>36</td>\n",
       "      <td>12</td>\n",
       "      <td>0</td>\n",
       "      <td>51.657132</td>\n",
       "      <td>-4.201082e-15</td>\n",
       "      <td>2.678740</td>\n",
       "      <td>3.141593e+00</td>\n",
       "      <td>-1.361357</td>\n",
       "      <td>2.500234e-16</td>\n",
       "    </tr>\n",
       "    <tr>\n",
       "      <th>...</th>\n",
       "      <td>...</td>\n",
       "      <td>...</td>\n",
       "      <td>...</td>\n",
       "      <td>...</td>\n",
       "      <td>...</td>\n",
       "      <td>...</td>\n",
       "      <td>...</td>\n",
       "      <td>...</td>\n",
       "      <td>...</td>\n",
       "      <td>...</td>\n",
       "      <td>...</td>\n",
       "    </tr>\n",
       "    <tr>\n",
       "      <th>6884</th>\n",
       "      <td>120</td>\n",
       "      <td>120</td>\n",
       "      <td>120</td>\n",
       "      <td>60</td>\n",
       "      <td>0</td>\n",
       "      <td>-9.000000</td>\n",
       "      <td>1.558846e+01</td>\n",
       "      <td>41.176915</td>\n",
       "      <td>-2.026424e-16</td>\n",
       "      <td>-0.523599</td>\n",
       "      <td>-1.047198e+00</td>\n",
       "    </tr>\n",
       "    <tr>\n",
       "      <th>6885</th>\n",
       "      <td>120</td>\n",
       "      <td>120</td>\n",
       "      <td>120</td>\n",
       "      <td>72</td>\n",
       "      <td>0</td>\n",
       "      <td>-7.281153</td>\n",
       "      <td>1.261133e+01</td>\n",
       "      <td>42.707475</td>\n",
       "      <td>-1.899993e-16</td>\n",
       "      <td>-0.314159</td>\n",
       "      <td>-1.047198e+00</td>\n",
       "    </tr>\n",
       "    <tr>\n",
       "      <th>6886</th>\n",
       "      <td>120</td>\n",
       "      <td>120</td>\n",
       "      <td>120</td>\n",
       "      <td>84</td>\n",
       "      <td>0</td>\n",
       "      <td>-5.440756</td>\n",
       "      <td>9.423666e+00</td>\n",
       "      <td>43.489851</td>\n",
       "      <td>-1.843716e-16</td>\n",
       "      <td>-0.104720</td>\n",
       "      <td>-1.047198e+00</td>\n",
       "    </tr>\n",
       "    <tr>\n",
       "      <th>6887</th>\n",
       "      <td>120</td>\n",
       "      <td>120</td>\n",
       "      <td>120</td>\n",
       "      <td>96</td>\n",
       "      <td>0</td>\n",
       "      <td>-3.559244</td>\n",
       "      <td>6.164791e+00</td>\n",
       "      <td>43.489851</td>\n",
       "      <td>-1.843716e-16</td>\n",
       "      <td>0.104720</td>\n",
       "      <td>-1.047198e+00</td>\n",
       "    </tr>\n",
       "    <tr>\n",
       "      <th>6888</th>\n",
       "      <td>120</td>\n",
       "      <td>120</td>\n",
       "      <td>120</td>\n",
       "      <td>108</td>\n",
       "      <td>0</td>\n",
       "      <td>-1.718847</td>\n",
       "      <td>2.977130e+00</td>\n",
       "      <td>42.707475</td>\n",
       "      <td>-1.899993e-16</td>\n",
       "      <td>0.314159</td>\n",
       "      <td>-1.047198e+00</td>\n",
       "    </tr>\n",
       "  </tbody>\n",
       "</table>\n",
       "<p>6889 rows × 11 columns</p>\n",
       "</div>"
      ],
      "text/plain": [
       "      theta_1  theta_2  theta_3  theta_4  theta_5        p_x           p_y  \\\n",
       "0           0        0       12        0        0  53.213314 -2.477121e-15   \n",
       "1           0       12       12        0        0  53.606657 -1.789652e-15   \n",
       "2           0       12       24        0        0  52.819970 -3.124530e-15   \n",
       "3           0       12       24       12        0  53.213314 -2.915404e-15   \n",
       "4           0       12       36       12        0  51.657132 -4.201082e-15   \n",
       "...       ...      ...      ...      ...      ...        ...           ...   \n",
       "6884      120      120      120       60        0  -9.000000  1.558846e+01   \n",
       "6885      120      120      120       72        0  -7.281153  1.261133e+01   \n",
       "6886      120      120      120       84        0  -5.440756  9.423666e+00   \n",
       "6887      120      120      120       96        0  -3.559244  6.164791e+00   \n",
       "6888      120      120      120      108        0  -1.718847  2.977130e+00   \n",
       "\n",
       "            p_z          roll      pich           yaw  \n",
       "0      2.515179  3.141593e+00 -1.361357  2.752040e-16  \n",
       "1     13.742410  2.378531e+00 -1.570796  7.630613e-01  \n",
       "2      6.257590  3.141593e+00 -1.361357  2.371518e-16  \n",
       "3     10.000000  2.356194e+00 -1.570796  7.853982e-01  \n",
       "4      2.678740  3.141593e+00 -1.361357  2.500234e-16  \n",
       "...         ...           ...       ...           ...  \n",
       "6884  41.176915 -2.026424e-16 -0.523599 -1.047198e+00  \n",
       "6885  42.707475 -1.899993e-16 -0.314159 -1.047198e+00  \n",
       "6886  43.489851 -1.843716e-16 -0.104720 -1.047198e+00  \n",
       "6887  43.489851 -1.843716e-16  0.104720 -1.047198e+00  \n",
       "6888  42.707475 -1.899993e-16  0.314159 -1.047198e+00  \n",
       "\n",
       "[6889 rows x 11 columns]"
      ]
     },
     "execution_count": 3,
     "metadata": {},
     "output_type": "execute_result"
    }
   ],
   "source": [
    "ext = Extract()\n",
    "ext._path_project = os.path.abspath(Path().resolve().parent)\n",
    "\n",
    "dataset = ext.dataframe( r'src\\data\\ready\\dataset-radius-1cm.csv')\n",
    "dataset"
   ]
  },
  {
   "cell_type": "code",
   "execution_count": 4,
   "metadata": {},
   "outputs": [],
   "source": [
    "data  = Preprocessing(dataset = dataset, \n",
    "                           x_labels=['p_x', 'p_y','p_z', 'roll', 'pich', 'yaw'],\n",
    "                           y_labels=['theta_1', 'theta_2', 'theta_3', 'theta_4']\n",
    "                        )"
   ]
  },
  {
   "cell_type": "code",
   "execution_count": 5,
   "metadata": {},
   "outputs": [],
   "source": [
    "x_train, x_test, y_train, y_test = data.data_train_test"
   ]
  },
  {
   "cell_type": "markdown",
   "metadata": {},
   "source": [
    "## Modelo"
   ]
  },
  {
   "cell_type": "code",
   "execution_count": 24,
   "metadata": {},
   "outputs": [],
   "source": [
    "mlp = Model.mlp_regressor(hidden_layer_sizes=(300,300), EPOCHS_NOCHANGE = 20, activation = 'tanh')"
   ]
  },
  {
   "cell_type": "markdown",
   "metadata": {},
   "source": [
    "## Estimação de Parâmatros"
   ]
  },
  {
   "cell_type": "code",
   "execution_count": 19,
   "metadata": {},
   "outputs": [],
   "source": [
    "# Estimação de hiperparâmetros\n",
    "history = ext.dataframe(r'src\\data\\ready\\history.csv')\n",
    "\n",
    "history_best = history[history['rank_test_score'] == 1]\n",
    "\n",
    "params = eval(history_best.iloc[0]['params'])"
   ]
  },
  {
   "cell_type": "code",
   "execution_count": 8,
   "metadata": {},
   "outputs": [],
   "source": [
    "mlp.set_model(**params)"
   ]
  },
  {
   "cell_type": "markdown",
   "metadata": {},
   "source": [
    "## Treino"
   ]
  },
  {
   "cell_type": "code",
   "execution_count": 25,
   "metadata": {},
   "outputs": [],
   "source": [
    "mlp.fit(x=x_train,y=y_train)"
   ]
  },
  {
   "cell_type": "markdown",
   "metadata": {},
   "source": [
    "## Metricas"
   ]
  },
  {
   "cell_type": "code",
   "execution_count": 26,
   "metadata": {},
   "outputs": [],
   "source": [
    "metrica = Metrics(model = mlp, \n",
    "                  preprocessing = data)"
   ]
  },
  {
   "cell_type": "code",
   "execution_count": 27,
   "metadata": {},
   "outputs": [
    {
     "data": {
      "text/plain": [
       "array([0.00076536, 0.00338363, 0.00833304, 0.00350107])"
      ]
     },
     "execution_count": 27,
     "metadata": {},
     "output_type": "execute_result"
    }
   ],
   "source": [
    "metrica.mse(mlp.predict(x =x_train), y_train)"
   ]
  },
  {
   "cell_type": "markdown",
   "metadata": {},
   "source": [
    "### Erro juntas"
   ]
  },
  {
   "cell_type": "code",
   "execution_count": 10,
   "metadata": {},
   "outputs": [
    {
     "data": {
      "text/plain": [
       "array([[73.78544208, 71.85633611, 95.78364584, 36.20498405]])"
      ]
     },
     "execution_count": 10,
     "metadata": {},
     "output_type": "execute_result"
    }
   ],
   "source": [
    "metrica.predict_joint(x = x_train[:1])"
   ]
  },
  {
   "cell_type": "code",
   "execution_count": 11,
   "metadata": {},
   "outputs": [
    {
     "data": {
      "text/plain": [
       "array([1.47515095, 0.02063931, 0.04680912, 0.04201846])"
      ]
     },
     "execution_count": 11,
     "metadata": {},
     "output_type": "execute_result"
    }
   ],
   "source": [
    "metrica.mse_joint(x = x_train[:1], y = y_train[:1])"
   ]
  },
  {
   "cell_type": "markdown",
   "metadata": {},
   "source": [
    "### Erro cartesiano"
   ]
  },
  {
   "cell_type": "code",
   "execution_count": 3,
   "metadata": {},
   "outputs": [],
   "source": [
    "Elos = [['theta_1',10,0,90,0],\n",
    "        ['theta_2',0,18,180,0],\n",
    "        ['theta_3',0,18,-180,0],\n",
    "        ['theta_4',0,0,90,90],\n",
    "        ['theta_5',18,0,0,0]\n",
    "]\n",
    "\n",
    "robo = Robo(\"Robo\", Elos)\n",
    "\n"
   ]
  },
  {
   "cell_type": "code",
   "execution_count": 28,
   "metadata": {},
   "outputs": [],
   "source": [
    "metrica.robotic(robo = robo)"
   ]
  },
  {
   "cell_type": "code",
   "execution_count": 8,
   "metadata": {},
   "outputs": [
    {
     "data": {
      "text/latex": [
       "$\\displaystyle \\left[\\begin{matrix}\\sin{\\left(\\theta_{1} \\right)} \\sin{\\left(\\theta_{5} \\right)} - \\sin{\\left(\\theta_{2} - \\theta_{3} + \\theta_{4} \\right)} \\cos{\\left(\\theta_{1} \\right)} \\cos{\\left(\\theta_{5} \\right)} & \\sin{\\left(\\theta_{1} \\right)} \\cos{\\left(\\theta_{5} \\right)} + \\sin{\\left(\\theta_{5} \\right)} \\sin{\\left(\\theta_{2} - \\theta_{3} + \\theta_{4} \\right)} \\cos{\\left(\\theta_{1} \\right)} & \\cos{\\left(\\theta_{1} \\right)} \\cos{\\left(\\theta_{2} - \\theta_{3} + \\theta_{4} \\right)} & 18 \\left(\\cos{\\left(\\theta_{2} \\right)} + \\cos{\\left(\\theta_{2} - \\theta_{3} \\right)} + \\cos{\\left(\\theta_{2} - \\theta_{3} + \\theta_{4} \\right)}\\right) \\cos{\\left(\\theta_{1} \\right)}\\\\- \\sin{\\left(\\theta_{1} \\right)} \\sin{\\left(\\theta_{2} - \\theta_{3} + \\theta_{4} \\right)} \\cos{\\left(\\theta_{5} \\right)} - \\sin{\\left(\\theta_{5} \\right)} \\cos{\\left(\\theta_{1} \\right)} & \\sin{\\left(\\theta_{1} \\right)} \\sin{\\left(\\theta_{5} \\right)} \\sin{\\left(\\theta_{2} - \\theta_{3} + \\theta_{4} \\right)} - \\cos{\\left(\\theta_{1} \\right)} \\cos{\\left(\\theta_{5} \\right)} & \\sin{\\left(\\theta_{1} \\right)} \\cos{\\left(\\theta_{2} - \\theta_{3} + \\theta_{4} \\right)} & 18 \\left(\\cos{\\left(\\theta_{2} \\right)} + \\cos{\\left(\\theta_{2} - \\theta_{3} \\right)} + \\cos{\\left(\\theta_{2} - \\theta_{3} + \\theta_{4} \\right)}\\right) \\sin{\\left(\\theta_{1} \\right)}\\\\\\cos{\\left(\\theta_{5} \\right)} \\cos{\\left(\\theta_{2} - \\theta_{3} + \\theta_{4} \\right)} & - \\sin{\\left(\\theta_{5} \\right)} \\cos{\\left(\\theta_{2} - \\theta_{3} + \\theta_{4} \\right)} & \\sin{\\left(\\theta_{2} - \\theta_{3} + \\theta_{4} \\right)} & 18 \\sin{\\left(\\theta_{2} \\right)} + 18 \\sin{\\left(\\theta_{2} - \\theta_{3} \\right)} + 18 \\sin{\\left(\\theta_{2} - \\theta_{3} + \\theta_{4} \\right)} + 10\\\\0 & 0 & 0 & 1\\end{matrix}\\right]$"
      ],
      "text/plain": [
       "Matrix([\n",
       "[ sin(theta_1)*sin(theta_5) - sin(theta_2 - theta_3 + theta_4)*cos(theta_1)*cos(theta_5), sin(theta_1)*cos(theta_5) + sin(theta_5)*sin(theta_2 - theta_3 + theta_4)*cos(theta_1), cos(theta_1)*cos(theta_2 - theta_3 + theta_4), 18*(cos(theta_2) + cos(theta_2 - theta_3) + cos(theta_2 - theta_3 + theta_4))*cos(theta_1)],\n",
       "[-sin(theta_1)*sin(theta_2 - theta_3 + theta_4)*cos(theta_5) - sin(theta_5)*cos(theta_1), sin(theta_1)*sin(theta_5)*sin(theta_2 - theta_3 + theta_4) - cos(theta_1)*cos(theta_5), sin(theta_1)*cos(theta_2 - theta_3 + theta_4), 18*(cos(theta_2) + cos(theta_2 - theta_3) + cos(theta_2 - theta_3 + theta_4))*sin(theta_1)],\n",
       "[                                          cos(theta_5)*cos(theta_2 - theta_3 + theta_4),                                         -sin(theta_5)*cos(theta_2 - theta_3 + theta_4),              sin(theta_2 - theta_3 + theta_4),     18*sin(theta_2) + 18*sin(theta_2 - theta_3) + 18*sin(theta_2 - theta_3 + theta_4) + 10],\n",
       "[                                                                                      0,                                                                                      0,                                             0,                                                                                          1]])"
      ]
     },
     "execution_count": 8,
     "metadata": {},
     "output_type": "execute_result"
    }
   ],
   "source": [
    "robo.matrixForwardKinematics"
   ]
  },
  {
   "cell_type": "code",
   "execution_count": 11,
   "metadata": {},
   "outputs": [],
   "source": [
    "_mapping = Spacemapping(robo)"
   ]
  },
  {
   "cell_type": "code",
   "execution_count": 14,
   "metadata": {},
   "outputs": [
    {
     "data": {
      "text/plain": [
       "array([[-1.38744751,  0.95597318, -0.25828336, -0.33585617, -0.67744555,\n",
       "        -0.0453049 ]])"
      ]
     },
     "execution_count": 14,
     "metadata": {},
     "output_type": "execute_result"
    }
   ],
   "source": [
    "# Entrada normalizada\n",
    "x_train[:1]"
   ]
  },
  {
   "cell_type": "code",
   "execution_count": 15,
   "metadata": {},
   "outputs": [
    {
     "data": {
      "text/plain": [
       "array([[ 1.63280665, -0.39449589,  0.68512865, -0.05322614]])"
      ]
     },
     "execution_count": 15,
     "metadata": {},
     "output_type": "execute_result"
    }
   ],
   "source": [
    "# Saída normalizada\n",
    "y_train[:1]"
   ]
  },
  {
   "cell_type": "code",
   "execution_count": 16,
   "metadata": {},
   "outputs": [
    {
     "data": {
      "text/plain": [
       "array([[-1.98063905e+01,  3.43056746e+01,  3.06978664e+01,\n",
       "        -1.11022302e-16, -1.15191731e+00, -1.04719755e+00]])"
      ]
     },
     "execution_count": 16,
     "metadata": {},
     "output_type": "execute_result"
    }
   ],
   "source": [
    "# Entrada real\n",
    "data._scaler_x.inverse_transform(x_train[:1])"
   ]
  },
  {
   "cell_type": "code",
   "execution_count": 17,
   "metadata": {},
   "outputs": [
    {
     "data": {
      "text/plain": [
       "array([[120.,  72.,  84.,  36.]])"
      ]
     },
     "execution_count": 17,
     "metadata": {},
     "output_type": "execute_result"
    }
   ],
   "source": [
    "# Saída real (Theta)\n",
    "data._scaler_y.inverse_transform(y_train[:1])"
   ]
  },
  {
   "cell_type": "code",
   "execution_count": 18,
   "metadata": {},
   "outputs": [
    {
     "data": {
      "text/html": [
       "<div>\n",
       "<style scoped>\n",
       "    .dataframe tbody tr th:only-of-type {\n",
       "        vertical-align: middle;\n",
       "    }\n",
       "\n",
       "    .dataframe tbody tr th {\n",
       "        vertical-align: top;\n",
       "    }\n",
       "\n",
       "    .dataframe thead th {\n",
       "        text-align: right;\n",
       "    }\n",
       "</style>\n",
       "<table border=\"1\" class=\"dataframe\">\n",
       "  <thead>\n",
       "    <tr style=\"text-align: right;\">\n",
       "      <th></th>\n",
       "      <th>R_11</th>\n",
       "      <th>R_12</th>\n",
       "      <th>R_13</th>\n",
       "      <th>p_x</th>\n",
       "      <th>R_21</th>\n",
       "      <th>R_22</th>\n",
       "      <th>R_23</th>\n",
       "      <th>p_y</th>\n",
       "      <th>R_31</th>\n",
       "      <th>R_32</th>\n",
       "      <th>R_33</th>\n",
       "      <th>p_z</th>\n",
       "    </tr>\n",
       "  </thead>\n",
       "  <tbody>\n",
       "    <tr>\n",
       "      <th>0</th>\n",
       "      <td>0.203368</td>\n",
       "      <td>0.866025</td>\n",
       "      <td>-0.456773</td>\n",
       "      <td>-19.80639</td>\n",
       "      <td>-0.352244</td>\n",
       "      <td>0.5</td>\n",
       "      <td>0.791154</td>\n",
       "      <td>34.305675</td>\n",
       "      <td>0.913545</td>\n",
       "      <td>0.0</td>\n",
       "      <td>0.406737</td>\n",
       "      <td>30.697866</td>\n",
       "    </tr>\n",
       "  </tbody>\n",
       "</table>\n",
       "</div>"
      ],
      "text/plain": [
       "       R_11      R_12      R_13       p_x      R_21  R_22      R_23  \\\n",
       "0  0.203368  0.866025 -0.456773 -19.80639 -0.352244   0.5  0.791154   \n",
       "\n",
       "         p_y      R_31  R_32      R_33        p_z  \n",
       "0  34.305675  0.913545   0.0  0.406737  30.697866  "
      ]
     },
     "execution_count": 18,
     "metadata": {},
     "output_type": "execute_result"
    }
   ],
   "source": [
    "_mapping.operational_space([[120.,  72.,  84.,  36.,0]], output_format='DataFrame')"
   ]
  },
  {
   "cell_type": "code",
   "execution_count": 19,
   "metadata": {},
   "outputs": [
    {
     "data": {
      "text/plain": [
       "array([[119.34226985,  73.21715963,  85.90174503,  36.08519321]])"
      ]
     },
     "execution_count": 19,
     "metadata": {},
     "output_type": "execute_result"
    }
   ],
   "source": [
    "# Theta predito\n",
    "a = metrica.predict_joint(x = x_train[:1])\n",
    "a"
   ]
  },
  {
   "cell_type": "code",
   "execution_count": 20,
   "metadata": {},
   "outputs": [
    {
     "data": {
      "text/plain": [
       "[[119.34226984559332,\n",
       "  73.21715962924691,\n",
       "  85.90174502516061,\n",
       "  36.08519321273819,\n",
       "  0.0]]"
      ]
     },
     "execution_count": 20,
     "metadata": {},
     "output_type": "execute_result"
    }
   ],
   "source": [
    "from numpy import append\n",
    "\n",
    "def transfor(array):\n",
    "            novo_array = []\n",
    "            for sub_array in array:\n",
    "                    novo_sub_array = append(sub_array, 0)\n",
    "                    novo_array.append(novo_sub_array)\n",
    "            return novo_array\n",
    "\n",
    "b = transfor(a)[0]\n",
    "x_predito = [b.tolist()]\n",
    "x_predito"
   ]
  },
  {
   "cell_type": "code",
   "execution_count": 23,
   "metadata": {},
   "outputs": [
    {
     "data": {
      "text/html": [
       "<div>\n",
       "<style scoped>\n",
       "    .dataframe tbody tr th:only-of-type {\n",
       "        vertical-align: middle;\n",
       "    }\n",
       "\n",
       "    .dataframe tbody tr th {\n",
       "        vertical-align: top;\n",
       "    }\n",
       "\n",
       "    .dataframe thead th {\n",
       "        text-align: right;\n",
       "    }\n",
       "</style>\n",
       "<table border=\"1\" class=\"dataframe\">\n",
       "  <thead>\n",
       "    <tr style=\"text-align: right;\">\n",
       "      <th></th>\n",
       "      <th>R_11</th>\n",
       "      <th>R_12</th>\n",
       "      <th>R_13</th>\n",
       "      <th>p_x</th>\n",
       "      <th>R_21</th>\n",
       "      <th>R_22</th>\n",
       "      <th>R_23</th>\n",
       "      <th>p_y</th>\n",
       "      <th>R_31</th>\n",
       "      <th>R_32</th>\n",
       "      <th>R_33</th>\n",
       "      <th>p_z</th>\n",
       "    </tr>\n",
       "  </thead>\n",
       "  <tbody>\n",
       "    <tr>\n",
       "      <th>0</th>\n",
       "      <td>0.204191</td>\n",
       "      <td>0.279235</td>\n",
       "      <td>-0.938261</td>\n",
       "      <td>-27.305081</td>\n",
       "      <td>-0.059379</td>\n",
       "      <td>0.960223</td>\n",
       "      <td>0.272849</td>\n",
       "      <td>7.940383</td>\n",
       "      <td>0.977129</td>\n",
       "      <td>0.0</td>\n",
       "      <td>0.21265</td>\n",
       "      <td>-10.577714</td>\n",
       "    </tr>\n",
       "  </tbody>\n",
       "</table>\n",
       "</div>"
      ],
      "text/plain": [
       "       R_11      R_12      R_13        p_x      R_21      R_22      R_23  \\\n",
       "0  0.204191  0.279235 -0.938261 -27.305081 -0.059379  0.960223  0.272849   \n",
       "\n",
       "        p_y      R_31  R_32     R_33        p_z  \n",
       "0  7.940383  0.977129   0.0  0.21265 -10.577714  "
      ]
     },
     "execution_count": 23,
     "metadata": {},
     "output_type": "execute_result"
    }
   ],
   "source": [
    "_mapping.operational_space(x_predito, output_format='DataFrame')"
   ]
  },
  {
   "cell_type": "code",
   "execution_count": 62,
   "metadata": {},
   "outputs": [
    {
     "data": {
      "text/plain": [
       "array([[-19.22497119,  33.29862687,  12.47649814,   3.14159265,\n",
       "         -1.15191731,   2.0943951 ]])"
      ]
     },
     "execution_count": 62,
     "metadata": {},
     "output_type": "execute_result"
    }
   ],
   "source": [
    "data._scaler_x.inverse_transform(x_train[:1])"
   ]
  },
  {
   "cell_type": "markdown",
   "metadata": {},
   "source": [
    "#### t"
   ]
  },
  {
   "cell_type": "code",
   "execution_count": 24,
   "metadata": {},
   "outputs": [
    {
     "data": {
      "text/html": [
       "<div>\n",
       "<style scoped>\n",
       "    .dataframe tbody tr th:only-of-type {\n",
       "        vertical-align: middle;\n",
       "    }\n",
       "\n",
       "    .dataframe tbody tr th {\n",
       "        vertical-align: top;\n",
       "    }\n",
       "\n",
       "    .dataframe thead th {\n",
       "        text-align: right;\n",
       "    }\n",
       "</style>\n",
       "<table border=\"1\" class=\"dataframe\">\n",
       "  <thead>\n",
       "    <tr style=\"text-align: right;\">\n",
       "      <th></th>\n",
       "      <th>p_x</th>\n",
       "      <th>p_y</th>\n",
       "      <th>p_z</th>\n",
       "    </tr>\n",
       "  </thead>\n",
       "  <tbody>\n",
       "    <tr>\n",
       "      <th>0</th>\n",
       "      <td>-27.305081</td>\n",
       "      <td>7.940383</td>\n",
       "      <td>-10.577714</td>\n",
       "    </tr>\n",
       "  </tbody>\n",
       "</table>\n",
       "</div>"
      ],
      "text/plain": [
       "         p_x       p_y        p_z\n",
       "0 -27.305081  7.940383 -10.577714"
      ]
     },
     "execution_count": 24,
     "metadata": {},
     "output_type": "execute_result"
    }
   ],
   "source": [
    "metrica.predict_operacional(x = x_train[:1])"
   ]
  },
  {
   "cell_type": "code",
   "execution_count": 29,
   "metadata": {},
   "outputs": [
    {
     "data": {
      "text/plain": [
       "(array([0.36797647, 0.25883504, 0.36246946]),\n",
       " array([[-10.84131807,  40.46034987,  10.94593812],\n",
       "        [-16.34014254, -23.336142  ,  47.23226182],\n",
       "        [-13.68409139,  -4.98060195,  54.81816913],\n",
       "        ...,\n",
       "        [ -9.23454387, -25.37170076,  56.7653718 ],\n",
       "        [-17.34345885,  30.0397519 ,  48.27928638],\n",
       "        [-10.75711632,  40.14610467,   4.99167727]]),\n",
       "            p_x        p_y        p_z\n",
       " 0    -9.948729  40.279144  11.632190\n",
       " 1   -16.495747 -23.279149  47.468411\n",
       " 2   -13.553524  -4.636652  56.067567\n",
       " 3    16.915587   4.300232  47.981086\n",
       " 4    17.142071  20.510338  49.677894\n",
       " ..         ...        ...        ...\n",
       " 684  -4.927778  29.394514  24.011418\n",
       " 685  10.793524  42.107433  40.603587\n",
       " 686  -9.178889 -25.543034  56.679121\n",
       " 687 -16.588240  30.586090  48.487517\n",
       " 688 -10.690749  39.340309   6.079594\n",
       " \n",
       " [689 rows x 3 columns])"
      ]
     },
     "execution_count": 29,
     "metadata": {},
     "output_type": "execute_result"
    }
   ],
   "source": [
    "metrica.mse_operacional(x = x_test)"
   ]
  }
 ],
 "metadata": {
  "kernelspec": {
   "display_name": "Python 3",
   "language": "python",
   "name": "python3"
  },
  "language_info": {
   "codemirror_mode": {
    "name": "ipython",
    "version": 3
   },
   "file_extension": ".py",
   "mimetype": "text/x-python",
   "name": "python",
   "nbconvert_exporter": "python",
   "pygments_lexer": "ipython3",
   "version": "3.11.7"
  }
 },
 "nbformat": 4,
 "nbformat_minor": 2
}
