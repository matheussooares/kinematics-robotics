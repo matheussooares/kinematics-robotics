{
 "cells": [
  {
   "cell_type": "code",
   "execution_count": 1,
   "metadata": {},
   "outputs": [],
   "source": [
    "import sys, os\n",
    "from pathlib import Path\n",
    "\n",
    "sys.path.append(os.path.abspath(Path().resolve().parent/'src'))"
   ]
  },
  {
   "cell_type": "code",
   "execution_count": 2,
   "metadata": {},
   "outputs": [],
   "source": [
    "from kinematicsrobotics.datahandler import Extract\n",
    "from kinematicsrobotics.dataprocessing import Preprocessing\n",
    "from kinematicsrobotics.model import Model\n",
    "from kinematicsrobotics.metrics import Metrics\n",
    "from kinematicsrobotics.kinematics import Robo,Spacemapping"
   ]
  },
  {
   "cell_type": "markdown",
   "metadata": {},
   "source": [
    "## Dataset"
   ]
  },
  {
   "cell_type": "code",
   "execution_count": 3,
   "metadata": {},
   "outputs": [
    {
     "data": {
      "text/html": [
       "<div>\n",
       "<style scoped>\n",
       "    .dataframe tbody tr th:only-of-type {\n",
       "        vertical-align: middle;\n",
       "    }\n",
       "\n",
       "    .dataframe tbody tr th {\n",
       "        vertical-align: top;\n",
       "    }\n",
       "\n",
       "    .dataframe thead th {\n",
       "        text-align: right;\n",
       "    }\n",
       "</style>\n",
       "<table border=\"1\" class=\"dataframe\">\n",
       "  <thead>\n",
       "    <tr style=\"text-align: right;\">\n",
       "      <th></th>\n",
       "      <th>theta_1</th>\n",
       "      <th>theta_2</th>\n",
       "      <th>theta_3</th>\n",
       "      <th>theta_4</th>\n",
       "      <th>theta_5</th>\n",
       "      <th>p_x</th>\n",
       "      <th>p_y</th>\n",
       "      <th>p_z</th>\n",
       "      <th>roll</th>\n",
       "      <th>pich</th>\n",
       "      <th>yaw</th>\n",
       "    </tr>\n",
       "  </thead>\n",
       "  <tbody>\n",
       "    <tr>\n",
       "      <th>0</th>\n",
       "      <td>0</td>\n",
       "      <td>0</td>\n",
       "      <td>12</td>\n",
       "      <td>0</td>\n",
       "      <td>0</td>\n",
       "      <td>53.213314</td>\n",
       "      <td>-2.477121e-15</td>\n",
       "      <td>2.515179</td>\n",
       "      <td>3.141593e+00</td>\n",
       "      <td>-1.361357</td>\n",
       "      <td>2.752040e-16</td>\n",
       "    </tr>\n",
       "    <tr>\n",
       "      <th>1</th>\n",
       "      <td>0</td>\n",
       "      <td>12</td>\n",
       "      <td>12</td>\n",
       "      <td>0</td>\n",
       "      <td>0</td>\n",
       "      <td>53.606657</td>\n",
       "      <td>-1.789652e-15</td>\n",
       "      <td>13.742410</td>\n",
       "      <td>2.378531e+00</td>\n",
       "      <td>-1.570796</td>\n",
       "      <td>7.630613e-01</td>\n",
       "    </tr>\n",
       "    <tr>\n",
       "      <th>2</th>\n",
       "      <td>0</td>\n",
       "      <td>12</td>\n",
       "      <td>24</td>\n",
       "      <td>0</td>\n",
       "      <td>0</td>\n",
       "      <td>52.819970</td>\n",
       "      <td>-3.124530e-15</td>\n",
       "      <td>6.257590</td>\n",
       "      <td>3.141593e+00</td>\n",
       "      <td>-1.361357</td>\n",
       "      <td>2.371518e-16</td>\n",
       "    </tr>\n",
       "    <tr>\n",
       "      <th>3</th>\n",
       "      <td>0</td>\n",
       "      <td>12</td>\n",
       "      <td>24</td>\n",
       "      <td>12</td>\n",
       "      <td>0</td>\n",
       "      <td>53.213314</td>\n",
       "      <td>-2.915404e-15</td>\n",
       "      <td>10.000000</td>\n",
       "      <td>2.356194e+00</td>\n",
       "      <td>-1.570796</td>\n",
       "      <td>7.853982e-01</td>\n",
       "    </tr>\n",
       "    <tr>\n",
       "      <th>4</th>\n",
       "      <td>0</td>\n",
       "      <td>12</td>\n",
       "      <td>36</td>\n",
       "      <td>12</td>\n",
       "      <td>0</td>\n",
       "      <td>51.657132</td>\n",
       "      <td>-4.201082e-15</td>\n",
       "      <td>2.678740</td>\n",
       "      <td>3.141593e+00</td>\n",
       "      <td>-1.361357</td>\n",
       "      <td>2.500234e-16</td>\n",
       "    </tr>\n",
       "    <tr>\n",
       "      <th>...</th>\n",
       "      <td>...</td>\n",
       "      <td>...</td>\n",
       "      <td>...</td>\n",
       "      <td>...</td>\n",
       "      <td>...</td>\n",
       "      <td>...</td>\n",
       "      <td>...</td>\n",
       "      <td>...</td>\n",
       "      <td>...</td>\n",
       "      <td>...</td>\n",
       "      <td>...</td>\n",
       "    </tr>\n",
       "    <tr>\n",
       "      <th>6884</th>\n",
       "      <td>120</td>\n",
       "      <td>120</td>\n",
       "      <td>120</td>\n",
       "      <td>60</td>\n",
       "      <td>0</td>\n",
       "      <td>-9.000000</td>\n",
       "      <td>1.558846e+01</td>\n",
       "      <td>41.176915</td>\n",
       "      <td>-2.026424e-16</td>\n",
       "      <td>-0.523599</td>\n",
       "      <td>-1.047198e+00</td>\n",
       "    </tr>\n",
       "    <tr>\n",
       "      <th>6885</th>\n",
       "      <td>120</td>\n",
       "      <td>120</td>\n",
       "      <td>120</td>\n",
       "      <td>72</td>\n",
       "      <td>0</td>\n",
       "      <td>-7.281153</td>\n",
       "      <td>1.261133e+01</td>\n",
       "      <td>42.707475</td>\n",
       "      <td>-1.899993e-16</td>\n",
       "      <td>-0.314159</td>\n",
       "      <td>-1.047198e+00</td>\n",
       "    </tr>\n",
       "    <tr>\n",
       "      <th>6886</th>\n",
       "      <td>120</td>\n",
       "      <td>120</td>\n",
       "      <td>120</td>\n",
       "      <td>84</td>\n",
       "      <td>0</td>\n",
       "      <td>-5.440756</td>\n",
       "      <td>9.423666e+00</td>\n",
       "      <td>43.489851</td>\n",
       "      <td>-1.843716e-16</td>\n",
       "      <td>-0.104720</td>\n",
       "      <td>-1.047198e+00</td>\n",
       "    </tr>\n",
       "    <tr>\n",
       "      <th>6887</th>\n",
       "      <td>120</td>\n",
       "      <td>120</td>\n",
       "      <td>120</td>\n",
       "      <td>96</td>\n",
       "      <td>0</td>\n",
       "      <td>-3.559244</td>\n",
       "      <td>6.164791e+00</td>\n",
       "      <td>43.489851</td>\n",
       "      <td>-1.843716e-16</td>\n",
       "      <td>0.104720</td>\n",
       "      <td>-1.047198e+00</td>\n",
       "    </tr>\n",
       "    <tr>\n",
       "      <th>6888</th>\n",
       "      <td>120</td>\n",
       "      <td>120</td>\n",
       "      <td>120</td>\n",
       "      <td>108</td>\n",
       "      <td>0</td>\n",
       "      <td>-1.718847</td>\n",
       "      <td>2.977130e+00</td>\n",
       "      <td>42.707475</td>\n",
       "      <td>-1.899993e-16</td>\n",
       "      <td>0.314159</td>\n",
       "      <td>-1.047198e+00</td>\n",
       "    </tr>\n",
       "  </tbody>\n",
       "</table>\n",
       "<p>6889 rows × 11 columns</p>\n",
       "</div>"
      ],
      "text/plain": [
       "      theta_1  theta_2  theta_3  theta_4  theta_5        p_x           p_y  \\\n",
       "0           0        0       12        0        0  53.213314 -2.477121e-15   \n",
       "1           0       12       12        0        0  53.606657 -1.789652e-15   \n",
       "2           0       12       24        0        0  52.819970 -3.124530e-15   \n",
       "3           0       12       24       12        0  53.213314 -2.915404e-15   \n",
       "4           0       12       36       12        0  51.657132 -4.201082e-15   \n",
       "...       ...      ...      ...      ...      ...        ...           ...   \n",
       "6884      120      120      120       60        0  -9.000000  1.558846e+01   \n",
       "6885      120      120      120       72        0  -7.281153  1.261133e+01   \n",
       "6886      120      120      120       84        0  -5.440756  9.423666e+00   \n",
       "6887      120      120      120       96        0  -3.559244  6.164791e+00   \n",
       "6888      120      120      120      108        0  -1.718847  2.977130e+00   \n",
       "\n",
       "            p_z          roll      pich           yaw  \n",
       "0      2.515179  3.141593e+00 -1.361357  2.752040e-16  \n",
       "1     13.742410  2.378531e+00 -1.570796  7.630613e-01  \n",
       "2      6.257590  3.141593e+00 -1.361357  2.371518e-16  \n",
       "3     10.000000  2.356194e+00 -1.570796  7.853982e-01  \n",
       "4      2.678740  3.141593e+00 -1.361357  2.500234e-16  \n",
       "...         ...           ...       ...           ...  \n",
       "6884  41.176915 -2.026424e-16 -0.523599 -1.047198e+00  \n",
       "6885  42.707475 -1.899993e-16 -0.314159 -1.047198e+00  \n",
       "6886  43.489851 -1.843716e-16 -0.104720 -1.047198e+00  \n",
       "6887  43.489851 -1.843716e-16  0.104720 -1.047198e+00  \n",
       "6888  42.707475 -1.899993e-16  0.314159 -1.047198e+00  \n",
       "\n",
       "[6889 rows x 11 columns]"
      ]
     },
     "execution_count": 3,
     "metadata": {},
     "output_type": "execute_result"
    }
   ],
   "source": [
    "ext = Extract()\n",
    "ext._path_project = os.path.abspath(Path().resolve().parent)\n",
    "\n",
    "dataset = ext.dataframe( r'src\\data\\ready\\dataset-radius-1cm.csv')\n",
    "dataset"
   ]
  },
  {
   "cell_type": "code",
   "execution_count": 4,
   "metadata": {},
   "outputs": [],
   "source": [
    "data  = Preprocessing(dataset = dataset, \n",
    "                           x_labels=['p_x', 'p_y','p_z', 'roll', 'pich', 'yaw'],\n",
    "                           y_labels=['theta_1', 'theta_2', 'theta_3', 'theta_4']\n",
    "                        )"
   ]
  },
  {
   "cell_type": "code",
   "execution_count": 5,
   "metadata": {},
   "outputs": [],
   "source": [
    "x_train, x_test, y_train, y_test = data.data_train_test"
   ]
  },
  {
   "cell_type": "markdown",
   "metadata": {},
   "source": [
    "## Modelo"
   ]
  },
  {
   "cell_type": "code",
   "execution_count": 6,
   "metadata": {},
   "outputs": [],
   "source": [
    "mlp = Model.mlp_regressor(hidden_layer_sizes=(300,300), EPOCHS_NOCHANGE = 20, activation = 'tanh')"
   ]
  },
  {
   "cell_type": "markdown",
   "metadata": {},
   "source": [
    "## Estimação de Parâmatros"
   ]
  },
  {
   "cell_type": "code",
   "execution_count": 19,
   "metadata": {},
   "outputs": [],
   "source": [
    "# Estimação de hiperparâmetros\n",
    "history = ext.dataframe(r'src\\data\\ready\\history.csv')\n",
    "\n",
    "history_best = history[history['rank_test_score'] == 1]\n",
    "\n",
    "params = eval(history_best.iloc[0]['params'])"
   ]
  },
  {
   "cell_type": "code",
   "execution_count": 8,
   "metadata": {},
   "outputs": [],
   "source": [
    "mlp.set_model(**params)"
   ]
  },
  {
   "cell_type": "markdown",
   "metadata": {},
   "source": [
    "## Treino"
   ]
  },
  {
   "cell_type": "code",
   "execution_count": 7,
   "metadata": {},
   "outputs": [],
   "source": [
    "mlp.fit(x=x_train,y=y_train)"
   ]
  },
  {
   "cell_type": "markdown",
   "metadata": {},
   "source": [
    "## Metricas"
   ]
  },
  {
   "cell_type": "code",
   "execution_count": 8,
   "metadata": {},
   "outputs": [],
   "source": [
    "metrica = Metrics(model = mlp, \n",
    "                  preprocessing = data)"
   ]
  },
  {
   "cell_type": "code",
   "execution_count": 9,
   "metadata": {},
   "outputs": [
    {
     "data": {
      "text/plain": [
       "array([0.00094481, 0.00339415, 0.00850638, 0.00353521])"
      ]
     },
     "execution_count": 9,
     "metadata": {},
     "output_type": "execute_result"
    }
   ],
   "source": [
    "metrica.mse(mlp.predict(x =x_train), y_train)"
   ]
  },
  {
   "cell_type": "markdown",
   "metadata": {},
   "source": [
    "### Erro juntas"
   ]
  },
  {
   "cell_type": "code",
   "execution_count": 12,
   "metadata": {},
   "outputs": [
    {
     "data": {
      "text/plain": [
       "array([[ 24.29214127, 108.73390695,  97.13105509,  34.66951297],\n",
       "       [ 82.44981689,  46.75644653,  81.5193677 ,  47.2624096 ],\n",
       "       [ 97.96515396,  83.53616809,  71.61121945,  11.82312133],\n",
       "       ...,\n",
       "       [ 55.24124326, 108.59305289,  25.3201193 ,  84.28555467],\n",
       "       [105.18169889, 117.38684258,   8.75493542,  59.17692366],\n",
       "       [ 93.25165388,  71.39439563,  69.17233769,  45.66112949]])"
      ]
     },
     "execution_count": 12,
     "metadata": {},
     "output_type": "execute_result"
    }
   ],
   "source": [
    "metrica.predict_joint(x = x_train)"
   ]
  },
  {
   "cell_type": "code",
   "execution_count": 13,
   "metadata": {},
   "outputs": [
    {
     "data": {
      "text/plain": [
       "array([ 1.25035967,  3.40159594, 10.17588975,  4.96185004])"
      ]
     },
     "execution_count": 13,
     "metadata": {},
     "output_type": "execute_result"
    }
   ],
   "source": [
    "metrica.mse_joint(x = x_train, y = y_train)"
   ]
  },
  {
   "cell_type": "markdown",
   "metadata": {},
   "source": [
    "### Erro cartesiano"
   ]
  },
  {
   "cell_type": "code",
   "execution_count": 14,
   "metadata": {},
   "outputs": [],
   "source": [
    "Elos = [['theta_1',10,0,90,0],\n",
    "        ['theta_2',0,18,180,0],\n",
    "        ['theta_3',0,18,-180,0],\n",
    "        ['theta_4',0,0,90,90],\n",
    "        ['theta_5',18,0,0,0]\n",
    "]\n",
    "\n",
    "robo = Robo(\"Robo\", Elos)\n",
    "\n"
   ]
  },
  {
   "cell_type": "code",
   "execution_count": 15,
   "metadata": {},
   "outputs": [],
   "source": [
    "metrica.robotic(robo = robo)"
   ]
  },
  {
   "cell_type": "code",
   "execution_count": 17,
   "metadata": {},
   "outputs": [
    {
     "data": {
      "text/html": [
       "<div>\n",
       "<style scoped>\n",
       "    .dataframe tbody tr th:only-of-type {\n",
       "        vertical-align: middle;\n",
       "    }\n",
       "\n",
       "    .dataframe tbody tr th {\n",
       "        vertical-align: top;\n",
       "    }\n",
       "\n",
       "    .dataframe thead th {\n",
       "        text-align: right;\n",
       "    }\n",
       "</style>\n",
       "<table border=\"1\" class=\"dataframe\">\n",
       "  <thead>\n",
       "    <tr style=\"text-align: right;\">\n",
       "      <th></th>\n",
       "      <th>p_x</th>\n",
       "      <th>p_y</th>\n",
       "      <th>p_z</th>\n",
       "    </tr>\n",
       "  </thead>\n",
       "  <tbody>\n",
       "    <tr>\n",
       "      <th>0</th>\n",
       "      <td>22.142282</td>\n",
       "      <td>9.993968</td>\n",
       "      <td>43.674056</td>\n",
       "    </tr>\n",
       "    <tr>\n",
       "      <th>1</th>\n",
       "      <td>5.872351</td>\n",
       "      <td>44.305035</td>\n",
       "      <td>16.744544</td>\n",
       "    </tr>\n",
       "    <tr>\n",
       "      <th>2</th>\n",
       "      <td>-5.004314</td>\n",
       "      <td>35.765356</td>\n",
       "      <td>38.853806</td>\n",
       "    </tr>\n",
       "    <tr>\n",
       "      <th>3</th>\n",
       "      <td>-12.110327</td>\n",
       "      <td>49.579186</td>\n",
       "      <td>25.949554</td>\n",
       "    </tr>\n",
       "    <tr>\n",
       "      <th>4</th>\n",
       "      <td>10.592818</td>\n",
       "      <td>21.922441</td>\n",
       "      <td>49.813411</td>\n",
       "    </tr>\n",
       "    <tr>\n",
       "      <th>...</th>\n",
       "      <td>...</td>\n",
       "      <td>...</td>\n",
       "      <td>...</td>\n",
       "    </tr>\n",
       "    <tr>\n",
       "      <th>6195</th>\n",
       "      <td>26.463566</td>\n",
       "      <td>21.875547</td>\n",
       "      <td>38.676459</td>\n",
       "    </tr>\n",
       "    <tr>\n",
       "      <th>6196</th>\n",
       "      <td>-7.666197</td>\n",
       "      <td>16.802817</td>\n",
       "      <td>41.365477</td>\n",
       "    </tr>\n",
       "    <tr>\n",
       "      <th>6197</th>\n",
       "      <td>-12.091141</td>\n",
       "      <td>-17.423622</td>\n",
       "      <td>48.814577</td>\n",
       "    </tr>\n",
       "    <tr>\n",
       "      <th>6198</th>\n",
       "      <td>8.281923</td>\n",
       "      <td>-30.521067</td>\n",
       "      <td>46.840345</td>\n",
       "    </tr>\n",
       "    <tr>\n",
       "      <th>6199</th>\n",
       "      <td>-2.030690</td>\n",
       "      <td>35.743361</td>\n",
       "      <td>41.109198</td>\n",
       "    </tr>\n",
       "  </tbody>\n",
       "</table>\n",
       "<p>6200 rows × 3 columns</p>\n",
       "</div>"
      ],
      "text/plain": [
       "            p_x        p_y        p_z\n",
       "0     22.142282   9.993968  43.674056\n",
       "1      5.872351  44.305035  16.744544\n",
       "2     -5.004314  35.765356  38.853806\n",
       "3    -12.110327  49.579186  25.949554\n",
       "4     10.592818  21.922441  49.813411\n",
       "...         ...        ...        ...\n",
       "6195  26.463566  21.875547  38.676459\n",
       "6196  -7.666197  16.802817  41.365477\n",
       "6197 -12.091141 -17.423622  48.814577\n",
       "6198   8.281923 -30.521067  46.840345\n",
       "6199  -2.030690  35.743361  41.109198\n",
       "\n",
       "[6200 rows x 3 columns]"
      ]
     },
     "execution_count": 17,
     "metadata": {},
     "output_type": "execute_result"
    }
   ],
   "source": [
    "metrica.predict_operacional(x = x_train)"
   ]
  },
  {
   "cell_type": "code",
   "execution_count": 16,
   "metadata": {},
   "outputs": [
    {
     "data": {
      "text/plain": [
       "array([0.35811319, 0.32361371, 0.50799457])"
      ]
     },
     "execution_count": 16,
     "metadata": {},
     "output_type": "execute_result"
    }
   ],
   "source": [
    "metrica.mse_operacional(x = x_test)"
   ]
  }
 ],
 "metadata": {
  "kernelspec": {
   "display_name": "Python 3",
   "language": "python",
   "name": "python3"
  },
  "language_info": {
   "codemirror_mode": {
    "name": "ipython",
    "version": 3
   },
   "file_extension": ".py",
   "mimetype": "text/x-python",
   "name": "python",
   "nbconvert_exporter": "python",
   "pygments_lexer": "ipython3",
   "version": "3.11.7"
  }
 },
 "nbformat": 4,
 "nbformat_minor": 2
}
