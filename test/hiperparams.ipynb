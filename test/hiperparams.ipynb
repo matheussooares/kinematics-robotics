{
 "cells": [
  {
   "cell_type": "code",
   "execution_count": 1,
   "metadata": {},
   "outputs": [],
   "source": [
    "import sys, os\n",
    "from pathlib import Path\n",
    "\n",
    "sys.path.append(os.path.abspath(Path().resolve().parent/'src'))"
   ]
  },
  {
   "cell_type": "markdown",
   "metadata": {},
   "source": [
    "# Cinemática Inversa"
   ]
  },
  {
   "cell_type": "code",
   "execution_count": 2,
   "metadata": {},
   "outputs": [],
   "source": [
    "from kinematicsrobotics.datahandler import Save, Extract\n",
    "from kinematicsrobotics.dataprocessing import Preprocessing\n",
    "from kinematicsrobotics.model import Model\n",
    "from kinematicsrobotics.metrics import Metrics"
   ]
  },
  {
   "cell_type": "markdown",
   "metadata": {},
   "source": [
    "## Base de dados"
   ]
  },
  {
   "cell_type": "code",
   "execution_count": 3,
   "metadata": {},
   "outputs": [
    {
     "data": {
      "text/html": [
       "<div>\n",
       "<style scoped>\n",
       "    .dataframe tbody tr th:only-of-type {\n",
       "        vertical-align: middle;\n",
       "    }\n",
       "\n",
       "    .dataframe tbody tr th {\n",
       "        vertical-align: top;\n",
       "    }\n",
       "\n",
       "    .dataframe thead th {\n",
       "        text-align: right;\n",
       "    }\n",
       "</style>\n",
       "<table border=\"1\" class=\"dataframe\">\n",
       "  <thead>\n",
       "    <tr style=\"text-align: right;\">\n",
       "      <th></th>\n",
       "      <th>theta_1</th>\n",
       "      <th>theta_2</th>\n",
       "      <th>theta_3</th>\n",
       "      <th>theta_4</th>\n",
       "      <th>theta_5</th>\n",
       "      <th>p_x</th>\n",
       "      <th>p_y</th>\n",
       "      <th>p_z</th>\n",
       "      <th>roll</th>\n",
       "      <th>pich</th>\n",
       "      <th>yaw</th>\n",
       "    </tr>\n",
       "  </thead>\n",
       "  <tbody>\n",
       "    <tr>\n",
       "      <th>0</th>\n",
       "      <td>0</td>\n",
       "      <td>0</td>\n",
       "      <td>12</td>\n",
       "      <td>0</td>\n",
       "      <td>0</td>\n",
       "      <td>53.213314</td>\n",
       "      <td>-2.477121e-15</td>\n",
       "      <td>2.515179</td>\n",
       "      <td>3.141593e+00</td>\n",
       "      <td>-1.361357</td>\n",
       "      <td>2.752040e-16</td>\n",
       "    </tr>\n",
       "    <tr>\n",
       "      <th>1</th>\n",
       "      <td>0</td>\n",
       "      <td>12</td>\n",
       "      <td>12</td>\n",
       "      <td>0</td>\n",
       "      <td>0</td>\n",
       "      <td>53.606657</td>\n",
       "      <td>-1.789652e-15</td>\n",
       "      <td>13.742410</td>\n",
       "      <td>2.378531e+00</td>\n",
       "      <td>-1.570796</td>\n",
       "      <td>7.630613e-01</td>\n",
       "    </tr>\n",
       "    <tr>\n",
       "      <th>2</th>\n",
       "      <td>0</td>\n",
       "      <td>12</td>\n",
       "      <td>24</td>\n",
       "      <td>0</td>\n",
       "      <td>0</td>\n",
       "      <td>52.819970</td>\n",
       "      <td>-3.124530e-15</td>\n",
       "      <td>6.257590</td>\n",
       "      <td>3.141593e+00</td>\n",
       "      <td>-1.361357</td>\n",
       "      <td>2.371518e-16</td>\n",
       "    </tr>\n",
       "    <tr>\n",
       "      <th>3</th>\n",
       "      <td>0</td>\n",
       "      <td>12</td>\n",
       "      <td>24</td>\n",
       "      <td>12</td>\n",
       "      <td>0</td>\n",
       "      <td>53.213314</td>\n",
       "      <td>-2.915404e-15</td>\n",
       "      <td>10.000000</td>\n",
       "      <td>2.356194e+00</td>\n",
       "      <td>-1.570796</td>\n",
       "      <td>7.853982e-01</td>\n",
       "    </tr>\n",
       "    <tr>\n",
       "      <th>4</th>\n",
       "      <td>0</td>\n",
       "      <td>12</td>\n",
       "      <td>36</td>\n",
       "      <td>12</td>\n",
       "      <td>0</td>\n",
       "      <td>51.657132</td>\n",
       "      <td>-4.201082e-15</td>\n",
       "      <td>2.678740</td>\n",
       "      <td>3.141593e+00</td>\n",
       "      <td>-1.361357</td>\n",
       "      <td>2.500234e-16</td>\n",
       "    </tr>\n",
       "    <tr>\n",
       "      <th>...</th>\n",
       "      <td>...</td>\n",
       "      <td>...</td>\n",
       "      <td>...</td>\n",
       "      <td>...</td>\n",
       "      <td>...</td>\n",
       "      <td>...</td>\n",
       "      <td>...</td>\n",
       "      <td>...</td>\n",
       "      <td>...</td>\n",
       "      <td>...</td>\n",
       "      <td>...</td>\n",
       "    </tr>\n",
       "    <tr>\n",
       "      <th>6884</th>\n",
       "      <td>120</td>\n",
       "      <td>120</td>\n",
       "      <td>120</td>\n",
       "      <td>60</td>\n",
       "      <td>0</td>\n",
       "      <td>-9.000000</td>\n",
       "      <td>1.558846e+01</td>\n",
       "      <td>41.176915</td>\n",
       "      <td>-2.026424e-16</td>\n",
       "      <td>-0.523599</td>\n",
       "      <td>-1.047198e+00</td>\n",
       "    </tr>\n",
       "    <tr>\n",
       "      <th>6885</th>\n",
       "      <td>120</td>\n",
       "      <td>120</td>\n",
       "      <td>120</td>\n",
       "      <td>72</td>\n",
       "      <td>0</td>\n",
       "      <td>-7.281153</td>\n",
       "      <td>1.261133e+01</td>\n",
       "      <td>42.707475</td>\n",
       "      <td>-1.899993e-16</td>\n",
       "      <td>-0.314159</td>\n",
       "      <td>-1.047198e+00</td>\n",
       "    </tr>\n",
       "    <tr>\n",
       "      <th>6886</th>\n",
       "      <td>120</td>\n",
       "      <td>120</td>\n",
       "      <td>120</td>\n",
       "      <td>84</td>\n",
       "      <td>0</td>\n",
       "      <td>-5.440756</td>\n",
       "      <td>9.423666e+00</td>\n",
       "      <td>43.489851</td>\n",
       "      <td>-1.843716e-16</td>\n",
       "      <td>-0.104720</td>\n",
       "      <td>-1.047198e+00</td>\n",
       "    </tr>\n",
       "    <tr>\n",
       "      <th>6887</th>\n",
       "      <td>120</td>\n",
       "      <td>120</td>\n",
       "      <td>120</td>\n",
       "      <td>96</td>\n",
       "      <td>0</td>\n",
       "      <td>-3.559244</td>\n",
       "      <td>6.164791e+00</td>\n",
       "      <td>43.489851</td>\n",
       "      <td>-1.843716e-16</td>\n",
       "      <td>0.104720</td>\n",
       "      <td>-1.047198e+00</td>\n",
       "    </tr>\n",
       "    <tr>\n",
       "      <th>6888</th>\n",
       "      <td>120</td>\n",
       "      <td>120</td>\n",
       "      <td>120</td>\n",
       "      <td>108</td>\n",
       "      <td>0</td>\n",
       "      <td>-1.718847</td>\n",
       "      <td>2.977130e+00</td>\n",
       "      <td>42.707475</td>\n",
       "      <td>-1.899993e-16</td>\n",
       "      <td>0.314159</td>\n",
       "      <td>-1.047198e+00</td>\n",
       "    </tr>\n",
       "  </tbody>\n",
       "</table>\n",
       "<p>6889 rows × 11 columns</p>\n",
       "</div>"
      ],
      "text/plain": [
       "      theta_1  theta_2  theta_3  theta_4  theta_5        p_x           p_y  \\\n",
       "0           0        0       12        0        0  53.213314 -2.477121e-15   \n",
       "1           0       12       12        0        0  53.606657 -1.789652e-15   \n",
       "2           0       12       24        0        0  52.819970 -3.124530e-15   \n",
       "3           0       12       24       12        0  53.213314 -2.915404e-15   \n",
       "4           0       12       36       12        0  51.657132 -4.201082e-15   \n",
       "...       ...      ...      ...      ...      ...        ...           ...   \n",
       "6884      120      120      120       60        0  -9.000000  1.558846e+01   \n",
       "6885      120      120      120       72        0  -7.281153  1.261133e+01   \n",
       "6886      120      120      120       84        0  -5.440756  9.423666e+00   \n",
       "6887      120      120      120       96        0  -3.559244  6.164791e+00   \n",
       "6888      120      120      120      108        0  -1.718847  2.977130e+00   \n",
       "\n",
       "            p_z          roll      pich           yaw  \n",
       "0      2.515179  3.141593e+00 -1.361357  2.752040e-16  \n",
       "1     13.742410  2.378531e+00 -1.570796  7.630613e-01  \n",
       "2      6.257590  3.141593e+00 -1.361357  2.371518e-16  \n",
       "3     10.000000  2.356194e+00 -1.570796  7.853982e-01  \n",
       "4      2.678740  3.141593e+00 -1.361357  2.500234e-16  \n",
       "...         ...           ...       ...           ...  \n",
       "6884  41.176915 -2.026424e-16 -0.523599 -1.047198e+00  \n",
       "6885  42.707475 -1.899993e-16 -0.314159 -1.047198e+00  \n",
       "6886  43.489851 -1.843716e-16 -0.104720 -1.047198e+00  \n",
       "6887  43.489851 -1.843716e-16  0.104720 -1.047198e+00  \n",
       "6888  42.707475 -1.899993e-16  0.314159 -1.047198e+00  \n",
       "\n",
       "[6889 rows x 11 columns]"
      ]
     },
     "execution_count": 3,
     "metadata": {},
     "output_type": "execute_result"
    }
   ],
   "source": [
    "ext = Extract()\n",
    "ext._path_project = os.path.abspath(Path().resolve().parent)\n",
    "\n",
    "dataset = ext.dataframe( r'src\\data\\ready\\dataset-radius-1cm.csv')\n",
    "dataset"
   ]
  },
  {
   "cell_type": "code",
   "execution_count": 4,
   "metadata": {},
   "outputs": [],
   "source": [
    "size_train,size_val,size_test = 0.7, 0.2, 0.1"
   ]
  },
  {
   "cell_type": "code",
   "execution_count": 5,
   "metadata": {},
   "outputs": [],
   "source": [
    "data  = Preprocessing(dataset = dataset, \n",
    "                           x_labels=['p_x', 'p_y','p_z', 'roll', 'pich', 'yaw'],\n",
    "                           y_labels=['theta_1', 'theta_2', 'theta_3', 'theta_4']\n",
    "                        )"
   ]
  },
  {
   "cell_type": "code",
   "execution_count": 6,
   "metadata": {},
   "outputs": [],
   "source": [
    "x_train, x_test, y_train, y_test = data.data_train_test"
   ]
  },
  {
   "cell_type": "markdown",
   "metadata": {},
   "source": [
    "## Modelos"
   ]
  },
  {
   "cell_type": "code",
   "execution_count": 7,
   "metadata": {},
   "outputs": [],
   "source": [
    "mlp = Model.mlp_regressor()\n"
   ]
  },
  {
   "cell_type": "markdown",
   "metadata": {},
   "source": [
    "## Estimação dos hiperparâmetros"
   ]
  },
  {
   "cell_type": "code",
   "execution_count": 42,
   "metadata": {},
   "outputs": [],
   "source": [
    "from sklearn.model_selection import ShuffleSplit\n",
    "class ParameterOptimizer:\n",
    "    def __init__(self, *, model: Model, x, y, size_train = 0.7, size_val =  0.1, size_test = 0.2, n_splits: int = 4) -> None:\n",
    "        self._model = model\n",
    "        self._x = x\n",
    "        self._y = y\n",
    "        self.size_validation(size_train = size_train, \n",
    "                             size_val = size_val,\n",
    "                             size_test = size_test\n",
    "        )\n",
    "        self.holdout(n_splits)\n",
    "    \n",
    "    def size_validation(self, *, size_train, size_val, size_test):\n",
    "        self._size_val, self._size_train = self.size_split_val(size_train = size_train, size_val = size_val)\n",
    "        self._size_test = size_test\n",
    "        \n",
    "    \n",
    "    # Validação cruzada hold out\n",
    "    def holdout(self, n_splits):\n",
    "        self._n_splits = n_splits\n",
    "        \n",
    "        self._cv = ShuffleSplit(n_splits=n_splits, \n",
    "                                test_size = self._size_val, \n",
    "                                random_state=42\n",
    "        )\n",
    "\n",
    "    @staticmethod\n",
    "    def size_split_val(*, size_train,size_val):\n",
    "        size_val = (1 - size_train/(size_train+size_val))\n",
    "        size_train = 1 - size_val\n",
    "        return size_val, size_train\n",
    "    \n",
    "class ParameterSearchMLP(ParameterOptimizer):\n",
    "    def __init__(self, *, min_neurons, max_neurons, num_layers, step, **kw) -> None:\n",
    "        self._min_neurons = min_neurons\n",
    "        self._max_neurons = max_neurons\n",
    "        self._num_layers = num_layers\n",
    "        self._step = step\n",
    "        super().__init__(**kw)"
   ]
  },
  {
   "cell_type": "code",
   "execution_count": 43,
   "metadata": {},
   "outputs": [],
   "source": [
    "cv = ParameterOptimizer(model = mlp, \n",
    "                        x = x_train,\n",
    "                        y = y_train,\n",
    "                        n_splits = 4\n",
    ")\n",
    "\n"
   ]
  },
  {
   "cell_type": "code",
   "execution_count": 4,
   "metadata": {},
   "outputs": [],
   "source": [
    "from sklearn.model_selection import ShuffleSplit,RandomizedSearchCV,GridSearchCV\n",
    "from itertools import product\n",
    "from sklearn.metrics import mean_squared_error,r2_score\n",
    "from pandas import DataFrame\n",
    "\n",
    "# Calcula a porcentagem relativa dos dados de treino e validação\n",
    "def size_split(size_train,size_val):\n",
    "    size_val = (1 - size_train/(size_train+size_val))\n",
    "    return size_val\n",
    "\n",
    "# Espaço de busca dos neurônios\n",
    "def space_hidden(min_neurons, max_neurons, layers, step):\n",
    "    # Lista que armazena os neurônios\n",
    "    neuron_space = []\n",
    "    neuron_combinations = []\n",
    "    \n",
    "    # Gera a lista de possíveis números de neurônios em cada camada\n",
    "    possible_neurons = list(range(min_neurons, max_neurons + 1,step))\n",
    "    \n",
    "    # Crie todas as combinações possíveis\n",
    "    for num_layers in layers:\n",
    "        neuron_combinations(list(product(possible_neurons, repeat=num_layers)))\n",
    "        \n",
    "    neuron_space.extend(neuron_combinations)\n",
    "    return neuron_space\n",
    "\n",
    "# Parâmetro da rede mlp\n",
    "def parameter_mlp(min_neurons,max_neurons,layers,step,func_act): \n",
    "    # Dicionário que armazena os hiperparâmetros\n",
    "    param_grid = {\n",
    "        'hidden_layer_sizes': space_hidden(min_neurons, max_neurons,layers,step),\n",
    "        'activation': func_act\n",
    "    }\n",
    "\n",
    "    return param_grid\n",
    "\n",
    "# Random Search\n",
    "def RandomizedSearch(x, y, model, param_grid, scoring,cv, n_iter):\n",
    "    # Configura os parâmetros da técnica de otimização \n",
    "    random_search = RandomizedSearchCV(estimator=model, \n",
    "                                       param_distributions=param_grid, \n",
    "                                       scoring=scoring, \n",
    "                                       cv=cv, \n",
    "                                       n_iter=n_iter, \n",
    "                                       random_state=42, \n",
    "                                       return_train_score=True,\n",
    "                                       verbose=0)\n",
    "    \n",
    "    # Treina os modelos\n",
    "    random_search.fit(x, y)\n",
    "\n",
    "    # DataFrame que armazena os resultado dos hiperparâmetros\n",
    "    history = DataFrame(random_search.cv_results_)\n",
    "\n",
    "    # Melhor hiperparâmetro\n",
    "    best_estimator = random_search.best_estimator_\n",
    "\n",
    "    return history,best_estimator\n",
    "\n",
    "# Grid Search\n",
    "def GridSearch(x, y, model, param_grid, scoring, cv):\n",
    "    # Configura os parâmetros da técnica de otimização \n",
    "    gridshearch = GridSearchCV(estimator=model,\n",
    "                               param_grid=param_grid,\n",
    "                               cv=cv,\n",
    "                               scoring=scoring,\n",
    "                               verbose=0,\n",
    "                               return_train_score=True)\n",
    "    \n",
    "    # Treina os modelos\n",
    "    gridshearch.fit(x, y)\n",
    "    \n",
    "    # Armazena os resultado dos hiperparâmetros\n",
    "    history = DataFrame(gridshearch.cv_results_)\n",
    "    \n",
    "    best_estimator = gridshearch.best_estimator_\n",
    "\n",
    "    return history,best_estimator\n",
    "\n",
    "# Validação cruzada hold out\n",
    "def holdout(n_splits,test_size):\n",
    "    return ShuffleSplit(n_splits=n_splits, \n",
    "                      test_size=test_size, \n",
    "                      random_state=42)\n",
    "\n"
   ]
  },
  {
   "cell_type": "code",
   "execution_count": 7,
   "metadata": {},
   "outputs": [
    {
     "data": {
      "text/plain": [
       "2"
      ]
     },
     "execution_count": 7,
     "metadata": {},
     "output_type": "execute_result"
    }
   ],
   "source": [
    "# Espaço de busca do grid search\n",
    "min_neurons= 50\n",
    "max_neurons = 300\n",
    "step = 10\n",
    "layers = [2,3]\n",
    "func_act =  ['relu', 'tanh']\n",
    "\n",
    "param_grid = parameter_mlp(min_neurons = min_neurons,\n",
    "                           max_neurons = max_neurons,\n",
    "                           layers=layers,\n",
    "                           step=step,\n",
    "                           func_act=func_act)\n",
    "\n",
    "len(param_grid['hidden_layer_sizes'])"
   ]
  },
  {
   "cell_type": "code",
   "execution_count": 10,
   "metadata": {},
   "outputs": [],
   "source": [
    "# Salvar as métricas \n",
    "sv = save(path_project[0])\n",
    "path_data_save =  r'src\\data\\ready\\history.csv'\n",
    "\n",
    "# Dados de treino e validação\n",
    "size_val = size_split(size_train,size_val)\n",
    "\n",
    "# Espaço de busca do grid search\n",
    "min_neurons= 50\n",
    "max_neurons = 300\n",
    "step = 10\n",
    "layers = [2,3]\n",
    "func_act =  ['relu', 'tanh']\n",
    "\n",
    "param_grid = parameter_mlp(min_neurons = min_neurons,\n",
    "                           max_neurons = max_neurons,\n",
    "                           layers=layers,\n",
    "                           step=step,\n",
    "                           func_act=func_act)\n",
    "\n",
    "\n",
    "# validação cruzada hold out\n",
    "n_splits = 5\n",
    "\n",
    "# Número de amostras selecionadas no espaço de busca\n",
    "n_iter = 1000\n",
    "\n",
    "# Técnica de validação\n",
    "cv = holdout(n_splits,size_val)\n",
    "\n",
    "# inicializando a rede\n",
    "mlp = MLP()\n",
    "\n",
    "# APlicação do grid search\n",
    "history,best_model = RandomizedSearch(x=x_train, \n",
    "                           y=y_train, \n",
    "                           model=mlp, \n",
    "                           param_grid=param_grid,\n",
    "                           scoring = 'neg_mean_squared_error', \n",
    "                           cv=cv,\n",
    "                           n_iter = n_iter)\n",
    "\n",
    "\n",
    "sv.dataframe(history,path_data_save)\n",
    "\n"
   ]
  },
  {
   "cell_type": "markdown",
   "metadata": {},
   "source": [
    "### Infomações"
   ]
  },
  {
   "cell_type": "code",
   "execution_count": 22,
   "metadata": {},
   "outputs": [
    {
     "name": "stdout",
     "output_type": "stream",
     "text": [
      "Número de parametros de camada oculta: 204183\n",
      "Atributos do retorno da gridsearsh: Index(['mean_fit_time', 'std_fit_time', 'mean_score_time', 'std_score_time',\n",
      "       'param_hidden_layer_sizes', 'param_activation', 'params',\n",
      "       'split0_test_score', 'split1_test_score', 'split2_test_score',\n",
      "       'split3_test_score', 'split4_test_score', 'mean_test_score',\n",
      "       'std_test_score', 'rank_test_score', 'split0_train_score',\n",
      "       'split1_train_score', 'split2_train_score', 'split3_train_score',\n",
      "       'split4_train_score', 'mean_train_score', 'std_train_score'],\n",
      "      dtype='object')\n"
     ]
    }
   ],
   "source": [
    "print(f\"Número de parametros de camada oculta: {len(param_grid['hidden_layer_sizes'])}\")\n",
    "print(f\"Atributos do retorno da gridsearsh: {history.columns}\")"
   ]
  },
  {
   "cell_type": "code",
   "execution_count": 26,
   "metadata": {},
   "outputs": [
    {
     "data": {
      "text/html": [
       "<style>#sk-container-id-2 {color: black;background-color: white;}#sk-container-id-2 pre{padding: 0;}#sk-container-id-2 div.sk-toggleable {background-color: white;}#sk-container-id-2 label.sk-toggleable__label {cursor: pointer;display: block;width: 100%;margin-bottom: 0;padding: 0.3em;box-sizing: border-box;text-align: center;}#sk-container-id-2 label.sk-toggleable__label-arrow:before {content: \"▸\";float: left;margin-right: 0.25em;color: #696969;}#sk-container-id-2 label.sk-toggleable__label-arrow:hover:before {color: black;}#sk-container-id-2 div.sk-estimator:hover label.sk-toggleable__label-arrow:before {color: black;}#sk-container-id-2 div.sk-toggleable__content {max-height: 0;max-width: 0;overflow: hidden;text-align: left;background-color: #f0f8ff;}#sk-container-id-2 div.sk-toggleable__content pre {margin: 0.2em;color: black;border-radius: 0.25em;background-color: #f0f8ff;}#sk-container-id-2 input.sk-toggleable__control:checked~div.sk-toggleable__content {max-height: 200px;max-width: 100%;overflow: auto;}#sk-container-id-2 input.sk-toggleable__control:checked~label.sk-toggleable__label-arrow:before {content: \"▾\";}#sk-container-id-2 div.sk-estimator input.sk-toggleable__control:checked~label.sk-toggleable__label {background-color: #d4ebff;}#sk-container-id-2 div.sk-label input.sk-toggleable__control:checked~label.sk-toggleable__label {background-color: #d4ebff;}#sk-container-id-2 input.sk-hidden--visually {border: 0;clip: rect(1px 1px 1px 1px);clip: rect(1px, 1px, 1px, 1px);height: 1px;margin: -1px;overflow: hidden;padding: 0;position: absolute;width: 1px;}#sk-container-id-2 div.sk-estimator {font-family: monospace;background-color: #f0f8ff;border: 1px dotted black;border-radius: 0.25em;box-sizing: border-box;margin-bottom: 0.5em;}#sk-container-id-2 div.sk-estimator:hover {background-color: #d4ebff;}#sk-container-id-2 div.sk-parallel-item::after {content: \"\";width: 100%;border-bottom: 1px solid gray;flex-grow: 1;}#sk-container-id-2 div.sk-label:hover label.sk-toggleable__label {background-color: #d4ebff;}#sk-container-id-2 div.sk-serial::before {content: \"\";position: absolute;border-left: 1px solid gray;box-sizing: border-box;top: 0;bottom: 0;left: 50%;z-index: 0;}#sk-container-id-2 div.sk-serial {display: flex;flex-direction: column;align-items: center;background-color: white;padding-right: 0.2em;padding-left: 0.2em;position: relative;}#sk-container-id-2 div.sk-item {position: relative;z-index: 1;}#sk-container-id-2 div.sk-parallel {display: flex;align-items: stretch;justify-content: center;background-color: white;position: relative;}#sk-container-id-2 div.sk-item::before, #sk-container-id-2 div.sk-parallel-item::before {content: \"\";position: absolute;border-left: 1px solid gray;box-sizing: border-box;top: 0;bottom: 0;left: 50%;z-index: -1;}#sk-container-id-2 div.sk-parallel-item {display: flex;flex-direction: column;z-index: 1;position: relative;background-color: white;}#sk-container-id-2 div.sk-parallel-item:first-child::after {align-self: flex-end;width: 50%;}#sk-container-id-2 div.sk-parallel-item:last-child::after {align-self: flex-start;width: 50%;}#sk-container-id-2 div.sk-parallel-item:only-child::after {width: 0;}#sk-container-id-2 div.sk-dashed-wrapped {border: 1px dashed gray;margin: 0 0.4em 0.5em 0.4em;box-sizing: border-box;padding-bottom: 0.4em;background-color: white;}#sk-container-id-2 div.sk-label label {font-family: monospace;font-weight: bold;display: inline-block;line-height: 1.2em;}#sk-container-id-2 div.sk-label-container {text-align: center;}#sk-container-id-2 div.sk-container {/* jupyter's `normalize.less` sets `[hidden] { display: none; }` but bootstrap.min.css set `[hidden] { display: none !important; }` so we also need the `!important` here to be able to override the default hidden behavior on the sphinx rendered scikit-learn.org. See: https://github.com/scikit-learn/scikit-learn/issues/21755 */display: inline-block !important;position: relative;}#sk-container-id-2 div.sk-text-repr-fallback {display: none;}</style><div id=\"sk-container-id-2\" class=\"sk-top-container\"><div class=\"sk-text-repr-fallback\"><pre>MLPRegressor(early_stopping=True, hidden_layer_sizes=(220, 120, 210, 210),\n",
       "             max_iter=1000, n_iter_no_change=5, random_state=42)</pre><b>In a Jupyter environment, please rerun this cell to show the HTML representation or trust the notebook. <br />On GitHub, the HTML representation is unable to render, please try loading this page with nbviewer.org.</b></div><div class=\"sk-container\" hidden><div class=\"sk-item\"><div class=\"sk-estimator sk-toggleable\"><input class=\"sk-toggleable__control sk-hidden--visually\" id=\"sk-estimator-id-2\" type=\"checkbox\" checked><label for=\"sk-estimator-id-2\" class=\"sk-toggleable__label sk-toggleable__label-arrow\">MLPRegressor</label><div class=\"sk-toggleable__content\"><pre>MLPRegressor(early_stopping=True, hidden_layer_sizes=(220, 120, 210, 210),\n",
       "             max_iter=1000, n_iter_no_change=5, random_state=42)</pre></div></div></div></div></div>"
      ],
      "text/plain": [
       "MLPRegressor(early_stopping=True, hidden_layer_sizes=(220, 120, 210, 210),\n",
       "             max_iter=1000, n_iter_no_change=5, random_state=42)"
      ]
     },
     "execution_count": 26,
     "metadata": {},
     "output_type": "execute_result"
    }
   ],
   "source": [
    "best_model"
   ]
  },
  {
   "cell_type": "code",
   "execution_count": 27,
   "metadata": {},
   "outputs": [
    {
     "data": {
      "text/html": [
       "<div>\n",
       "<style scoped>\n",
       "    .dataframe tbody tr th:only-of-type {\n",
       "        vertical-align: middle;\n",
       "    }\n",
       "\n",
       "    .dataframe tbody tr th {\n",
       "        vertical-align: top;\n",
       "    }\n",
       "\n",
       "    .dataframe thead th {\n",
       "        text-align: right;\n",
       "    }\n",
       "</style>\n",
       "<table border=\"1\" class=\"dataframe\">\n",
       "  <thead>\n",
       "    <tr style=\"text-align: right;\">\n",
       "      <th></th>\n",
       "      <th>mean_test_score</th>\n",
       "      <th>std_test_score</th>\n",
       "      <th>mean_train_score</th>\n",
       "      <th>std_train_score</th>\n",
       "      <th>params</th>\n",
       "    </tr>\n",
       "  </thead>\n",
       "  <tbody>\n",
       "    <tr>\n",
       "      <th>0</th>\n",
       "      <td>-0.005603</td>\n",
       "      <td>0.000387</td>\n",
       "      <td>-0.004849</td>\n",
       "      <td>0.000581</td>\n",
       "      <td>{'hidden_layer_sizes': (220, 120, 210, 210), '...</td>\n",
       "    </tr>\n",
       "  </tbody>\n",
       "</table>\n",
       "</div>"
      ],
      "text/plain": [
       "   mean_test_score  std_test_score  mean_train_score  std_train_score  \\\n",
       "0        -0.005603        0.000387         -0.004849         0.000581   \n",
       "\n",
       "                                              params  \n",
       "0  {'hidden_layer_sizes': (220, 120, 210, 210), '...  "
      ]
     },
     "execution_count": 27,
     "metadata": {},
     "output_type": "execute_result"
    }
   ],
   "source": [
    "history[['mean_test_score','std_test_score','mean_train_score', 'std_train_score','params']]"
   ]
  },
  {
   "cell_type": "markdown",
   "metadata": {},
   "source": [
    "## Métricas de Avaliação"
   ]
  },
  {
   "cell_type": "code",
   "execution_count": 85,
   "metadata": {},
   "outputs": [],
   "source": [
    "from sklearn.metrics import mean_squared_error\n",
    "import matplotlib.pyplot as plt\n",
    "\n",
    "def predict_mse(y_predic,Y_test):    \n",
    "    return mean_squared_error(Y_test, y_predic,multioutput='raw_values')\n",
    "\n",
    "\n",
    "\n",
    "def curve_loss(model):\n",
    "    plt.plot(model.loss_curve_)\n",
    "    plt.title('Erro Quadratico')\n",
    "    plt.xlabel('Épocas')\n",
    "    plt.ylabel('MSE')\n",
    "    plt.show()\n",
    "\n",
    "def robo():\n",
    "    # Define os parâmetros DH para cada elo\n",
    "    Elos = [['theta_1',10,0,90,0],\n",
    "            ['theta_2',0,18,180,0],\n",
    "            ['theta_3',0,18,-180,0],\n",
    "\n",
    "            ['theta_4',0,0,90,90],\n",
    "            ['theta_5',18,0,0,0]]\n",
    "\n",
    "    # Cria o robo por meio dos parâmetros\n",
    "    return Robo('Robotest',Elos)\n",
    "\n"
   ]
  },
  {
   "cell_type": "markdown",
   "metadata": {},
   "source": [
    "## Treinamento, validação e teste do modelo selecionado"
   ]
  },
  {
   "cell_type": "code",
   "execution_count": 44,
   "metadata": {},
   "outputs": [],
   "source": [
    "path_data = r'src\\data\\ready\\history.csv'\n",
    "history = extract.dataframe(path_data)\n",
    "\n",
    "history_best = history[history['rank_test_score'] == 1]\n",
    "\n",
    "params = eval(history_best.iloc[0]['params'])"
   ]
  },
  {
   "cell_type": "code",
   "execution_count": 47,
   "metadata": {},
   "outputs": [],
   "source": [
    "# Treina o modelo com hiperparâmetros selecionados\n",
    "mlp = Model()\n",
    "\n",
    "mlp.set_model(**params)\n",
    "\n",
    "mlp.fit(x = x_train,y = y_train)\n",
    "\n"
   ]
  },
  {
   "cell_type": "code",
   "execution_count": 48,
   "metadata": {},
   "outputs": [
    {
     "data": {
      "text/html": [
       "<style>#sk-container-id-1 {color: black;background-color: white;}#sk-container-id-1 pre{padding: 0;}#sk-container-id-1 div.sk-toggleable {background-color: white;}#sk-container-id-1 label.sk-toggleable__label {cursor: pointer;display: block;width: 100%;margin-bottom: 0;padding: 0.3em;box-sizing: border-box;text-align: center;}#sk-container-id-1 label.sk-toggleable__label-arrow:before {content: \"▸\";float: left;margin-right: 0.25em;color: #696969;}#sk-container-id-1 label.sk-toggleable__label-arrow:hover:before {color: black;}#sk-container-id-1 div.sk-estimator:hover label.sk-toggleable__label-arrow:before {color: black;}#sk-container-id-1 div.sk-toggleable__content {max-height: 0;max-width: 0;overflow: hidden;text-align: left;background-color: #f0f8ff;}#sk-container-id-1 div.sk-toggleable__content pre {margin: 0.2em;color: black;border-radius: 0.25em;background-color: #f0f8ff;}#sk-container-id-1 input.sk-toggleable__control:checked~div.sk-toggleable__content {max-height: 200px;max-width: 100%;overflow: auto;}#sk-container-id-1 input.sk-toggleable__control:checked~label.sk-toggleable__label-arrow:before {content: \"▾\";}#sk-container-id-1 div.sk-estimator input.sk-toggleable__control:checked~label.sk-toggleable__label {background-color: #d4ebff;}#sk-container-id-1 div.sk-label input.sk-toggleable__control:checked~label.sk-toggleable__label {background-color: #d4ebff;}#sk-container-id-1 input.sk-hidden--visually {border: 0;clip: rect(1px 1px 1px 1px);clip: rect(1px, 1px, 1px, 1px);height: 1px;margin: -1px;overflow: hidden;padding: 0;position: absolute;width: 1px;}#sk-container-id-1 div.sk-estimator {font-family: monospace;background-color: #f0f8ff;border: 1px dotted black;border-radius: 0.25em;box-sizing: border-box;margin-bottom: 0.5em;}#sk-container-id-1 div.sk-estimator:hover {background-color: #d4ebff;}#sk-container-id-1 div.sk-parallel-item::after {content: \"\";width: 100%;border-bottom: 1px solid gray;flex-grow: 1;}#sk-container-id-1 div.sk-label:hover label.sk-toggleable__label {background-color: #d4ebff;}#sk-container-id-1 div.sk-serial::before {content: \"\";position: absolute;border-left: 1px solid gray;box-sizing: border-box;top: 0;bottom: 0;left: 50%;z-index: 0;}#sk-container-id-1 div.sk-serial {display: flex;flex-direction: column;align-items: center;background-color: white;padding-right: 0.2em;padding-left: 0.2em;position: relative;}#sk-container-id-1 div.sk-item {position: relative;z-index: 1;}#sk-container-id-1 div.sk-parallel {display: flex;align-items: stretch;justify-content: center;background-color: white;position: relative;}#sk-container-id-1 div.sk-item::before, #sk-container-id-1 div.sk-parallel-item::before {content: \"\";position: absolute;border-left: 1px solid gray;box-sizing: border-box;top: 0;bottom: 0;left: 50%;z-index: -1;}#sk-container-id-1 div.sk-parallel-item {display: flex;flex-direction: column;z-index: 1;position: relative;background-color: white;}#sk-container-id-1 div.sk-parallel-item:first-child::after {align-self: flex-end;width: 50%;}#sk-container-id-1 div.sk-parallel-item:last-child::after {align-self: flex-start;width: 50%;}#sk-container-id-1 div.sk-parallel-item:only-child::after {width: 0;}#sk-container-id-1 div.sk-dashed-wrapped {border: 1px dashed gray;margin: 0 0.4em 0.5em 0.4em;box-sizing: border-box;padding-bottom: 0.4em;background-color: white;}#sk-container-id-1 div.sk-label label {font-family: monospace;font-weight: bold;display: inline-block;line-height: 1.2em;}#sk-container-id-1 div.sk-label-container {text-align: center;}#sk-container-id-1 div.sk-container {/* jupyter's `normalize.less` sets `[hidden] { display: none; }` but bootstrap.min.css set `[hidden] { display: none !important; }` so we also need the `!important` here to be able to override the default hidden behavior on the sphinx rendered scikit-learn.org. See: https://github.com/scikit-learn/scikit-learn/issues/21755 */display: inline-block !important;position: relative;}#sk-container-id-1 div.sk-text-repr-fallback {display: none;}</style><div id=\"sk-container-id-1\" class=\"sk-top-container\"><div class=\"sk-text-repr-fallback\"><pre>MLPRegressor(early_stopping=True, hidden_layer_sizes=(120, 220, 290),\n",
       "             max_iter=1000, n_iter_no_change=5, random_state=42)</pre><b>In a Jupyter environment, please rerun this cell to show the HTML representation or trust the notebook. <br />On GitHub, the HTML representation is unable to render, please try loading this page with nbviewer.org.</b></div><div class=\"sk-container\" hidden><div class=\"sk-item\"><div class=\"sk-estimator sk-toggleable\"><input class=\"sk-toggleable__control sk-hidden--visually\" id=\"sk-estimator-id-1\" type=\"checkbox\" checked><label for=\"sk-estimator-id-1\" class=\"sk-toggleable__label sk-toggleable__label-arrow\">MLPRegressor</label><div class=\"sk-toggleable__content\"><pre>MLPRegressor(early_stopping=True, hidden_layer_sizes=(120, 220, 290),\n",
       "             max_iter=1000, n_iter_no_change=5, random_state=42)</pre></div></div></div></div></div>"
      ],
      "text/plain": [
       "MLPRegressor(early_stopping=True, hidden_layer_sizes=(120, 220, 290),\n",
       "             max_iter=1000, n_iter_no_change=5, random_state=42)"
      ]
     },
     "execution_count": 48,
     "metadata": {},
     "output_type": "execute_result"
    }
   ],
   "source": [
    "mlp.model"
   ]
  },
  {
   "cell_type": "markdown",
   "metadata": {},
   "source": [
    "### Espaço das juntas"
   ]
  }
 ],
 "metadata": {
  "kernelspec": {
   "display_name": "Python 3",
   "language": "python",
   "name": "python3"
  },
  "language_info": {
   "codemirror_mode": {
    "name": "ipython",
    "version": 3
   },
   "file_extension": ".py",
   "mimetype": "text/x-python",
   "name": "python",
   "nbconvert_exporter": "python",
   "pygments_lexer": "ipython3",
   "version": "3.11.7"
  }
 },
 "nbformat": 4,
 "nbformat_minor": 2
}
