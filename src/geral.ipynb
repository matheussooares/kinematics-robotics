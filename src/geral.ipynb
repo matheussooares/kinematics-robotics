{
 "cells": [
  {
   "cell_type": "code",
   "execution_count": 121,
   "metadata": {},
   "outputs": [],
   "source": [
    "from kinematicsrobotics import kinematics\n",
    "from kinematicsrobotics  import dataprocessing\n",
    "from kinematicsrobotics  import plot\n",
    "from kinematicsrobotics  import spacemapping\n",
    "import pandas as pd\n",
    "import numpy as np"
   ]
  },
  {
   "cell_type": "code",
   "execution_count": 122,
   "metadata": {},
   "outputs": [],
   "source": [
    "# Modelagem da cinemática direta usando Denavit-hartenberg\n",
    "Elos = [['theta_1',10,0,90,0],\n",
    "        ['theta_2',0,18,180,0],\n",
    "        ['theta_3',0,18,-180,0],\n",
    "        ['theta_4',0,0,90,90],\n",
    "        ['theta_5',18,0,0,0]\n",
    "]\n",
    "\n",
    "robo = kinematics.Robo(\"Robo\",Elos)\n"
   ]
  },
  {
   "cell_type": "code",
   "execution_count": 108,
   "metadata": {},
   "outputs": [
    {
     "data": {
      "text/plain": [
       "sympy.core.numbers.Float"
      ]
     },
     "execution_count": 108,
     "metadata": {},
     "output_type": "execute_result"
    }
   ],
   "source": [
    "pose = [0,0,0,0,0]\n",
    "frame = robo.frame_effector(pose)\n",
    "#np.array(robo.frame_effector(pose)[:3]).reshape(-1)\n",
    "type(frame[0][0])\n",
    "\n"
   ]
  },
  {
   "cell_type": "code",
   "execution_count": 88,
   "metadata": {},
   "outputs": [
    {
     "data": {
      "text/plain": [
       "float"
      ]
     },
     "execution_count": 88,
     "metadata": {},
     "output_type": "execute_result"
    }
   ],
   "source": [
    "# Converter valores simbólicos para floats\n",
    "lista_float = [[float(valor) for valor in linha] for linha in frame]\n",
    "\n",
    "# Exibir a lista de floats resultante\n",
    "type(lista_float[0][0])"
   ]
  },
  {
   "cell_type": "code",
   "execution_count": 123,
   "metadata": {},
   "outputs": [
    {
     "data": {
      "text/html": [
       "<div>\n",
       "<style scoped>\n",
       "    .dataframe tbody tr th:only-of-type {\n",
       "        vertical-align: middle;\n",
       "    }\n",
       "\n",
       "    .dataframe tbody tr th {\n",
       "        vertical-align: top;\n",
       "    }\n",
       "\n",
       "    .dataframe thead th {\n",
       "        text-align: right;\n",
       "    }\n",
       "</style>\n",
       "<table border=\"1\" class=\"dataframe\">\n",
       "  <thead>\n",
       "    <tr style=\"text-align: right;\">\n",
       "      <th></th>\n",
       "      <th>theta_1</th>\n",
       "      <th>theta_2</th>\n",
       "      <th>theta_3</th>\n",
       "      <th>theta_4</th>\n",
       "      <th>theta_5</th>\n",
       "      <th>R_11</th>\n",
       "      <th>R_12</th>\n",
       "      <th>R_13</th>\n",
       "      <th>p_x</th>\n",
       "      <th>R_21</th>\n",
       "      <th>R_22</th>\n",
       "      <th>R_23</th>\n",
       "      <th>p_y</th>\n",
       "      <th>R_31</th>\n",
       "      <th>R_32</th>\n",
       "      <th>R_33</th>\n",
       "      <th>p_z</th>\n",
       "    </tr>\n",
       "  </thead>\n",
       "  <tbody>\n",
       "    <tr>\n",
       "      <th>0</th>\n",
       "      <td>0</td>\n",
       "      <td>0</td>\n",
       "      <td>0</td>\n",
       "      <td>0</td>\n",
       "      <td>0</td>\n",
       "      <td>6.12323399573677e-17</td>\n",
       "      <td>0</td>\n",
       "      <td>1.00000000000000</td>\n",
       "      <td>54.0000000000000</td>\n",
       "      <td>0</td>\n",
       "      <td>-1.00000000000000</td>\n",
       "      <td>0</td>\n",
       "      <td>0</td>\n",
       "      <td>1.00000000000000</td>\n",
       "      <td>0</td>\n",
       "      <td>-6.12323399573677e-17</td>\n",
       "      <td>10.0000000000000</td>\n",
       "    </tr>\n",
       "    <tr>\n",
       "      <th>1</th>\n",
       "      <td>0</td>\n",
       "      <td>0</td>\n",
       "      <td>0</td>\n",
       "      <td>5</td>\n",
       "      <td>0</td>\n",
       "      <td>-0.0871557427476581</td>\n",
       "      <td>0</td>\n",
       "      <td>0.996194698091746</td>\n",
       "      <td>53.9315045656514</td>\n",
       "      <td>0</td>\n",
       "      <td>-1.00000000000000</td>\n",
       "      <td>0</td>\n",
       "      <td>0</td>\n",
       "      <td>0.996194698091746</td>\n",
       "      <td>0</td>\n",
       "      <td>0.0871557427476581</td>\n",
       "      <td>11.5688033694578</td>\n",
       "    </tr>\n",
       "    <tr>\n",
       "      <th>2</th>\n",
       "      <td>0</td>\n",
       "      <td>0</td>\n",
       "      <td>0</td>\n",
       "      <td>10</td>\n",
       "      <td>0</td>\n",
       "      <td>-0.173648177666930</td>\n",
       "      <td>0</td>\n",
       "      <td>0.984807753012208</td>\n",
       "      <td>53.7265395542197</td>\n",
       "      <td>0</td>\n",
       "      <td>-1.00000000000000</td>\n",
       "      <td>0</td>\n",
       "      <td>0</td>\n",
       "      <td>0.984807753012208</td>\n",
       "      <td>0</td>\n",
       "      <td>0.173648177666930</td>\n",
       "      <td>13.1256671980047</td>\n",
       "    </tr>\n",
       "  </tbody>\n",
       "</table>\n",
       "</div>"
      ],
      "text/plain": [
       "   theta_1  theta_2  theta_3  theta_4  theta_5                  R_11 R_12  \\\n",
       "0        0        0        0        0        0  6.12323399573677e-17    0   \n",
       "1        0        0        0        5        0   -0.0871557427476581    0   \n",
       "2        0        0        0       10        0    -0.173648177666930    0   \n",
       "\n",
       "                R_13               p_x R_21               R_22 R_23 p_y  \\\n",
       "0   1.00000000000000  54.0000000000000    0  -1.00000000000000    0   0   \n",
       "1  0.996194698091746  53.9315045656514    0  -1.00000000000000    0   0   \n",
       "2  0.984807753012208  53.7265395542197    0  -1.00000000000000    0   0   \n",
       "\n",
       "                R_31 R_32                   R_33               p_z  \n",
       "0   1.00000000000000    0  -6.12323399573677e-17  10.0000000000000  \n",
       "1  0.996194698091746    0     0.0871557427476581  11.5688033694578  \n",
       "2  0.984807753012208    0      0.173648177666930  13.1256671980047  "
      ]
     },
     "execution_count": 123,
     "metadata": {},
     "output_type": "execute_result"
    }
   ],
   "source": [
    "# Mapeamento do espaço das juntas e o espaço operacional\n",
    "joins = [[0, 10],[0, 10],[0, 10],[0, 10],[0, 0]]\n",
    "steps = [10, joins[1][1]//2, joins[2][1]//2, joins[3][1]//2, 1]\n",
    "\n",
    "dataset = spacemapping.mapping(robo,joins,steps)\n",
    "\n",
    "dataset.head(3)"
   ]
  },
  {
   "cell_type": "code",
   "execution_count": 114,
   "metadata": {},
   "outputs": [
    {
     "name": "stdout",
     "output_type": "stream",
     "text": [
      "<class 'sympy.core.numbers.Float'>\n"
     ]
    }
   ],
   "source": [
    "print(type(dataset['p_x'].loc[2]))"
   ]
  },
  {
   "cell_type": "markdown",
   "metadata": {},
   "source": [
    "### Teste"
   ]
  },
  {
   "cell_type": "code",
   "execution_count": 23,
   "metadata": {},
   "outputs": [
    {
     "data": {
      "text/html": [
       "<div>\n",
       "<style scoped>\n",
       "    .dataframe tbody tr th:only-of-type {\n",
       "        vertical-align: middle;\n",
       "    }\n",
       "\n",
       "    .dataframe tbody tr th {\n",
       "        vertical-align: top;\n",
       "    }\n",
       "\n",
       "    .dataframe thead th {\n",
       "        text-align: right;\n",
       "    }\n",
       "</style>\n",
       "<table border=\"1\" class=\"dataframe\">\n",
       "  <thead>\n",
       "    <tr style=\"text-align: right;\">\n",
       "      <th></th>\n",
       "      <th>theta_1</th>\n",
       "      <th>theta_2</th>\n",
       "      <th>theta_3</th>\n",
       "      <th>theta_4</th>\n",
       "      <th>theta_5</th>\n",
       "      <th>R_11</th>\n",
       "      <th>R_12</th>\n",
       "      <th>R_13</th>\n",
       "      <th>p_x</th>\n",
       "      <th>R_21</th>\n",
       "      <th>R_22</th>\n",
       "      <th>R_23</th>\n",
       "      <th>p_y</th>\n",
       "      <th>R_31</th>\n",
       "      <th>R_32</th>\n",
       "      <th>R_33</th>\n",
       "      <th>p_z</th>\n",
       "    </tr>\n",
       "  </thead>\n",
       "  <tbody>\n",
       "    <tr>\n",
       "      <th>0</th>\n",
       "      <td>0</td>\n",
       "      <td>0</td>\n",
       "      <td>0</td>\n",
       "      <td>0</td>\n",
       "      <td>0</td>\n",
       "      <td>6.123234e-17</td>\n",
       "      <td>0.0</td>\n",
       "      <td>1.000000</td>\n",
       "      <td>54.000000</td>\n",
       "      <td>0.0</td>\n",
       "      <td>-1.0</td>\n",
       "      <td>0.0</td>\n",
       "      <td>0.0</td>\n",
       "      <td>1.000000</td>\n",
       "      <td>0</td>\n",
       "      <td>-6.123234e-17</td>\n",
       "      <td>10.00000</td>\n",
       "    </tr>\n",
       "    <tr>\n",
       "      <th>1</th>\n",
       "      <td>0</td>\n",
       "      <td>0</td>\n",
       "      <td>0</td>\n",
       "      <td>12</td>\n",
       "      <td>0</td>\n",
       "      <td>-2.079117e-01</td>\n",
       "      <td>0.0</td>\n",
       "      <td>0.978148</td>\n",
       "      <td>53.606657</td>\n",
       "      <td>0.0</td>\n",
       "      <td>-1.0</td>\n",
       "      <td>0.0</td>\n",
       "      <td>0.0</td>\n",
       "      <td>0.978148</td>\n",
       "      <td>0</td>\n",
       "      <td>2.079117e-01</td>\n",
       "      <td>13.74241</td>\n",
       "    </tr>\n",
       "    <tr>\n",
       "      <th>2</th>\n",
       "      <td>0</td>\n",
       "      <td>0</td>\n",
       "      <td>0</td>\n",
       "      <td>24</td>\n",
       "      <td>0</td>\n",
       "      <td>-4.067366e-01</td>\n",
       "      <td>0.0</td>\n",
       "      <td>0.913545</td>\n",
       "      <td>52.443818</td>\n",
       "      <td>0.0</td>\n",
       "      <td>-1.0</td>\n",
       "      <td>0.0</td>\n",
       "      <td>0.0</td>\n",
       "      <td>0.913545</td>\n",
       "      <td>0</td>\n",
       "      <td>4.067366e-01</td>\n",
       "      <td>17.32126</td>\n",
       "    </tr>\n",
       "  </tbody>\n",
       "</table>\n",
       "</div>"
      ],
      "text/plain": [
       "   theta_1  theta_2  theta_3  theta_4  theta_5          R_11  R_12      R_13  \\\n",
       "0        0        0        0        0        0  6.123234e-17   0.0  1.000000   \n",
       "1        0        0        0       12        0 -2.079117e-01   0.0  0.978148   \n",
       "2        0        0        0       24        0 -4.067366e-01   0.0  0.913545   \n",
       "\n",
       "         p_x  R_21  R_22  R_23  p_y      R_31  R_32          R_33       p_z  \n",
       "0  54.000000   0.0  -1.0   0.0  0.0  1.000000     0 -6.123234e-17  10.00000  \n",
       "1  53.606657   0.0  -1.0   0.0  0.0  0.978148     0  2.079117e-01  13.74241  \n",
       "2  52.443818   0.0  -1.0   0.0  0.0  0.913545     0  4.067366e-01  17.32126  "
      ]
     },
     "execution_count": 23,
     "metadata": {},
     "output_type": "execute_result"
    }
   ],
   "source": [
    "path = r'C:\\Users\\mathe\\OneDrive\\Graduação - UFC\\Engenharia da Computação\\TCC\\Códigos e implementações\\V.2\\kinematics-robotics\\src\\data\\raw\\dataset.csv'\n",
    "df_dataset = pd.read_csv(path)\n",
    "df_dataset.head(3)"
   ]
  },
  {
   "cell_type": "code",
   "execution_count": 31,
   "metadata": {},
   "outputs": [
    {
     "name": "stdout",
     "output_type": "stream",
     "text": [
      "<class 'numpy.float64'>\n"
     ]
    }
   ],
   "source": [
    "print(type(df_dataset['p_x'].loc[0]))"
   ]
  },
  {
   "cell_type": "markdown",
   "metadata": {},
   "source": [
    "## pre-processamento"
   ]
  },
  {
   "cell_type": "code",
   "execution_count": 115,
   "metadata": {},
   "outputs": [
    {
     "name": "stdout",
     "output_type": "stream",
     "text": [
      "Unexpected exception formatting exception. Falling back to standard exception\n"
     ]
    },
    {
     "name": "stderr",
     "output_type": "stream",
     "text": [
      "Traceback (most recent call last):\n",
      "  File \"c:\\Users\\mathe\\anaconda3\\Lib\\site-packages\\IPython\\core\\interactiveshell.py\", line 3553, in run_code\n",
      "    exec(code_obj, self.user_global_ns, self.user_ns)\n",
      "  File \"C:\\Users\\mathe\\AppData\\Local\\Temp\\ipykernel_40780\\1073924918.py\", line 13, in <module>\n",
      "    dataset = dataprocessing.remove_height_join(dataset,Elos,'bot',['theta_1','theta_2','theta_3'],height)\n",
      "              ^^^^^^^^^^^^^^^^^^^^^^^^^^^^^^^^^^^^^^^^^^^^^^^^^^^^^^^^^^^^^^^^^^^^^^^^^^^^^^^^^^^^^^^^^^^^\n",
      "  File \"c:\\Users\\mathe\\OneDrive\\Graduação - UFC\\Engenharia da Computação\\TCC\\Códigos e implementações\\V.2\\kinematics-robotics\\src\\kinematicsrobotics\\dataprocessing.py\", line 22, in remove_height_join\n",
      "    # Se altura alcançada em Z for menor que a desejada\n",
      "        ^^^^^^^^^^^^^^^^^^^^^^^^^\n",
      "  File \"c:\\Users\\mathe\\OneDrive\\Graduação - UFC\\Engenharia da Computação\\TCC\\Códigos e implementações\\V.2\\kinematics-robotics\\src\\kinematicsrobotics\\forwardkinematics.py\", line 137, in frame_effector\n",
      "  File \"c:\\Users\\mathe\\anaconda3\\Lib\\site-packages\\sympy\\matrices\\common.py\", line 2031, in evalf\n",
      "    return self.applyfunc(lambda i: i.evalf(n, **options))\n",
      "           ^^^^^^^^^^^^^^^^^^^^^^^^^^^^^^^^^^^^^^^^^^^^^^^\n",
      "  File \"c:\\Users\\mathe\\anaconda3\\Lib\\site-packages\\sympy\\matrices\\common.py\", line 1989, in applyfunc\n",
      "    return self._eval_applyfunc(f)\n",
      "           ^^^^^^^^^^^^^^^^^^^^^^^\n",
      "  File \"c:\\Users\\mathe\\anaconda3\\Lib\\site-packages\\sympy\\matrices\\common.py\", line 1931, in _eval_applyfunc\n",
      "    out = self._new(self.rows, self.cols, [f(x) for x in self])\n",
      "                                          ^^^^^^^^^^^^^^^^^^^^\n",
      "  File \"c:\\Users\\mathe\\anaconda3\\Lib\\site-packages\\sympy\\matrices\\common.py\", line 1931, in <listcomp>\n",
      "    out = self._new(self.rows, self.cols, [f(x) for x in self])\n",
      "                                           ^^^^\n",
      "  File \"c:\\Users\\mathe\\anaconda3\\Lib\\site-packages\\sympy\\matrices\\common.py\", line 2031, in <lambda>\n",
      "    return self.applyfunc(lambda i: i.evalf(n, **options))\n",
      "                                    ^^^^^^^^^^^^^^^^^^^^^\n",
      "  File \"c:\\Users\\mathe\\anaconda3\\Lib\\site-packages\\sympy\\core\\evalf.py\", line 1647, in evalf\n",
      "    result = evalf(self, prec + 4, options)\n",
      "             ^^^^^^^^^^^^^^^^^^^^^^^^^^^^^^\n",
      "  File \"c:\\Users\\mathe\\anaconda3\\Lib\\site-packages\\sympy\\core\\evalf.py\", line 1482, in evalf\n",
      "    r = rf(x, prec, options)\n",
      "        ^^^^^^^^^^^^^^^^^^^^\n",
      "  File \"c:\\Users\\mathe\\anaconda3\\Lib\\site-packages\\sympy\\core\\evalf.py\", line 601, in evalf_add\n",
      "    n = terms.count(S.ComplexInfinity)\n",
      "        ^^^^^^^^^^^^^^^^^^^^^^^^^^^^^^\n",
      "  File \"c:\\Users\\mathe\\anaconda3\\Lib\\site-packages\\sympy\\core\\basic.py\", line 411, in __eq__\n",
      "    return self._do_eq_sympify(other)\n",
      "           ^^^^^^^^^^^^^^^^^^^^^^^^^^\n",
      "  File \"c:\\Users\\mathe\\anaconda3\\Lib\\site-packages\\sympy\\core\\basic.py\", line 380, in _do_eq_sympify\n",
      "    if conv is not None:\n",
      "       ^^^^^^^^^^^^^^^^\n",
      "KeyboardInterrupt\n",
      "\n",
      "During handling of the above exception, another exception occurred:\n",
      "\n",
      "Traceback (most recent call last):\n",
      "  File \"c:\\Users\\mathe\\anaconda3\\Lib\\site-packages\\IPython\\core\\interactiveshell.py\", line 2144, in showtraceback\n",
      "    stb = self.InteractiveTB.structured_traceback(\n",
      "          ^^^^^^^^^^^^^^^^^^^^^^^^^^^^^^^^^^^^^^^^\n",
      "  File \"c:\\Users\\mathe\\anaconda3\\Lib\\site-packages\\IPython\\core\\ultratb.py\", line 1435, in structured_traceback\n",
      "    return FormattedTB.structured_traceback(\n",
      "           ^^^^^^^^^^^^^^^^^^^^^^^^^^^^^^^^^\n",
      "  File \"c:\\Users\\mathe\\anaconda3\\Lib\\site-packages\\IPython\\core\\ultratb.py\", line 1326, in structured_traceback\n",
      "    return VerboseTB.structured_traceback(\n",
      "           ^^^^^^^^^^^^^^^^^^^^^^^^^^^^^^^\n",
      "  File \"c:\\Users\\mathe\\anaconda3\\Lib\\site-packages\\IPython\\core\\ultratb.py\", line 1173, in structured_traceback\n",
      "    formatted_exception = self.format_exception_as_a_whole(etype, evalue, etb, number_of_lines_of_context,\n",
      "                          ^^^^^^^^^^^^^^^^^^^^^^^^^^^^^^^^^^^^^^^^^^^^^^^^^^^^^^^^^^^^^^^^^^^^^^^^^^^^^^^^\n",
      "  File \"c:\\Users\\mathe\\anaconda3\\Lib\\site-packages\\IPython\\core\\ultratb.py\", line 1088, in format_exception_as_a_whole\n",
      "    frames.append(self.format_record(record))\n",
      "                  ^^^^^^^^^^^^^^^^^^^^^^^^^^\n",
      "  File \"c:\\Users\\mathe\\anaconda3\\Lib\\site-packages\\IPython\\core\\ultratb.py\", line 970, in format_record\n",
      "    frame_info.lines, Colors, self.has_colors, lvals\n",
      "    ^^^^^^^^^^^^^^^^\n",
      "  File \"c:\\Users\\mathe\\anaconda3\\Lib\\site-packages\\IPython\\core\\ultratb.py\", line 792, in lines\n",
      "    return self._sd.lines\n",
      "           ^^^^^^^^^^^^^^\n",
      "  File \"c:\\Users\\mathe\\anaconda3\\Lib\\site-packages\\stack_data\\utils.py\", line 145, in cached_property_wrapper\n",
      "    value = obj.__dict__[self.func.__name__] = self.func(obj)\n",
      "                                               ^^^^^^^^^^^^^^\n",
      "  File \"c:\\Users\\mathe\\anaconda3\\Lib\\site-packages\\stack_data\\core.py\", line 698, in lines\n",
      "    pieces = self.included_pieces\n",
      "             ^^^^^^^^^^^^^^^^^^^^\n",
      "  File \"c:\\Users\\mathe\\anaconda3\\Lib\\site-packages\\stack_data\\utils.py\", line 145, in cached_property_wrapper\n",
      "    value = obj.__dict__[self.func.__name__] = self.func(obj)\n",
      "                                               ^^^^^^^^^^^^^^\n",
      "  File \"c:\\Users\\mathe\\anaconda3\\Lib\\site-packages\\stack_data\\core.py\", line 649, in included_pieces\n",
      "    pos = scope_pieces.index(self.executing_piece)\n",
      "                             ^^^^^^^^^^^^^^^^^^^^\n",
      "  File \"c:\\Users\\mathe\\anaconda3\\Lib\\site-packages\\stack_data\\utils.py\", line 145, in cached_property_wrapper\n",
      "    value = obj.__dict__[self.func.__name__] = self.func(obj)\n",
      "                                               ^^^^^^^^^^^^^^\n",
      "  File \"c:\\Users\\mathe\\anaconda3\\Lib\\site-packages\\stack_data\\core.py\", line 628, in executing_piece\n",
      "    return only(\n",
      "           ^^^^^\n",
      "  File \"c:\\Users\\mathe\\anaconda3\\Lib\\site-packages\\executing\\executing.py\", line 164, in only\n",
      "    raise NotOneValueFound('Expected one value, found 0')\n",
      "executing.executing.NotOneValueFound: Expected one value, found 0\n"
     ]
    }
   ],
   "source": [
    "## Altura negativa\n",
    "height = 0\n",
    "dataset = dataprocessing.remove_height(df_dataset,height)\n",
    "\n",
    "## Elos negativos\n",
    "Elos = [['theta_1',10,0,90,0],\n",
    "        ['theta_2',0,18,180,0],\n",
    "        ['theta_3',0,18,-180,0]\n",
    "        ]\n",
    "\n",
    "dataset = dataprocessing.remove_height_join(dataset,Elos,'bot',['theta_1','theta_2','theta_3'],height)"
   ]
  },
  {
   "cell_type": "code",
   "execution_count": 124,
   "metadata": {},
   "outputs": [
    {
     "ename": "TypeError",
     "evalue": "loop of ufunc does not support argument 0 of type Zero which has no callable sqrt method",
     "output_type": "error",
     "traceback": [
      "\u001b[1;31m---------------------------------------------------------------------------\u001b[0m",
      "\u001b[1;31mAttributeError\u001b[0m                            Traceback (most recent call last)",
      "\u001b[1;31mAttributeError\u001b[0m: 'Zero' object has no attribute 'sqrt'",
      "\nThe above exception was the direct cause of the following exception:\n",
      "\u001b[1;31mTypeError\u001b[0m                                 Traceback (most recent call last)",
      "Cell \u001b[1;32mIn[124], line 8\u001b[0m\n\u001b[0;32m      5\u001b[0m \u001b[38;5;66;03m# O critério de escolha é no espaço das juntas\u001b[39;00m\n\u001b[0;32m      6\u001b[0m attr_redundancy \u001b[38;5;241m=\u001b[39m [\u001b[38;5;124m'\u001b[39m\u001b[38;5;124mtheta_2\u001b[39m\u001b[38;5;124m'\u001b[39m,\u001b[38;5;124m'\u001b[39m\u001b[38;5;124mtheta_3\u001b[39m\u001b[38;5;124m'\u001b[39m,\u001b[38;5;124m'\u001b[39m\u001b[38;5;124mtheta_4\u001b[39m\u001b[38;5;124m'\u001b[39m,\u001b[38;5;124m'\u001b[39m\u001b[38;5;124mtheta_5\u001b[39m\u001b[38;5;124m'\u001b[39m]\n\u001b[1;32m----> 8\u001b[0m dataset_1mm \u001b[38;5;241m=\u001b[39m dataprocessing\u001b[38;5;241m.\u001b[39mremove_redundancy(dataset,radius,attr_neighbors, attr_redundancy)\n",
      "File \u001b[1;32mc:\\Users\\mathe\\OneDrive\\Graduação - UFC\\Engenharia da Computação\\TCC\\Códigos e implementações\\V.2\\kinematics-robotics\\src\\kinematicsrobotics\\dataprocessing.py:86\u001b[0m, in \u001b[0;36mremove_redundancy\u001b[1;34m(dataset, radius, attr_neighbors, attr_redundancy)\u001b[0m\n\u001b[0;32m     84\u001b[0m amostra \u001b[38;5;241m=\u001b[39m dataset\u001b[38;5;241m.\u001b[39mloc[indice]\n\u001b[0;32m     85\u001b[0m \u001b[38;5;66;03m# Pega os vizinhos da amostra atual sobre um raio\u001b[39;00m\n\u001b[1;32m---> 86\u001b[0m vizinhos \u001b[38;5;241m=\u001b[39m neighbors(amostra[attr_neighbors],df[attr_neighbors],radius)\n\u001b[0;32m     87\u001b[0m \u001b[38;5;66;03m# Armazena no conjunto os indices das amostras redundântes\u001b[39;00m\n\u001b[0;32m     88\u001b[0m redund_ind\u001b[38;5;241m.\u001b[39mupdate(redundancy(vizinhos,df[attr_redundancy]))\n",
      "File \u001b[1;32mc:\\Users\\mathe\\OneDrive\\Graduação - UFC\\Engenharia da Computação\\TCC\\Códigos e implementações\\V.2\\kinematics-robotics\\src\\kinematicsrobotics\\dataprocessing.py:38\u001b[0m, in \u001b[0;36mneighbors\u001b[1;34m(amostra, posicoes, raio)\u001b[0m\n\u001b[0;32m     35\u001b[0m diferenca \u001b[38;5;241m=\u001b[39m (posicoes \u001b[38;5;241m-\u001b[39m amostra) \u001b[38;5;241m*\u001b[39m\u001b[38;5;241m*\u001b[39m \u001b[38;5;241m2\u001b[39m\n\u001b[0;32m     37\u001b[0m \u001b[38;5;66;03m# Calcula a distância euclidiana e armazena em um dataframe\u001b[39;00m\n\u001b[1;32m---> 38\u001b[0m df_distancia \u001b[38;5;241m=\u001b[39m DataFrame(diferenca\u001b[38;5;241m.\u001b[39msum(axis\u001b[38;5;241m=\u001b[39m\u001b[38;5;241m1\u001b[39m),columns\u001b[38;5;241m=\u001b[39m[\u001b[38;5;124m'\u001b[39m\u001b[38;5;124mDistâncias\u001b[39m\u001b[38;5;124m'\u001b[39m])\u001b[38;5;241m.\u001b[39mmap(sqrt)\n\u001b[0;32m     40\u001b[0m \u001b[38;5;66;03m# Retornar é menor ou igual ao raio definido\u001b[39;00m\n\u001b[0;32m     41\u001b[0m \u001b[38;5;28;01mreturn\u001b[39;00m df_distancia[(df_distancia\u001b[38;5;241m<\u001b[39m\u001b[38;5;241m=\u001b[39mraio)\u001b[38;5;241m.\u001b[39mall(axis\u001b[38;5;241m=\u001b[39m\u001b[38;5;241m1\u001b[39m)]\n",
      "File \u001b[1;32mc:\\Users\\mathe\\anaconda3\\Lib\\site-packages\\pandas\\core\\frame.py:10120\u001b[0m, in \u001b[0;36mDataFrame.map\u001b[1;34m(self, func, na_action, **kwargs)\u001b[0m\n\u001b[0;32m  10117\u001b[0m \u001b[38;5;28;01mdef\u001b[39;00m \u001b[38;5;21minfer\u001b[39m(x):\n\u001b[0;32m  10118\u001b[0m     \u001b[38;5;28;01mreturn\u001b[39;00m x\u001b[38;5;241m.\u001b[39m_map_values(func, na_action\u001b[38;5;241m=\u001b[39mna_action)\n\u001b[1;32m> 10120\u001b[0m \u001b[38;5;28;01mreturn\u001b[39;00m \u001b[38;5;28mself\u001b[39m\u001b[38;5;241m.\u001b[39mapply(infer)\u001b[38;5;241m.\u001b[39m__finalize__(\u001b[38;5;28mself\u001b[39m, \u001b[38;5;124m\"\u001b[39m\u001b[38;5;124mmap\u001b[39m\u001b[38;5;124m\"\u001b[39m)\n",
      "File \u001b[1;32mc:\\Users\\mathe\\anaconda3\\Lib\\site-packages\\pandas\\core\\frame.py:10034\u001b[0m, in \u001b[0;36mDataFrame.apply\u001b[1;34m(self, func, axis, raw, result_type, args, by_row, **kwargs)\u001b[0m\n\u001b[0;32m  10022\u001b[0m \u001b[38;5;28;01mfrom\u001b[39;00m \u001b[38;5;21;01mpandas\u001b[39;00m\u001b[38;5;21;01m.\u001b[39;00m\u001b[38;5;21;01mcore\u001b[39;00m\u001b[38;5;21;01m.\u001b[39;00m\u001b[38;5;21;01mapply\u001b[39;00m \u001b[38;5;28;01mimport\u001b[39;00m frame_apply\n\u001b[0;32m  10024\u001b[0m op \u001b[38;5;241m=\u001b[39m frame_apply(\n\u001b[0;32m  10025\u001b[0m     \u001b[38;5;28mself\u001b[39m,\n\u001b[0;32m  10026\u001b[0m     func\u001b[38;5;241m=\u001b[39mfunc,\n\u001b[1;32m   (...)\u001b[0m\n\u001b[0;32m  10032\u001b[0m     kwargs\u001b[38;5;241m=\u001b[39mkwargs,\n\u001b[0;32m  10033\u001b[0m )\n\u001b[1;32m> 10034\u001b[0m \u001b[38;5;28;01mreturn\u001b[39;00m op\u001b[38;5;241m.\u001b[39mapply()\u001b[38;5;241m.\u001b[39m__finalize__(\u001b[38;5;28mself\u001b[39m, method\u001b[38;5;241m=\u001b[39m\u001b[38;5;124m\"\u001b[39m\u001b[38;5;124mapply\u001b[39m\u001b[38;5;124m\"\u001b[39m)\n",
      "File \u001b[1;32mc:\\Users\\mathe\\anaconda3\\Lib\\site-packages\\pandas\\core\\apply.py:837\u001b[0m, in \u001b[0;36mFrameApply.apply\u001b[1;34m(self)\u001b[0m\n\u001b[0;32m    834\u001b[0m \u001b[38;5;28;01melif\u001b[39;00m \u001b[38;5;28mself\u001b[39m\u001b[38;5;241m.\u001b[39mraw:\n\u001b[0;32m    835\u001b[0m     \u001b[38;5;28;01mreturn\u001b[39;00m \u001b[38;5;28mself\u001b[39m\u001b[38;5;241m.\u001b[39mapply_raw()\n\u001b[1;32m--> 837\u001b[0m \u001b[38;5;28;01mreturn\u001b[39;00m \u001b[38;5;28mself\u001b[39m\u001b[38;5;241m.\u001b[39mapply_standard()\n",
      "File \u001b[1;32mc:\\Users\\mathe\\anaconda3\\Lib\\site-packages\\pandas\\core\\apply.py:965\u001b[0m, in \u001b[0;36mFrameApply.apply_standard\u001b[1;34m(self)\u001b[0m\n\u001b[0;32m    964\u001b[0m \u001b[38;5;28;01mdef\u001b[39;00m \u001b[38;5;21mapply_standard\u001b[39m(\u001b[38;5;28mself\u001b[39m):\n\u001b[1;32m--> 965\u001b[0m     results, res_index \u001b[38;5;241m=\u001b[39m \u001b[38;5;28mself\u001b[39m\u001b[38;5;241m.\u001b[39mapply_series_generator()\n\u001b[0;32m    967\u001b[0m     \u001b[38;5;66;03m# wrap results\u001b[39;00m\n\u001b[0;32m    968\u001b[0m     \u001b[38;5;28;01mreturn\u001b[39;00m \u001b[38;5;28mself\u001b[39m\u001b[38;5;241m.\u001b[39mwrap_results(results, res_index)\n",
      "File \u001b[1;32mc:\\Users\\mathe\\anaconda3\\Lib\\site-packages\\pandas\\core\\apply.py:981\u001b[0m, in \u001b[0;36mFrameApply.apply_series_generator\u001b[1;34m(self)\u001b[0m\n\u001b[0;32m    978\u001b[0m \u001b[38;5;28;01mwith\u001b[39;00m option_context(\u001b[38;5;124m\"\u001b[39m\u001b[38;5;124mmode.chained_assignment\u001b[39m\u001b[38;5;124m\"\u001b[39m, \u001b[38;5;28;01mNone\u001b[39;00m):\n\u001b[0;32m    979\u001b[0m     \u001b[38;5;28;01mfor\u001b[39;00m i, v \u001b[38;5;129;01min\u001b[39;00m \u001b[38;5;28menumerate\u001b[39m(series_gen):\n\u001b[0;32m    980\u001b[0m         \u001b[38;5;66;03m# ignore SettingWithCopy here in case the user mutates\u001b[39;00m\n\u001b[1;32m--> 981\u001b[0m         results[i] \u001b[38;5;241m=\u001b[39m \u001b[38;5;28mself\u001b[39m\u001b[38;5;241m.\u001b[39mfunc(v, \u001b[38;5;241m*\u001b[39m\u001b[38;5;28mself\u001b[39m\u001b[38;5;241m.\u001b[39margs, \u001b[38;5;241m*\u001b[39m\u001b[38;5;241m*\u001b[39m\u001b[38;5;28mself\u001b[39m\u001b[38;5;241m.\u001b[39mkwargs)\n\u001b[0;32m    982\u001b[0m         \u001b[38;5;28;01mif\u001b[39;00m \u001b[38;5;28misinstance\u001b[39m(results[i], ABCSeries):\n\u001b[0;32m    983\u001b[0m             \u001b[38;5;66;03m# If we have a view on v, we need to make a copy because\u001b[39;00m\n\u001b[0;32m    984\u001b[0m             \u001b[38;5;66;03m#  series_generator will swap out the underlying data\u001b[39;00m\n\u001b[0;32m    985\u001b[0m             results[i] \u001b[38;5;241m=\u001b[39m results[i]\u001b[38;5;241m.\u001b[39mcopy(deep\u001b[38;5;241m=\u001b[39m\u001b[38;5;28;01mFalse\u001b[39;00m)\n",
      "File \u001b[1;32mc:\\Users\\mathe\\anaconda3\\Lib\\site-packages\\pandas\\core\\frame.py:10118\u001b[0m, in \u001b[0;36mDataFrame.map.<locals>.infer\u001b[1;34m(x)\u001b[0m\n\u001b[0;32m  10117\u001b[0m \u001b[38;5;28;01mdef\u001b[39;00m \u001b[38;5;21minfer\u001b[39m(x):\n\u001b[1;32m> 10118\u001b[0m     \u001b[38;5;28;01mreturn\u001b[39;00m x\u001b[38;5;241m.\u001b[39m_map_values(func, na_action\u001b[38;5;241m=\u001b[39mna_action)\n",
      "File \u001b[1;32mc:\\Users\\mathe\\anaconda3\\Lib\\site-packages\\pandas\\core\\base.py:921\u001b[0m, in \u001b[0;36mIndexOpsMixin._map_values\u001b[1;34m(self, mapper, na_action, convert)\u001b[0m\n\u001b[0;32m    918\u001b[0m \u001b[38;5;28;01mif\u001b[39;00m \u001b[38;5;28misinstance\u001b[39m(arr, ExtensionArray):\n\u001b[0;32m    919\u001b[0m     \u001b[38;5;28;01mreturn\u001b[39;00m arr\u001b[38;5;241m.\u001b[39mmap(mapper, na_action\u001b[38;5;241m=\u001b[39mna_action)\n\u001b[1;32m--> 921\u001b[0m \u001b[38;5;28;01mreturn\u001b[39;00m algorithms\u001b[38;5;241m.\u001b[39mmap_array(arr, mapper, na_action\u001b[38;5;241m=\u001b[39mna_action, convert\u001b[38;5;241m=\u001b[39mconvert)\n",
      "File \u001b[1;32mc:\\Users\\mathe\\anaconda3\\Lib\\site-packages\\pandas\\core\\algorithms.py:1814\u001b[0m, in \u001b[0;36mmap_array\u001b[1;34m(arr, mapper, na_action, convert)\u001b[0m\n\u001b[0;32m   1812\u001b[0m values \u001b[38;5;241m=\u001b[39m arr\u001b[38;5;241m.\u001b[39mastype(\u001b[38;5;28mobject\u001b[39m, copy\u001b[38;5;241m=\u001b[39m\u001b[38;5;28;01mFalse\u001b[39;00m)\n\u001b[0;32m   1813\u001b[0m \u001b[38;5;28;01mif\u001b[39;00m na_action \u001b[38;5;129;01mis\u001b[39;00m \u001b[38;5;28;01mNone\u001b[39;00m:\n\u001b[1;32m-> 1814\u001b[0m     \u001b[38;5;28;01mreturn\u001b[39;00m lib\u001b[38;5;241m.\u001b[39mmap_infer(values, mapper, convert\u001b[38;5;241m=\u001b[39mconvert)\n\u001b[0;32m   1815\u001b[0m \u001b[38;5;28;01melse\u001b[39;00m:\n\u001b[0;32m   1816\u001b[0m     \u001b[38;5;28;01mreturn\u001b[39;00m lib\u001b[38;5;241m.\u001b[39mmap_infer_mask(\n\u001b[0;32m   1817\u001b[0m         values, mapper, mask\u001b[38;5;241m=\u001b[39misna(values)\u001b[38;5;241m.\u001b[39mview(np\u001b[38;5;241m.\u001b[39muint8), convert\u001b[38;5;241m=\u001b[39mconvert\n\u001b[0;32m   1818\u001b[0m     )\n",
      "File \u001b[1;32mlib.pyx:2926\u001b[0m, in \u001b[0;36mpandas._libs.lib.map_infer\u001b[1;34m()\u001b[0m\n",
      "\u001b[1;31mTypeError\u001b[0m: loop of ufunc does not support argument 0 of type Zero which has no callable sqrt method"
     ]
    }
   ],
   "source": [
    "# Usando 10 mm de raio\n",
    "radius = 1\n",
    "# Análise de vizinhos é no espaço operacional \n",
    "attr_neighbors = ['p_x','p_y','p_z']\n",
    "# O critério de escolha é no espaço das juntas\n",
    "attr_redundancy = ['theta_2','theta_3','theta_4','theta_5']\n",
    "\n",
    "dataset_1mm = dataprocessing.remove_redundancy(dataset,radius,attr_neighbors, attr_redundancy)\n"
   ]
  }
 ],
 "metadata": {
  "kernelspec": {
   "display_name": "base",
   "language": "python",
   "name": "python3"
  },
  "language_info": {
   "codemirror_mode": {
    "name": "ipython",
    "version": 3
   },
   "file_extension": ".py",
   "mimetype": "text/x-python",
   "name": "python",
   "nbconvert_exporter": "python",
   "pygments_lexer": "ipython3",
   "version": "3.11.7"
  }
 },
 "nbformat": 4,
 "nbformat_minor": 2
}
