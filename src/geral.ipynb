{
 "cells": [
  {
   "cell_type": "code",
   "execution_count": 2,
   "metadata": {},
   "outputs": [],
   "source": [
    "from kinematicsrobotics import forwardkinematics as forward\n",
    "from kinematicsrobotics  import dataprocessing\n",
    "from kinematicsrobotics  import plot\n",
    "from kinematicsrobotics  import spacemapping\n",
    "import pandas as pd\n",
    "import numpy as np"
   ]
  },
  {
   "cell_type": "code",
   "execution_count": 3,
   "metadata": {},
   "outputs": [],
   "source": [
    "# Modelagem da cinemática direta usando Denavit-hartenberg\n",
    "Elos = [['theta_1',10,0,90,0],\n",
    "        ['theta_2',0,18,180,0],\n",
    "        ['theta_3',0,18,-180,0],\n",
    "        ['theta_4',0,0,90,90],\n",
    "        ['theta_5',18,0,0,0]\n",
    "]\n",
    "\n",
    "robo = forward.Robo(\"Robo\",Elos)\n",
    "#print(robo.joinName)"
   ]
  },
  {
   "cell_type": "code",
   "execution_count": null,
   "metadata": {},
   "outputs": [],
   "source": [
    "# Mapeamento do espaço das juntas e o espaço operacional\n",
    "joins = [[0, 10],[0, 10],[0, 10],[0, 10],[0, 0]]\n",
    "steps = [10, joins[1][1]//2, joins[2][1]//2, joins[3][1]//2, 1]\n",
    "\n",
    "dataset = spacemapping.mapping(robo,joins,steps)\n",
    "# print(dataset)\n",
    "# print(dataset.columns.t)"
   ]
  },
  {
   "cell_type": "code",
   "execution_count": null,
   "metadata": {},
   "outputs": [],
   "source": [
    "## Altura negativa\n",
    "height = 0\n",
    "dataset = dataprocessing.remove_height(dataset,height)\n",
    "\n",
    "# print(dataset.columns.tolist())\n",
    "\n",
    "## Elos negativos\n",
    "Elos = [['theta_1',10,0,90,0],\n",
    "        ['theta_2',0,18,180,0],\n",
    "        ['theta_3',0,18,-180,0]\n",
    "        ]\n",
    "\n",
    "dataset = dataprocessing.remove_height_join(dataset,Elos,'bot',['theta_1','theta_2','theta_3'],height)"
   ]
  },
  {
   "cell_type": "code",
   "execution_count": null,
   "metadata": {},
   "outputs": [],
   "source": [
    "# Usando 10 mm de raio\n",
    "radius = 1\n",
    "# Análise de vizinhos é no espaço operacional \n",
    "attr_neighbors = ['p_x','p_y','p_z']\n",
    "# O critério de escolha é no espaço das juntas\n",
    "attr_redundancy = ['theta_2','theta_3','theta_4','theta_5']\n",
    "# remove as redundâncias\n",
    "\n",
    "def euclidean_distance(sample, dataframe):\n",
    "    distances = []\n",
    "    for index, row in dataframe.iterrows():\n",
    "        # Calcular a distância euclidiana entre a amostra e a linha atual\n",
    "        distance = np.linalg.norm(sample - row)\n",
    "        distances.append(distance)\n",
    "    return distances\n",
    "\n",
    "amostra = dataset.loc[0]\n",
    "\n",
    "a = euclidean_distance(amostra, dataset)\n",
    "\n",
    "print(a)\n",
    "#dataset_1mm = dataprocessing.remove_redundancy(dataset,radius,attr_neighbors, attr_redundancy)\n",
    "\n",
    "\n",
    "\n",
    "#amostra = np.array(amostra[attr_neighbors])\n",
    "# print(amostra[attr_neighbors])\n",
    "diferenca = (dataset[attr_neighbors] - amostra[attr_neighbors]) ** 2\n",
    "#print(type(diferenca.sum(axis=1)))\n",
    "#.apply(np.sqrt)\n",
    "# df = pd.DataFrame(diferenca.sum(axis=1),columns=['Distâncias'])\n",
    "# def safe_sqrt(x):\n",
    "#     if x == 0:\n",
    "#         return 0  # Se o valor for zero, retornar zero\n",
    "#     else:\n",
    "#         return np.sqrt(x)\n",
    "    \n",
    "print(type(diferenca['p_x'].loc[0]))\n",
    "# print(df.map(safe_sqrt))\n",
    "\n"
   ]
  },
  {
   "cell_type": "code",
   "execution_count": null,
   "metadata": {},
   "outputs": [],
   "source": []
  }
 ],
 "metadata": {
  "kernelspec": {
   "display_name": "base",
   "language": "python",
   "name": "python3"
  },
  "language_info": {
   "codemirror_mode": {
    "name": "ipython",
    "version": 3
   },
   "file_extension": ".py",
   "mimetype": "text/x-python",
   "name": "python",
   "nbconvert_exporter": "python",
   "pygments_lexer": "ipython3",
   "version": "3.11.7"
  }
 },
 "nbformat": 4,
 "nbformat_minor": 2
}
